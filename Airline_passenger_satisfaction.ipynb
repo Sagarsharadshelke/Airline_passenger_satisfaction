{
 "cells": [
  {
   "cell_type": "markdown",
   "id": "df2d84a9",
   "metadata": {},
   "source": [
    "# import libraries"
   ]
  },
  {
   "cell_type": "code",
   "execution_count": 1,
   "id": "7c7c2a87",
   "metadata": {},
   "outputs": [],
   "source": [
    "import pandas as pd\n",
    "import numpy as np\n",
    "from sklearn.preprocessing import MinMaxScaler,StandardScaler,LabelEncoder,OneHotEncoder\n",
    "from sklearn.model_selection import train_test_split,GridSearchCV,RandomizedSearchCV\n",
    "import seaborn as sns\n",
    "import matplotlib.pyplot as plt\n",
    "\n",
    "import warnings\n",
    "warnings.filterwarnings('ignore')"
   ]
  },
  {
   "cell_type": "code",
   "execution_count": 2,
   "id": "284a6e9c",
   "metadata": {},
   "outputs": [],
   "source": [
    "from sklearn.metrics import accuracy_score,classification_report,confusion_matrix"
   ]
  },
  {
   "cell_type": "markdown",
   "id": "e5c51be9",
   "metadata": {},
   "source": [
    "# Train Data"
   ]
  },
  {
   "cell_type": "markdown",
   "id": "d441d6de",
   "metadata": {},
   "source": [
    "# 1) Problem Statement"
   ]
  },
  {
   "cell_type": "markdown",
   "id": "94e483fa",
   "metadata": {},
   "source": [
    "Aim: Predict the airline passengers satisfaction.  \n",
    "\n",
    "Problem statement: \n",
    "Predict whether the airline passengers are satisfied or not satisfied with the journey and service provided by airline as per the rating given by the passengers, also predict the factor that are highly correlated to the satisfied and dissatisfied for passenger.\n",
    "\n",
    "Domain: Travel\n"
   ]
  },
  {
   "cell_type": "markdown",
   "id": "8acdcdc0",
   "metadata": {},
   "source": [
    "# 2) Data Gathering"
   ]
  },
  {
   "cell_type": "code",
   "execution_count": 3,
   "id": "9f87a40b",
   "metadata": {},
   "outputs": [
    {
     "data": {
      "text/html": [
       "<div>\n",
       "<style scoped>\n",
       "    .dataframe tbody tr th:only-of-type {\n",
       "        vertical-align: middle;\n",
       "    }\n",
       "\n",
       "    .dataframe tbody tr th {\n",
       "        vertical-align: top;\n",
       "    }\n",
       "\n",
       "    .dataframe thead th {\n",
       "        text-align: right;\n",
       "    }\n",
       "</style>\n",
       "<table border=\"1\" class=\"dataframe\">\n",
       "  <thead>\n",
       "    <tr style=\"text-align: right;\">\n",
       "      <th></th>\n",
       "      <th>Unnamed: 0</th>\n",
       "      <th>id</th>\n",
       "      <th>Gender</th>\n",
       "      <th>Customer Type</th>\n",
       "      <th>Age</th>\n",
       "      <th>Type of Travel</th>\n",
       "      <th>Class</th>\n",
       "      <th>Flight Distance</th>\n",
       "      <th>Inflight wifi service</th>\n",
       "      <th>Departure/Arrival time convenient</th>\n",
       "      <th>...</th>\n",
       "      <th>Inflight entertainment</th>\n",
       "      <th>On-board service</th>\n",
       "      <th>Leg room service</th>\n",
       "      <th>Baggage handling</th>\n",
       "      <th>Checkin service</th>\n",
       "      <th>Inflight service</th>\n",
       "      <th>Cleanliness</th>\n",
       "      <th>Departure Delay in Minutes</th>\n",
       "      <th>Arrival Delay in Minutes</th>\n",
       "      <th>satisfaction</th>\n",
       "    </tr>\n",
       "  </thead>\n",
       "  <tbody>\n",
       "    <tr>\n",
       "      <th>0</th>\n",
       "      <td>0</td>\n",
       "      <td>70172</td>\n",
       "      <td>Male</td>\n",
       "      <td>Loyal Customer</td>\n",
       "      <td>13</td>\n",
       "      <td>Personal Travel</td>\n",
       "      <td>Eco Plus</td>\n",
       "      <td>460</td>\n",
       "      <td>3</td>\n",
       "      <td>4</td>\n",
       "      <td>...</td>\n",
       "      <td>5</td>\n",
       "      <td>4</td>\n",
       "      <td>3</td>\n",
       "      <td>4</td>\n",
       "      <td>4</td>\n",
       "      <td>5</td>\n",
       "      <td>5</td>\n",
       "      <td>25</td>\n",
       "      <td>18.0</td>\n",
       "      <td>neutral or dissatisfied</td>\n",
       "    </tr>\n",
       "    <tr>\n",
       "      <th>1</th>\n",
       "      <td>1</td>\n",
       "      <td>5047</td>\n",
       "      <td>Male</td>\n",
       "      <td>disloyal Customer</td>\n",
       "      <td>25</td>\n",
       "      <td>Business travel</td>\n",
       "      <td>Business</td>\n",
       "      <td>235</td>\n",
       "      <td>3</td>\n",
       "      <td>2</td>\n",
       "      <td>...</td>\n",
       "      <td>1</td>\n",
       "      <td>1</td>\n",
       "      <td>5</td>\n",
       "      <td>3</td>\n",
       "      <td>1</td>\n",
       "      <td>4</td>\n",
       "      <td>1</td>\n",
       "      <td>1</td>\n",
       "      <td>6.0</td>\n",
       "      <td>neutral or dissatisfied</td>\n",
       "    </tr>\n",
       "    <tr>\n",
       "      <th>2</th>\n",
       "      <td>2</td>\n",
       "      <td>110028</td>\n",
       "      <td>Female</td>\n",
       "      <td>Loyal Customer</td>\n",
       "      <td>26</td>\n",
       "      <td>Business travel</td>\n",
       "      <td>Business</td>\n",
       "      <td>1142</td>\n",
       "      <td>2</td>\n",
       "      <td>2</td>\n",
       "      <td>...</td>\n",
       "      <td>5</td>\n",
       "      <td>4</td>\n",
       "      <td>3</td>\n",
       "      <td>4</td>\n",
       "      <td>4</td>\n",
       "      <td>4</td>\n",
       "      <td>5</td>\n",
       "      <td>0</td>\n",
       "      <td>0.0</td>\n",
       "      <td>satisfied</td>\n",
       "    </tr>\n",
       "    <tr>\n",
       "      <th>3</th>\n",
       "      <td>3</td>\n",
       "      <td>24026</td>\n",
       "      <td>Female</td>\n",
       "      <td>Loyal Customer</td>\n",
       "      <td>25</td>\n",
       "      <td>Business travel</td>\n",
       "      <td>Business</td>\n",
       "      <td>562</td>\n",
       "      <td>2</td>\n",
       "      <td>5</td>\n",
       "      <td>...</td>\n",
       "      <td>2</td>\n",
       "      <td>2</td>\n",
       "      <td>5</td>\n",
       "      <td>3</td>\n",
       "      <td>1</td>\n",
       "      <td>4</td>\n",
       "      <td>2</td>\n",
       "      <td>11</td>\n",
       "      <td>9.0</td>\n",
       "      <td>neutral or dissatisfied</td>\n",
       "    </tr>\n",
       "    <tr>\n",
       "      <th>4</th>\n",
       "      <td>4</td>\n",
       "      <td>119299</td>\n",
       "      <td>Male</td>\n",
       "      <td>Loyal Customer</td>\n",
       "      <td>61</td>\n",
       "      <td>Business travel</td>\n",
       "      <td>Business</td>\n",
       "      <td>214</td>\n",
       "      <td>3</td>\n",
       "      <td>3</td>\n",
       "      <td>...</td>\n",
       "      <td>3</td>\n",
       "      <td>3</td>\n",
       "      <td>4</td>\n",
       "      <td>4</td>\n",
       "      <td>3</td>\n",
       "      <td>3</td>\n",
       "      <td>3</td>\n",
       "      <td>0</td>\n",
       "      <td>0.0</td>\n",
       "      <td>satisfied</td>\n",
       "    </tr>\n",
       "    <tr>\n",
       "      <th>...</th>\n",
       "      <td>...</td>\n",
       "      <td>...</td>\n",
       "      <td>...</td>\n",
       "      <td>...</td>\n",
       "      <td>...</td>\n",
       "      <td>...</td>\n",
       "      <td>...</td>\n",
       "      <td>...</td>\n",
       "      <td>...</td>\n",
       "      <td>...</td>\n",
       "      <td>...</td>\n",
       "      <td>...</td>\n",
       "      <td>...</td>\n",
       "      <td>...</td>\n",
       "      <td>...</td>\n",
       "      <td>...</td>\n",
       "      <td>...</td>\n",
       "      <td>...</td>\n",
       "      <td>...</td>\n",
       "      <td>...</td>\n",
       "      <td>...</td>\n",
       "    </tr>\n",
       "    <tr>\n",
       "      <th>103899</th>\n",
       "      <td>103899</td>\n",
       "      <td>94171</td>\n",
       "      <td>Female</td>\n",
       "      <td>disloyal Customer</td>\n",
       "      <td>23</td>\n",
       "      <td>Business travel</td>\n",
       "      <td>Eco</td>\n",
       "      <td>192</td>\n",
       "      <td>2</td>\n",
       "      <td>1</td>\n",
       "      <td>...</td>\n",
       "      <td>2</td>\n",
       "      <td>3</td>\n",
       "      <td>1</td>\n",
       "      <td>4</td>\n",
       "      <td>2</td>\n",
       "      <td>3</td>\n",
       "      <td>2</td>\n",
       "      <td>3</td>\n",
       "      <td>0.0</td>\n",
       "      <td>neutral or dissatisfied</td>\n",
       "    </tr>\n",
       "    <tr>\n",
       "      <th>103900</th>\n",
       "      <td>103900</td>\n",
       "      <td>73097</td>\n",
       "      <td>Male</td>\n",
       "      <td>Loyal Customer</td>\n",
       "      <td>49</td>\n",
       "      <td>Business travel</td>\n",
       "      <td>Business</td>\n",
       "      <td>2347</td>\n",
       "      <td>4</td>\n",
       "      <td>4</td>\n",
       "      <td>...</td>\n",
       "      <td>5</td>\n",
       "      <td>5</td>\n",
       "      <td>5</td>\n",
       "      <td>5</td>\n",
       "      <td>5</td>\n",
       "      <td>5</td>\n",
       "      <td>4</td>\n",
       "      <td>0</td>\n",
       "      <td>0.0</td>\n",
       "      <td>satisfied</td>\n",
       "    </tr>\n",
       "    <tr>\n",
       "      <th>103901</th>\n",
       "      <td>103901</td>\n",
       "      <td>68825</td>\n",
       "      <td>Male</td>\n",
       "      <td>disloyal Customer</td>\n",
       "      <td>30</td>\n",
       "      <td>Business travel</td>\n",
       "      <td>Business</td>\n",
       "      <td>1995</td>\n",
       "      <td>1</td>\n",
       "      <td>1</td>\n",
       "      <td>...</td>\n",
       "      <td>4</td>\n",
       "      <td>3</td>\n",
       "      <td>2</td>\n",
       "      <td>4</td>\n",
       "      <td>5</td>\n",
       "      <td>5</td>\n",
       "      <td>4</td>\n",
       "      <td>7</td>\n",
       "      <td>14.0</td>\n",
       "      <td>neutral or dissatisfied</td>\n",
       "    </tr>\n",
       "    <tr>\n",
       "      <th>103902</th>\n",
       "      <td>103902</td>\n",
       "      <td>54173</td>\n",
       "      <td>Female</td>\n",
       "      <td>disloyal Customer</td>\n",
       "      <td>22</td>\n",
       "      <td>Business travel</td>\n",
       "      <td>Eco</td>\n",
       "      <td>1000</td>\n",
       "      <td>1</td>\n",
       "      <td>1</td>\n",
       "      <td>...</td>\n",
       "      <td>1</td>\n",
       "      <td>4</td>\n",
       "      <td>5</td>\n",
       "      <td>1</td>\n",
       "      <td>5</td>\n",
       "      <td>4</td>\n",
       "      <td>1</td>\n",
       "      <td>0</td>\n",
       "      <td>0.0</td>\n",
       "      <td>neutral or dissatisfied</td>\n",
       "    </tr>\n",
       "    <tr>\n",
       "      <th>103903</th>\n",
       "      <td>103903</td>\n",
       "      <td>62567</td>\n",
       "      <td>Male</td>\n",
       "      <td>Loyal Customer</td>\n",
       "      <td>27</td>\n",
       "      <td>Business travel</td>\n",
       "      <td>Business</td>\n",
       "      <td>1723</td>\n",
       "      <td>1</td>\n",
       "      <td>3</td>\n",
       "      <td>...</td>\n",
       "      <td>1</td>\n",
       "      <td>1</td>\n",
       "      <td>1</td>\n",
       "      <td>4</td>\n",
       "      <td>4</td>\n",
       "      <td>3</td>\n",
       "      <td>1</td>\n",
       "      <td>0</td>\n",
       "      <td>0.0</td>\n",
       "      <td>neutral or dissatisfied</td>\n",
       "    </tr>\n",
       "  </tbody>\n",
       "</table>\n",
       "<p>103904 rows × 25 columns</p>\n",
       "</div>"
      ],
      "text/plain": [
       "        Unnamed: 0      id  Gender      Customer Type  Age   Type of Travel  \\\n",
       "0                0   70172    Male     Loyal Customer   13  Personal Travel   \n",
       "1                1    5047    Male  disloyal Customer   25  Business travel   \n",
       "2                2  110028  Female     Loyal Customer   26  Business travel   \n",
       "3                3   24026  Female     Loyal Customer   25  Business travel   \n",
       "4                4  119299    Male     Loyal Customer   61  Business travel   \n",
       "...            ...     ...     ...                ...  ...              ...   \n",
       "103899      103899   94171  Female  disloyal Customer   23  Business travel   \n",
       "103900      103900   73097    Male     Loyal Customer   49  Business travel   \n",
       "103901      103901   68825    Male  disloyal Customer   30  Business travel   \n",
       "103902      103902   54173  Female  disloyal Customer   22  Business travel   \n",
       "103903      103903   62567    Male     Loyal Customer   27  Business travel   \n",
       "\n",
       "           Class  Flight Distance  Inflight wifi service  \\\n",
       "0       Eco Plus              460                      3   \n",
       "1       Business              235                      3   \n",
       "2       Business             1142                      2   \n",
       "3       Business              562                      2   \n",
       "4       Business              214                      3   \n",
       "...          ...              ...                    ...   \n",
       "103899       Eco              192                      2   \n",
       "103900  Business             2347                      4   \n",
       "103901  Business             1995                      1   \n",
       "103902       Eco             1000                      1   \n",
       "103903  Business             1723                      1   \n",
       "\n",
       "        Departure/Arrival time convenient  ...  Inflight entertainment  \\\n",
       "0                                       4  ...                       5   \n",
       "1                                       2  ...                       1   \n",
       "2                                       2  ...                       5   \n",
       "3                                       5  ...                       2   \n",
       "4                                       3  ...                       3   \n",
       "...                                   ...  ...                     ...   \n",
       "103899                                  1  ...                       2   \n",
       "103900                                  4  ...                       5   \n",
       "103901                                  1  ...                       4   \n",
       "103902                                  1  ...                       1   \n",
       "103903                                  3  ...                       1   \n",
       "\n",
       "        On-board service  Leg room service  Baggage handling  Checkin service  \\\n",
       "0                      4                 3                 4                4   \n",
       "1                      1                 5                 3                1   \n",
       "2                      4                 3                 4                4   \n",
       "3                      2                 5                 3                1   \n",
       "4                      3                 4                 4                3   \n",
       "...                  ...               ...               ...              ...   \n",
       "103899                 3                 1                 4                2   \n",
       "103900                 5                 5                 5                5   \n",
       "103901                 3                 2                 4                5   \n",
       "103902                 4                 5                 1                5   \n",
       "103903                 1                 1                 4                4   \n",
       "\n",
       "        Inflight service  Cleanliness  Departure Delay in Minutes  \\\n",
       "0                      5            5                          25   \n",
       "1                      4            1                           1   \n",
       "2                      4            5                           0   \n",
       "3                      4            2                          11   \n",
       "4                      3            3                           0   \n",
       "...                  ...          ...                         ...   \n",
       "103899                 3            2                           3   \n",
       "103900                 5            4                           0   \n",
       "103901                 5            4                           7   \n",
       "103902                 4            1                           0   \n",
       "103903                 3            1                           0   \n",
       "\n",
       "        Arrival Delay in Minutes             satisfaction  \n",
       "0                           18.0  neutral or dissatisfied  \n",
       "1                            6.0  neutral or dissatisfied  \n",
       "2                            0.0                satisfied  \n",
       "3                            9.0  neutral or dissatisfied  \n",
       "4                            0.0                satisfied  \n",
       "...                          ...                      ...  \n",
       "103899                       0.0  neutral or dissatisfied  \n",
       "103900                       0.0                satisfied  \n",
       "103901                      14.0  neutral or dissatisfied  \n",
       "103902                       0.0  neutral or dissatisfied  \n",
       "103903                       0.0  neutral or dissatisfied  \n",
       "\n",
       "[103904 rows x 25 columns]"
      ]
     },
     "execution_count": 3,
     "metadata": {},
     "output_type": "execute_result"
    }
   ],
   "source": [
    "df = pd.read_csv('train.csv')\n",
    "df"
   ]
  },
  {
   "cell_type": "markdown",
   "id": "537c8971",
   "metadata": {},
   "source": [
    "# 3) Exploratory Data Analysis"
   ]
  },
  {
   "cell_type": "code",
   "execution_count": 4,
   "id": "f477be80",
   "metadata": {
    "scrolled": false
   },
   "outputs": [
    {
     "name": "stdout",
     "output_type": "stream",
     "text": [
      "<class 'pandas.core.frame.DataFrame'>\n",
      "RangeIndex: 103904 entries, 0 to 103903\n",
      "Data columns (total 25 columns):\n",
      " #   Column                             Non-Null Count   Dtype  \n",
      "---  ------                             --------------   -----  \n",
      " 0   Unnamed: 0                         103904 non-null  int64  \n",
      " 1   id                                 103904 non-null  int64  \n",
      " 2   Gender                             103904 non-null  object \n",
      " 3   Customer Type                      103904 non-null  object \n",
      " 4   Age                                103904 non-null  int64  \n",
      " 5   Type of Travel                     103904 non-null  object \n",
      " 6   Class                              103904 non-null  object \n",
      " 7   Flight Distance                    103904 non-null  int64  \n",
      " 8   Inflight wifi service              103904 non-null  int64  \n",
      " 9   Departure/Arrival time convenient  103904 non-null  int64  \n",
      " 10  Ease of Online booking             103904 non-null  int64  \n",
      " 11  Gate location                      103904 non-null  int64  \n",
      " 12  Food and drink                     103904 non-null  int64  \n",
      " 13  Online boarding                    103904 non-null  int64  \n",
      " 14  Seat comfort                       103904 non-null  int64  \n",
      " 15  Inflight entertainment             103904 non-null  int64  \n",
      " 16  On-board service                   103904 non-null  int64  \n",
      " 17  Leg room service                   103904 non-null  int64  \n",
      " 18  Baggage handling                   103904 non-null  int64  \n",
      " 19  Checkin service                    103904 non-null  int64  \n",
      " 20  Inflight service                   103904 non-null  int64  \n",
      " 21  Cleanliness                        103904 non-null  int64  \n",
      " 22  Departure Delay in Minutes         103904 non-null  int64  \n",
      " 23  Arrival Delay in Minutes           103594 non-null  float64\n",
      " 24  satisfaction                       103904 non-null  object \n",
      "dtypes: float64(1), int64(19), object(5)\n",
      "memory usage: 19.8+ MB\n"
     ]
    }
   ],
   "source": [
    "df.info()"
   ]
  },
  {
   "cell_type": "markdown",
   "id": "84391225",
   "metadata": {},
   "source": [
    "### Identify the missing value"
   ]
  },
  {
   "cell_type": "code",
   "execution_count": 5,
   "id": "7bbf266f",
   "metadata": {},
   "outputs": [
    {
     "data": {
      "text/plain": [
       "Unnamed: 0                             0\n",
       "id                                     0\n",
       "Gender                                 0\n",
       "Customer Type                          0\n",
       "Age                                    0\n",
       "Type of Travel                         0\n",
       "Class                                  0\n",
       "Flight Distance                        0\n",
       "Inflight wifi service                  0\n",
       "Departure/Arrival time convenient      0\n",
       "Ease of Online booking                 0\n",
       "Gate location                          0\n",
       "Food and drink                         0\n",
       "Online boarding                        0\n",
       "Seat comfort                           0\n",
       "Inflight entertainment                 0\n",
       "On-board service                       0\n",
       "Leg room service                       0\n",
       "Baggage handling                       0\n",
       "Checkin service                        0\n",
       "Inflight service                       0\n",
       "Cleanliness                            0\n",
       "Departure Delay in Minutes             0\n",
       "Arrival Delay in Minutes             310\n",
       "satisfaction                           0\n",
       "dtype: int64"
      ]
     },
     "execution_count": 5,
     "metadata": {},
     "output_type": "execute_result"
    }
   ],
   "source": [
    "df.isna().sum()"
   ]
  },
  {
   "cell_type": "code",
   "execution_count": 6,
   "id": "a36244e9",
   "metadata": {},
   "outputs": [
    {
     "data": {
      "text/html": [
       "<div>\n",
       "<style scoped>\n",
       "    .dataframe tbody tr th:only-of-type {\n",
       "        vertical-align: middle;\n",
       "    }\n",
       "\n",
       "    .dataframe tbody tr th {\n",
       "        vertical-align: top;\n",
       "    }\n",
       "\n",
       "    .dataframe thead th {\n",
       "        text-align: right;\n",
       "    }\n",
       "</style>\n",
       "<table border=\"1\" class=\"dataframe\">\n",
       "  <thead>\n",
       "    <tr style=\"text-align: right;\">\n",
       "      <th></th>\n",
       "      <th>Feature_name</th>\n",
       "      <th>Missing_values</th>\n",
       "    </tr>\n",
       "  </thead>\n",
       "  <tbody>\n",
       "    <tr>\n",
       "      <th>Unnamed: 0</th>\n",
       "      <td>Unnamed: 0</td>\n",
       "      <td>0</td>\n",
       "    </tr>\n",
       "    <tr>\n",
       "      <th>id</th>\n",
       "      <td>id</td>\n",
       "      <td>0</td>\n",
       "    </tr>\n",
       "    <tr>\n",
       "      <th>Gender</th>\n",
       "      <td>Gender</td>\n",
       "      <td>0</td>\n",
       "    </tr>\n",
       "    <tr>\n",
       "      <th>Customer Type</th>\n",
       "      <td>Customer Type</td>\n",
       "      <td>0</td>\n",
       "    </tr>\n",
       "    <tr>\n",
       "      <th>Age</th>\n",
       "      <td>Age</td>\n",
       "      <td>0</td>\n",
       "    </tr>\n",
       "    <tr>\n",
       "      <th>Type of Travel</th>\n",
       "      <td>Type of Travel</td>\n",
       "      <td>0</td>\n",
       "    </tr>\n",
       "    <tr>\n",
       "      <th>Class</th>\n",
       "      <td>Class</td>\n",
       "      <td>0</td>\n",
       "    </tr>\n",
       "    <tr>\n",
       "      <th>Flight Distance</th>\n",
       "      <td>Flight Distance</td>\n",
       "      <td>0</td>\n",
       "    </tr>\n",
       "    <tr>\n",
       "      <th>Inflight wifi service</th>\n",
       "      <td>Inflight wifi service</td>\n",
       "      <td>0</td>\n",
       "    </tr>\n",
       "    <tr>\n",
       "      <th>Departure/Arrival time convenient</th>\n",
       "      <td>Departure/Arrival time convenient</td>\n",
       "      <td>0</td>\n",
       "    </tr>\n",
       "    <tr>\n",
       "      <th>Ease of Online booking</th>\n",
       "      <td>Ease of Online booking</td>\n",
       "      <td>0</td>\n",
       "    </tr>\n",
       "    <tr>\n",
       "      <th>Gate location</th>\n",
       "      <td>Gate location</td>\n",
       "      <td>0</td>\n",
       "    </tr>\n",
       "    <tr>\n",
       "      <th>Food and drink</th>\n",
       "      <td>Food and drink</td>\n",
       "      <td>0</td>\n",
       "    </tr>\n",
       "    <tr>\n",
       "      <th>Online boarding</th>\n",
       "      <td>Online boarding</td>\n",
       "      <td>0</td>\n",
       "    </tr>\n",
       "    <tr>\n",
       "      <th>Seat comfort</th>\n",
       "      <td>Seat comfort</td>\n",
       "      <td>0</td>\n",
       "    </tr>\n",
       "    <tr>\n",
       "      <th>Inflight entertainment</th>\n",
       "      <td>Inflight entertainment</td>\n",
       "      <td>0</td>\n",
       "    </tr>\n",
       "    <tr>\n",
       "      <th>On-board service</th>\n",
       "      <td>On-board service</td>\n",
       "      <td>0</td>\n",
       "    </tr>\n",
       "    <tr>\n",
       "      <th>Leg room service</th>\n",
       "      <td>Leg room service</td>\n",
       "      <td>0</td>\n",
       "    </tr>\n",
       "    <tr>\n",
       "      <th>Baggage handling</th>\n",
       "      <td>Baggage handling</td>\n",
       "      <td>0</td>\n",
       "    </tr>\n",
       "    <tr>\n",
       "      <th>Checkin service</th>\n",
       "      <td>Checkin service</td>\n",
       "      <td>0</td>\n",
       "    </tr>\n",
       "    <tr>\n",
       "      <th>Inflight service</th>\n",
       "      <td>Inflight service</td>\n",
       "      <td>0</td>\n",
       "    </tr>\n",
       "    <tr>\n",
       "      <th>Cleanliness</th>\n",
       "      <td>Cleanliness</td>\n",
       "      <td>0</td>\n",
       "    </tr>\n",
       "    <tr>\n",
       "      <th>Departure Delay in Minutes</th>\n",
       "      <td>Departure Delay in Minutes</td>\n",
       "      <td>0</td>\n",
       "    </tr>\n",
       "    <tr>\n",
       "      <th>Arrival Delay in Minutes</th>\n",
       "      <td>Arrival Delay in Minutes</td>\n",
       "      <td>310</td>\n",
       "    </tr>\n",
       "    <tr>\n",
       "      <th>satisfaction</th>\n",
       "      <td>satisfaction</td>\n",
       "      <td>0</td>\n",
       "    </tr>\n",
       "  </tbody>\n",
       "</table>\n",
       "</div>"
      ],
      "text/plain": [
       "                                                        Feature_name  \\\n",
       "Unnamed: 0                                                Unnamed: 0   \n",
       "id                                                                id   \n",
       "Gender                                                        Gender   \n",
       "Customer Type                                          Customer Type   \n",
       "Age                                                              Age   \n",
       "Type of Travel                                        Type of Travel   \n",
       "Class                                                          Class   \n",
       "Flight Distance                                      Flight Distance   \n",
       "Inflight wifi service                          Inflight wifi service   \n",
       "Departure/Arrival time convenient  Departure/Arrival time convenient   \n",
       "Ease of Online booking                        Ease of Online booking   \n",
       "Gate location                                          Gate location   \n",
       "Food and drink                                        Food and drink   \n",
       "Online boarding                                      Online boarding   \n",
       "Seat comfort                                            Seat comfort   \n",
       "Inflight entertainment                        Inflight entertainment   \n",
       "On-board service                                    On-board service   \n",
       "Leg room service                                    Leg room service   \n",
       "Baggage handling                                    Baggage handling   \n",
       "Checkin service                                      Checkin service   \n",
       "Inflight service                                    Inflight service   \n",
       "Cleanliness                                              Cleanliness   \n",
       "Departure Delay in Minutes                Departure Delay in Minutes   \n",
       "Arrival Delay in Minutes                    Arrival Delay in Minutes   \n",
       "satisfaction                                            satisfaction   \n",
       "\n",
       "                                   Missing_values  \n",
       "Unnamed: 0                                      0  \n",
       "id                                              0  \n",
       "Gender                                          0  \n",
       "Customer Type                                   0  \n",
       "Age                                             0  \n",
       "Type of Travel                                  0  \n",
       "Class                                           0  \n",
       "Flight Distance                                 0  \n",
       "Inflight wifi service                           0  \n",
       "Departure/Arrival time convenient               0  \n",
       "Ease of Online booking                          0  \n",
       "Gate location                                   0  \n",
       "Food and drink                                  0  \n",
       "Online boarding                                 0  \n",
       "Seat comfort                                    0  \n",
       "Inflight entertainment                          0  \n",
       "On-board service                                0  \n",
       "Leg room service                                0  \n",
       "Baggage handling                                0  \n",
       "Checkin service                                 0  \n",
       "Inflight service                                0  \n",
       "Cleanliness                                     0  \n",
       "Departure Delay in Minutes                      0  \n",
       "Arrival Delay in Minutes                      310  \n",
       "satisfaction                                    0  "
      ]
     },
     "execution_count": 6,
     "metadata": {},
     "output_type": "execute_result"
    }
   ],
   "source": [
    "df_miss_value = pd.DataFrame({\n",
    "    'Feature_name':df.columns,\n",
    "    'Missing_values':df.isna().sum()\n",
    "})\n",
    "df_miss_value"
   ]
  },
  {
   "cell_type": "code",
   "execution_count": 7,
   "id": "0f61e794",
   "metadata": {
    "scrolled": true
   },
   "outputs": [
    {
     "data": {
      "image/png": "[encoded data removed]",
      "text/plain": [
       "<Figure size 3600x1080 with 1 Axes>"
      ]
     },
     "metadata": {
      "needs_background": "light"
     },
     "output_type": "display_data"
    }
   ],
   "source": [
    "plt.figure(figsize=(50,15))\n",
    "sns.barplot(x = df_miss_value.Feature_name,y=df_miss_value.Missing_values)\n",
    "plt.show()"
   ]
  },
  {
   "cell_type": "code",
   "execution_count": 8,
   "id": "e7df61de",
   "metadata": {},
   "outputs": [
    {
     "data": {
      "text/plain": [
       "310"
      ]
     },
     "execution_count": 8,
     "metadata": {},
     "output_type": "execute_result"
    }
   ],
   "source": [
    "df['Arrival Delay in Minutes'].isna().sum()"
   ]
  },
  {
   "cell_type": "code",
   "execution_count": 9,
   "id": "5fbbd77e",
   "metadata": {},
   "outputs": [
    {
     "data": {
      "text/plain": [
       "['Arrival Delay in Minutes']"
      ]
     },
     "execution_count": 9,
     "metadata": {},
     "output_type": "execute_result"
    }
   ],
   "source": [
    "Missing_value_features = [features for features in df.columns if df[f'{features}'].isna().sum()>0]\n",
    "Missing_value_features"
   ]
  },
  {
   "cell_type": "markdown",
   "id": "0456e86c",
   "metadata": {},
   "source": [
    "- conclusion :\n",
    "- Here only one feature (Arrival Delay in Minutes) having a null values and its a numerical feature"
   ]
  },
  {
   "cell_type": "markdown",
   "id": "8cbc7d7f",
   "metadata": {},
   "source": [
    "### 1) Target feature : satisfaction"
   ]
  },
  {
   "cell_type": "code",
   "execution_count": 10,
   "id": "4087eb53",
   "metadata": {},
   "outputs": [
    {
     "data": {
      "text/plain": [
       "neutral or dissatisfied    58879\n",
       "satisfied                  45025\n",
       "Name: satisfaction, dtype: int64"
      ]
     },
     "execution_count": 10,
     "metadata": {},
     "output_type": "execute_result"
    }
   ],
   "source": [
    "df.satisfaction.value_counts()"
   ]
  },
  {
   "cell_type": "code",
   "execution_count": 11,
   "id": "3f0d4fd7",
   "metadata": {},
   "outputs": [
    {
     "data": {
      "image/png": "[encoded data removed]",
      "text/plain": [
       "<Figure size 432x288 with 1 Axes>"
      ]
     },
     "metadata": {
      "needs_background": "light"
     },
     "output_type": "display_data"
    }
   ],
   "source": [
    "sns.countplot('satisfaction',data = df)\n",
    "plt.show()"
   ]
  },
  {
   "cell_type": "code",
   "execution_count": 12,
   "id": "6feb5721",
   "metadata": {},
   "outputs": [],
   "source": [
    "#conclusion :\n",
    "#     1) Data is in object data type and its a binary class classifications. i.e [neutral or dissatisfied,satisfied]\n",
    "#     2) Data is not inbalance.\n",
    "#     3) There are 45025 people are satisfied and 58879 are not satisfied with the journey and service provided by airline"
   ]
  },
  {
   "cell_type": "code",
   "execution_count": 13,
   "id": "f448661a",
   "metadata": {},
   "outputs": [],
   "source": [
    "# Note : There is no need of Unnamed: 0 and id feature because it is not correlated with Target feature."
   ]
  },
  {
   "cell_type": "markdown",
   "id": "a570ae19",
   "metadata": {},
   "source": [
    "### 2) Gender"
   ]
  },
  {
   "cell_type": "code",
   "execution_count": 14,
   "id": "43dd50d4",
   "metadata": {},
   "outputs": [
    {
     "data": {
      "text/plain": [
       "Female    52727\n",
       "Male      51177\n",
       "Name: Gender, dtype: int64"
      ]
     },
     "execution_count": 14,
     "metadata": {},
     "output_type": "execute_result"
    }
   ],
   "source": [
    "df.Gender.value_counts()"
   ]
  },
  {
   "cell_type": "code",
   "execution_count": 15,
   "id": "131f597d",
   "metadata": {},
   "outputs": [
    {
     "data": {
      "image/png": "[encoded data removed]",
      "text/plain": [
       "<Figure size 432x288 with 1 Axes>"
      ]
     },
     "metadata": {
      "needs_background": "light"
     },
     "output_type": "display_data"
    }
   ],
   "source": [
    "sns.countplot('Gender',data = df)\n",
    "plt.show()"
   ]
  },
  {
   "cell_type": "code",
   "execution_count": 16,
   "id": "224e6e8d",
   "metadata": {},
   "outputs": [],
   "source": [
    "# Conclusion :\n",
    "#     1) Gender features is in object data type and its binary class classification,i.e [Male and Female]\n",
    "#     2) There are 52727 Female and 51177 Males are travelling with airlines."
   ]
  },
  {
   "cell_type": "markdown",
   "id": "35ec2f13",
   "metadata": {},
   "source": [
    "### 3) Customer Type"
   ]
  },
  {
   "cell_type": "code",
   "execution_count": 17,
   "id": "b28a34ab",
   "metadata": {},
   "outputs": [
    {
     "data": {
      "text/plain": [
       "Loyal Customer       84923\n",
       "disloyal Customer    18981\n",
       "Name: Customer Type, dtype: int64"
      ]
     },
     "execution_count": 17,
     "metadata": {},
     "output_type": "execute_result"
    }
   ],
   "source": [
    "df['Customer Type'].value_counts()"
   ]
  },
  {
   "cell_type": "code",
   "execution_count": 18,
   "id": "1d9b9169",
   "metadata": {},
   "outputs": [
    {
     "data": {
      "text/plain": [
       "<AxesSubplot:xlabel='Customer Type', ylabel='count'>"
      ]
     },
     "execution_count": 18,
     "metadata": {},
     "output_type": "execute_result"
    },
    {
     "data": {
      "image/png": "[encoded data removed]",
      "text/plain": [
       "<Figure size 432x288 with 1 Axes>"
      ]
     },
     "metadata": {
      "needs_background": "light"
     },
     "output_type": "display_data"
    }
   ],
   "source": [
    "sns.countplot('Customer Type',data = df)"
   ]
  },
  {
   "cell_type": "code",
   "execution_count": 19,
   "id": "d247bf1d",
   "metadata": {},
   "outputs": [],
   "source": [
    "# conclusion : \n",
    "#     1) Customer Type features is in object data type and its binary class classification,i.e [Loyal Customer and disloyal              Customer].\n",
    "#     2) There are 84923 are Loyal Customers and 18981 are disloyal Customers"
   ]
  },
  {
   "cell_type": "markdown",
   "id": "877b29dd",
   "metadata": {},
   "source": [
    "### 4) Age"
   ]
  },
  {
   "cell_type": "code",
   "execution_count": 20,
   "id": "74aae2b2",
   "metadata": {},
   "outputs": [
    {
     "data": {
      "text/plain": [
       "count    103904.000000\n",
       "mean         39.379706\n",
       "std          15.114964\n",
       "min           7.000000\n",
       "25%          27.000000\n",
       "50%          40.000000\n",
       "75%          51.000000\n",
       "max          85.000000\n",
       "Name: Age, dtype: float64"
      ]
     },
     "execution_count": 20,
     "metadata": {},
     "output_type": "execute_result"
    }
   ],
   "source": [
    "df.Age.describe()"
   ]
  },
  {
   "cell_type": "code",
   "execution_count": 21,
   "id": "4c5d3954",
   "metadata": {},
   "outputs": [
    {
     "data": {
      "image/png": "[encoded data removed]",
      "text/plain": [
       "<Figure size 360x360 with 1 Axes>"
      ]
     },
     "metadata": {
      "needs_background": "light"
     },
     "output_type": "display_data"
    }
   ],
   "source": [
    "plt.figure(figsize=(5,5))\n",
    "sns.kdeplot('Age',data = df)\n",
    "plt.show()"
   ]
  },
  {
   "cell_type": "code",
   "execution_count": 22,
   "id": "cbd77020",
   "metadata": {},
   "outputs": [
    {
     "data": {
      "image/png": "[encoded data removed]",
      "text/plain": [
       "<Figure size 576x576 with 1 Axes>"
      ]
     },
     "metadata": {
      "needs_background": "light"
     },
     "output_type": "display_data"
    }
   ],
   "source": [
    "plt.figure(figsize=(8,8))\n",
    "sns.boxenplot(df['Age'])\n",
    "plt.show()"
   ]
  },
  {
   "cell_type": "markdown",
   "id": "665adb97",
   "metadata": {},
   "source": [
    "#### Hypothesis testing to check normality"
   ]
  },
  {
   "cell_type": "code",
   "execution_count": 23,
   "id": "254ca832",
   "metadata": {},
   "outputs": [],
   "source": [
    "# 1) Shapiro test"
   ]
  },
  {
   "cell_type": "code",
   "execution_count": 24,
   "id": "03fbf9fe",
   "metadata": {},
   "outputs": [],
   "source": [
    "from scipy.stats import shapiro"
   ]
  },
  {
   "cell_type": "code",
   "execution_count": 25,
   "id": "f4fadbf6",
   "metadata": {},
   "outputs": [],
   "source": [
    "def shapiro_test(df):\n",
    "    stat,p_val = shapiro(df)\n",
    "    print('p value is :',p_val)\n",
    "    if p_val>=0.05:\n",
    "        print('Data is normally distributed')\n",
    "  \n",
    "    else:\n",
    "        print('Data is not normally distributed')"
   ]
  },
  {
   "cell_type": "code",
   "execution_count": 26,
   "id": "545108f5",
   "metadata": {},
   "outputs": [
    {
     "name": "stdout",
     "output_type": "stream",
     "text": [
      "p value is : 0.0\n",
      "Data is not normally distributed\n"
     ]
    }
   ],
   "source": [
    "shapiro_test(df['Age'])"
   ]
  },
  {
   "cell_type": "markdown",
   "id": "c793ea63",
   "metadata": {},
   "source": [
    "check wether outliers are present in data or not"
   ]
  },
  {
   "cell_type": "code",
   "execution_count": 27,
   "id": "0a878ec1",
   "metadata": {},
   "outputs": [],
   "source": [
    "# z_score"
   ]
  },
  {
   "cell_type": "code",
   "execution_count": 28,
   "id": "e3a00817",
   "metadata": {},
   "outputs": [],
   "source": [
    "def outliers_(df):\n",
    "    outliers = []\n",
    "    threshold = 3\n",
    "    mean = np.mean(df)\n",
    "    std_deviations = np.std(df)\n",
    "    for x in df:\n",
    "        z_score = (x-mean)/std_deviations\n",
    "        if np.abs(z_score)>threshold:\n",
    "            outliers.append(x)\n",
    "            \n",
    "    return outliers"
   ]
  },
  {
   "cell_type": "code",
   "execution_count": 29,
   "id": "edbe5261",
   "metadata": {},
   "outputs": [
    {
     "data": {
      "text/plain": [
       "[85, 85, 85, 85, 85, 85, 85, 85, 85, 85, 85, 85, 85, 85, 85, 85, 85]"
      ]
     },
     "execution_count": 29,
     "metadata": {},
     "output_type": "execute_result"
    }
   ],
   "source": [
    "outliers_(df['Age'])"
   ]
  },
  {
   "cell_type": "code",
   "execution_count": 30,
   "id": "94a17e76",
   "metadata": {},
   "outputs": [],
   "source": [
    "# conclusion :\n",
    "#     1) On age column the data is not normally distributed.\n",
    "#     2) Outliers are present in data."
   ]
  },
  {
   "cell_type": "markdown",
   "id": "f1fbb019",
   "metadata": {},
   "source": [
    "### 5) Type of Travel"
   ]
  },
  {
   "cell_type": "code",
   "execution_count": 31,
   "id": "45b0f2a5",
   "metadata": {},
   "outputs": [
    {
     "data": {
      "text/plain": [
       "Business travel    71655\n",
       "Personal Travel    32249\n",
       "Name: Type of Travel, dtype: int64"
      ]
     },
     "execution_count": 31,
     "metadata": {},
     "output_type": "execute_result"
    }
   ],
   "source": [
    "df['Type of Travel'].value_counts()"
   ]
  },
  {
   "cell_type": "code",
   "execution_count": 32,
   "id": "f08c5f6c",
   "metadata": {},
   "outputs": [
    {
     "data": {
      "image/png": "[encoded data removed]",
      "text/plain": [
       "<Figure size 432x288 with 1 Axes>"
      ]
     },
     "metadata": {
      "needs_background": "light"
     },
     "output_type": "display_data"
    }
   ],
   "source": [
    "sns.countplot(df['Type of Travel'])\n",
    "plt.show()"
   ]
  },
  {
   "cell_type": "code",
   "execution_count": 33,
   "id": "000b767a",
   "metadata": {},
   "outputs": [],
   "source": [
    "# conclusion :\n",
    "#     1) 'Type of Travel' feature in object data type.\n",
    "#     2) Here, 71655 peoples are travelling for business and 32249 peoples are travelling for personall trip."
   ]
  },
  {
   "cell_type": "markdown",
   "id": "45dbec5a",
   "metadata": {},
   "source": [
    "### 6) Class"
   ]
  },
  {
   "cell_type": "code",
   "execution_count": 34,
   "id": "5a2e0680",
   "metadata": {},
   "outputs": [
    {
     "data": {
      "text/plain": [
       "Business    49665\n",
       "Eco         46745\n",
       "Eco Plus     7494\n",
       "Name: Class, dtype: int64"
      ]
     },
     "execution_count": 34,
     "metadata": {},
     "output_type": "execute_result"
    }
   ],
   "source": [
    "df['Class'].value_counts()"
   ]
  },
  {
   "cell_type": "code",
   "execution_count": 35,
   "id": "8d8a15fb",
   "metadata": {},
   "outputs": [
    {
     "data": {
      "image/png": "[encoded data removed]",
      "text/plain": [
       "<Figure size 432x288 with 1 Axes>"
      ]
     },
     "metadata": {
      "needs_background": "light"
     },
     "output_type": "display_data"
    }
   ],
   "source": [
    "sns.countplot(df['Class'])\n",
    "plt.show()"
   ]
  },
  {
   "cell_type": "code",
   "execution_count": 36,
   "id": "51c0460b",
   "metadata": {},
   "outputs": [],
   "source": [
    "# conclusion:\n",
    "#     1) Class feature are object data type and there are three class [Business,Eco,Eco Plus]"
   ]
  },
  {
   "cell_type": "markdown",
   "id": "c4798f95",
   "metadata": {},
   "source": [
    "### 7) Flight Distance"
   ]
  },
  {
   "cell_type": "code",
   "execution_count": 37,
   "id": "43e752be",
   "metadata": {},
   "outputs": [
    {
     "data": {
      "text/plain": [
       "count    103904.000000\n",
       "mean       1189.448375\n",
       "std         997.147281\n",
       "min          31.000000\n",
       "25%         414.000000\n",
       "50%         843.000000\n",
       "75%        1743.000000\n",
       "max        4983.000000\n",
       "Name: Flight Distance, dtype: float64"
      ]
     },
     "execution_count": 37,
     "metadata": {},
     "output_type": "execute_result"
    }
   ],
   "source": [
    "df['Flight Distance'].describe()"
   ]
  },
  {
   "cell_type": "code",
   "execution_count": 38,
   "id": "b27606fd",
   "metadata": {},
   "outputs": [
    {
     "name": "stdout",
     "output_type": "stream",
     "text": [
      "p value is : 0.0\n",
      "Data is not normally distributed\n"
     ]
    }
   ],
   "source": [
    "shapiro_test(df['Flight Distance'])"
   ]
  },
  {
   "cell_type": "code",
   "execution_count": 39,
   "id": "fd637eaf",
   "metadata": {},
   "outputs": [
    {
     "name": "stdout",
     "output_type": "stream",
     "text": [
      "[4243, 4963, 4983, 4243, 4243, 4243, 4963, 4983, 4817, 4983, 4243, 4963, 4243, 4243, 4983, 4817, 4502, 4502, 4502, 4243, 4963, 4243, 4502, 4983, 4502, 4243, 4963, 4817, 4983, 4983, 4243, 4963, 4502, 4983, 4243, 4963, 4243, 4963, 4243, 4983, 4983, 4983, 4963, 4243, 4243, 4963, 4817, 4817, 4243, 4983, 4502, 4502, 4963, 4963, 4502, 4502, 4243, 4963]\n"
     ]
    }
   ],
   "source": [
    "print(outliers_(df['Flight Distance']))"
   ]
  },
  {
   "cell_type": "code",
   "execution_count": 40,
   "id": "af39828c",
   "metadata": {},
   "outputs": [
    {
     "data": {
      "image/png": "[encoded data removed]",
      "text/plain": [
       "<Figure size 432x288 with 1 Axes>"
      ]
     },
     "metadata": {
      "needs_background": "light"
     },
     "output_type": "display_data"
    }
   ],
   "source": [
    "sns.kdeplot(df['Flight Distance'])\n",
    "plt.show()"
   ]
  },
  {
   "cell_type": "code",
   "execution_count": 41,
   "id": "7a53dd80",
   "metadata": {},
   "outputs": [
    {
     "data": {
      "image/png": "[encoded data removed]",
      "text/plain": [
       "<Figure size 432x288 with 1 Axes>"
      ]
     },
     "metadata": {
      "needs_background": "light"
     },
     "output_type": "display_data"
    }
   ],
   "source": [
    "sns.boxplot(df['Flight Distance'])\n",
    "plt.show()"
   ]
  },
  {
   "cell_type": "code",
   "execution_count": 42,
   "id": "c2e514cb",
   "metadata": {},
   "outputs": [],
   "source": [
    "# conclusion:\n",
    "#     1) 'Flight Distance' is a numeric feature.\n",
    "#     2) Outliers are present in data.\n",
    "#     3) Data is not normally distributed."
   ]
  },
  {
   "cell_type": "markdown",
   "id": "e9a10ed5",
   "metadata": {},
   "source": [
    "### 8) Inflight wifi service"
   ]
  },
  {
   "cell_type": "code",
   "execution_count": 43,
   "id": "6c42d671",
   "metadata": {},
   "outputs": [
    {
     "data": {
      "text/plain": [
       "3    25868\n",
       "2    25830\n",
       "4    19794\n",
       "1    17840\n",
       "5    11469\n",
       "0     3103\n",
       "Name: Inflight wifi service, dtype: int64"
      ]
     },
     "execution_count": 43,
     "metadata": {},
     "output_type": "execute_result"
    }
   ],
   "source": [
    "df['Inflight wifi service'].value_counts()"
   ]
  },
  {
   "cell_type": "code",
   "execution_count": 44,
   "id": "3258614e",
   "metadata": {},
   "outputs": [
    {
     "data": {
      "text/plain": [
       "<AxesSubplot:xlabel='Inflight wifi service', ylabel='count'>"
      ]
     },
     "execution_count": 44,
     "metadata": {},
     "output_type": "execute_result"
    },
    {
     "data": {
      "image/png": "[encoded data removed]",
      "text/plain": [
       "<Figure size 432x288 with 1 Axes>"
      ]
     },
     "metadata": {
      "needs_background": "light"
     },
     "output_type": "display_data"
    }
   ],
   "source": [
    "sns.countplot(df['Inflight wifi service'])"
   ]
  },
  {
   "cell_type": "code",
   "execution_count": 45,
   "id": "16bf1365",
   "metadata": {},
   "outputs": [],
   "source": [
    "# conclusion :\n",
    "#     1) 'Inflight wifi service' is a categorical feature.\n",
    "#     2) There are 6 categories in 'Inflight wifi service', out of five peoples give the voting."
   ]
  },
  {
   "cell_type": "markdown",
   "id": "26b25b61",
   "metadata": {},
   "source": [
    "### 9) Departure/Arrival time convenient"
   ]
  },
  {
   "cell_type": "code",
   "execution_count": 46,
   "id": "20149b07",
   "metadata": {},
   "outputs": [
    {
     "data": {
      "text/plain": [
       "4    25546\n",
       "5    22403\n",
       "3    17966\n",
       "2    17191\n",
       "1    15498\n",
       "0     5300\n",
       "Name: Departure/Arrival time convenient, dtype: int64"
      ]
     },
     "execution_count": 46,
     "metadata": {},
     "output_type": "execute_result"
    }
   ],
   "source": [
    "df['Departure/Arrival time convenient'].value_counts()"
   ]
  },
  {
   "cell_type": "code",
   "execution_count": 47,
   "id": "6d654c30",
   "metadata": {},
   "outputs": [
    {
     "data": {
      "text/plain": [
       "<AxesSubplot:xlabel='Departure/Arrival time convenient', ylabel='count'>"
      ]
     },
     "execution_count": 47,
     "metadata": {},
     "output_type": "execute_result"
    },
    {
     "data": {
      "image/png": "[encoded data removed]",
      "text/plain": [
       "<Figure size 432x288 with 1 Axes>"
      ]
     },
     "metadata": {
      "needs_background": "light"
     },
     "output_type": "display_data"
    }
   ],
   "source": [
    "sns.countplot(df['Departure/Arrival time convenient'])"
   ]
  },
  {
   "cell_type": "code",
   "execution_count": 48,
   "id": "a6b5793b",
   "metadata": {},
   "outputs": [],
   "source": [
    "# conclusion :\n",
    "#     1) 'Departure/Arrival time convenient' is a categorical feature.\n",
    "#     2) There are 6 categories in 'Departure/Arrival time convenient', out of five peoples give the voting."
   ]
  },
  {
   "cell_type": "markdown",
   "id": "0f595ed8",
   "metadata": {},
   "source": [
    "### 10) Ease of Online booking"
   ]
  },
  {
   "cell_type": "code",
   "execution_count": 49,
   "id": "2b983b49",
   "metadata": {},
   "outputs": [
    {
     "data": {
      "text/plain": [
       "3    24449\n",
       "2    24021\n",
       "4    19571\n",
       "1    17525\n",
       "5    13851\n",
       "0     4487\n",
       "Name: Ease of Online booking, dtype: int64"
      ]
     },
     "execution_count": 49,
     "metadata": {},
     "output_type": "execute_result"
    }
   ],
   "source": [
    "df['Ease of Online booking'].value_counts()"
   ]
  },
  {
   "cell_type": "code",
   "execution_count": 50,
   "id": "596ac2b8",
   "metadata": {},
   "outputs": [
    {
     "data": {
      "text/plain": [
       "<AxesSubplot:xlabel='Ease of Online booking', ylabel='count'>"
      ]
     },
     "execution_count": 50,
     "metadata": {},
     "output_type": "execute_result"
    },
    {
     "data": {
      "image/png": "[encoded data removed]",
      "text/plain": [
       "<Figure size 432x288 with 1 Axes>"
      ]
     },
     "metadata": {
      "needs_background": "light"
     },
     "output_type": "display_data"
    }
   ],
   "source": [
    "sns.countplot(df['Ease of Online booking'])"
   ]
  },
  {
   "cell_type": "code",
   "execution_count": 51,
   "id": "abc51a9f",
   "metadata": {},
   "outputs": [],
   "source": [
    "# conclusion :\n",
    "#     1) 'Ease of Online booking' is a categorical feature.\n",
    "#     2) There are 6 categories in 'Ease of Online booking', out of five peoples give the voting."
   ]
  },
  {
   "cell_type": "markdown",
   "id": "1d9becd2",
   "metadata": {},
   "source": [
    "### 11) Gate location"
   ]
  },
  {
   "cell_type": "code",
   "execution_count": 52,
   "id": "7750fa74",
   "metadata": {},
   "outputs": [
    {
     "data": {
      "text/plain": [
       "3    28577\n",
       "4    24426\n",
       "2    19459\n",
       "1    17562\n",
       "5    13879\n",
       "0        1\n",
       "Name: Gate location, dtype: int64"
      ]
     },
     "execution_count": 52,
     "metadata": {},
     "output_type": "execute_result"
    }
   ],
   "source": [
    "df['Gate location'].value_counts()"
   ]
  },
  {
   "cell_type": "code",
   "execution_count": 53,
   "id": "6db58f66",
   "metadata": {},
   "outputs": [
    {
     "data": {
      "text/plain": [
       "<AxesSubplot:xlabel='Gate location', ylabel='count'>"
      ]
     },
     "execution_count": 53,
     "metadata": {},
     "output_type": "execute_result"
    },
    {
     "data": {
      "image/png": "[encoded data removed]",
      "text/plain": [
       "<Figure size 432x288 with 1 Axes>"
      ]
     },
     "metadata": {
      "needs_background": "light"
     },
     "output_type": "display_data"
    }
   ],
   "source": [
    "sns.countplot(df['Gate location'])"
   ]
  },
  {
   "cell_type": "code",
   "execution_count": 54,
   "id": "89c5060e",
   "metadata": {},
   "outputs": [],
   "source": [
    "# conclusion :\n",
    "#     1) 'Gate location' is a categorical feature.\n",
    "#     2) There are 6 categories in 'Gate location', out of five peoples give the voting."
   ]
  },
  {
   "cell_type": "markdown",
   "id": "175c173c",
   "metadata": {},
   "source": [
    "### 12) Food and drink"
   ]
  },
  {
   "cell_type": "code",
   "execution_count": 55,
   "id": "97d110b8",
   "metadata": {},
   "outputs": [
    {
     "data": {
      "text/plain": [
       "4    24359\n",
       "5    22313\n",
       "3    22300\n",
       "2    21988\n",
       "1    12837\n",
       "0      107\n",
       "Name: Food and drink, dtype: int64"
      ]
     },
     "execution_count": 55,
     "metadata": {},
     "output_type": "execute_result"
    }
   ],
   "source": [
    "df['Food and drink'].value_counts()"
   ]
  },
  {
   "cell_type": "code",
   "execution_count": 56,
   "id": "a52f34cd",
   "metadata": {},
   "outputs": [
    {
     "data": {
      "image/png": "[encoded data removed]",
      "text/plain": [
       "<Figure size 432x288 with 1 Axes>"
      ]
     },
     "metadata": {
      "needs_background": "light"
     },
     "output_type": "display_data"
    }
   ],
   "source": [
    "sns.countplot(df['Food and drink'])\n",
    "plt.show()"
   ]
  },
  {
   "cell_type": "code",
   "execution_count": 57,
   "id": "7d86ea2d",
   "metadata": {},
   "outputs": [],
   "source": [
    "# conclusion :\n",
    "#     1) 'Food and drink' is a categorical feature.\n",
    "#     2) There are 6 categories in 'Food and drink', out of five peoples give the voting."
   ]
  },
  {
   "cell_type": "markdown",
   "id": "e46c8ad2",
   "metadata": {},
   "source": [
    "### 13) Online boarding"
   ]
  },
  {
   "cell_type": "code",
   "execution_count": 58,
   "id": "14265f48",
   "metadata": {},
   "outputs": [
    {
     "data": {
      "text/plain": [
       "4    30762\n",
       "3    21804\n",
       "5    20713\n",
       "2    17505\n",
       "1    10692\n",
       "0     2428\n",
       "Name: Online boarding, dtype: int64"
      ]
     },
     "execution_count": 58,
     "metadata": {},
     "output_type": "execute_result"
    }
   ],
   "source": [
    "df['Online boarding'].value_counts()"
   ]
  },
  {
   "cell_type": "code",
   "execution_count": 59,
   "id": "0d27c4b3",
   "metadata": {},
   "outputs": [
    {
     "data": {
      "image/png": "[encoded data removed]",
      "text/plain": [
       "<Figure size 432x288 with 1 Axes>"
      ]
     },
     "metadata": {
      "needs_background": "light"
     },
     "output_type": "display_data"
    }
   ],
   "source": [
    "sns.countplot(df['Online boarding'])\n",
    "plt.show()"
   ]
  },
  {
   "cell_type": "code",
   "execution_count": 60,
   "id": "e392533e",
   "metadata": {},
   "outputs": [],
   "source": [
    "# conclusion :\n",
    "#     1) 'Online boarding' is a categorical feature.\n",
    "#     2) There are 6 categories in 'Online boarding', out of five peoples give the voting."
   ]
  },
  {
   "cell_type": "markdown",
   "id": "ffa6f6ea",
   "metadata": {},
   "source": [
    "### 14) Seat comfort"
   ]
  },
  {
   "cell_type": "code",
   "execution_count": 61,
   "id": "66823580",
   "metadata": {},
   "outputs": [
    {
     "data": {
      "text/plain": [
       "4    31765\n",
       "5    26470\n",
       "3    18696\n",
       "2    14897\n",
       "1    12075\n",
       "0        1\n",
       "Name: Seat comfort, dtype: int64"
      ]
     },
     "execution_count": 61,
     "metadata": {},
     "output_type": "execute_result"
    }
   ],
   "source": [
    "df['Seat comfort'].value_counts()"
   ]
  },
  {
   "cell_type": "code",
   "execution_count": 62,
   "id": "0569bff1",
   "metadata": {},
   "outputs": [
    {
     "data": {
      "image/png": "[encoded data removed]",
      "text/plain": [
       "<Figure size 432x288 with 1 Axes>"
      ]
     },
     "metadata": {
      "needs_background": "light"
     },
     "output_type": "display_data"
    }
   ],
   "source": [
    "sns.countplot(df['Seat comfort'])\n",
    "plt.show()"
   ]
  },
  {
   "cell_type": "code",
   "execution_count": 63,
   "id": "126ed24e",
   "metadata": {},
   "outputs": [],
   "source": [
    "# conclusion :\n",
    "#     1) 'Seat comfort' is a categorical feature.\n",
    "#     2) There are 6 categories in 'Seat comfort', out of five peoples give the voting."
   ]
  },
  {
   "cell_type": "markdown",
   "id": "d33fe7c8",
   "metadata": {},
   "source": [
    "### 15) Inflight entertainment"
   ]
  },
  {
   "cell_type": "code",
   "execution_count": 64,
   "id": "bd623106",
   "metadata": {},
   "outputs": [
    {
     "data": {
      "text/plain": [
       "4    29423\n",
       "5    25213\n",
       "3    19139\n",
       "2    17637\n",
       "1    12478\n",
       "0       14\n",
       "Name: Inflight entertainment, dtype: int64"
      ]
     },
     "execution_count": 64,
     "metadata": {},
     "output_type": "execute_result"
    }
   ],
   "source": [
    "df['Inflight entertainment'].value_counts()"
   ]
  },
  {
   "cell_type": "code",
   "execution_count": 65,
   "id": "426694ab",
   "metadata": {},
   "outputs": [
    {
     "data": {
      "image/png": "[encoded data removed]",
      "text/plain": [
       "<Figure size 432x288 with 1 Axes>"
      ]
     },
     "metadata": {
      "needs_background": "light"
     },
     "output_type": "display_data"
    }
   ],
   "source": [
    "sns.countplot(df['Inflight entertainment'])\n",
    "plt.show()"
   ]
  },
  {
   "cell_type": "code",
   "execution_count": 66,
   "id": "9f655535",
   "metadata": {},
   "outputs": [],
   "source": [
    "# conclusion :\n",
    "#     1) 'Inflight entertainment' is a categorical feature.\n",
    "#     2) There are 6 categories in 'Inflight entertainment', out of five peoples give the voting."
   ]
  },
  {
   "cell_type": "markdown",
   "id": "01cc26db",
   "metadata": {},
   "source": [
    "### 16) On-board service"
   ]
  },
  {
   "cell_type": "code",
   "execution_count": 67,
   "id": "ff049907",
   "metadata": {},
   "outputs": [
    {
     "data": {
      "text/plain": [
       "4    30867\n",
       "5    23648\n",
       "3    22833\n",
       "2    14681\n",
       "1    11872\n",
       "0        3\n",
       "Name: On-board service, dtype: int64"
      ]
     },
     "execution_count": 67,
     "metadata": {},
     "output_type": "execute_result"
    }
   ],
   "source": [
    "df['On-board service'].value_counts()"
   ]
  },
  {
   "cell_type": "code",
   "execution_count": 68,
   "id": "4ccf16be",
   "metadata": {},
   "outputs": [
    {
     "data": {
      "image/png": "[encoded data removed]",
      "text/plain": [
       "<Figure size 432x288 with 1 Axes>"
      ]
     },
     "metadata": {
      "needs_background": "light"
     },
     "output_type": "display_data"
    }
   ],
   "source": [
    "sns.countplot(df['On-board service'])\n",
    "plt.show()"
   ]
  },
  {
   "cell_type": "code",
   "execution_count": 69,
   "id": "9c758ebb",
   "metadata": {},
   "outputs": [],
   "source": [
    "# conclusion :\n",
    "#     1) 'Seat comfort' is a categorical feature.\n",
    "#     2) There are 6 categories in 'Seat comfort', out of five peoples give the voting."
   ]
  },
  {
   "cell_type": "code",
   "execution_count": 70,
   "id": "bd1202ea",
   "metadata": {},
   "outputs": [
    {
     "name": "stdout",
     "output_type": "stream",
     "text": [
      "<class 'pandas.core.frame.DataFrame'>\n",
      "RangeIndex: 103904 entries, 0 to 103903\n",
      "Data columns (total 25 columns):\n",
      " #   Column                             Non-Null Count   Dtype  \n",
      "---  ------                             --------------   -----  \n",
      " 0   Unnamed: 0                         103904 non-null  int64  \n",
      " 1   id                                 103904 non-null  int64  \n",
      " 2   Gender                             103904 non-null  object \n",
      " 3   Customer Type                      103904 non-null  object \n",
      " 4   Age                                103904 non-null  int64  \n",
      " 5   Type of Travel                     103904 non-null  object \n",
      " 6   Class                              103904 non-null  object \n",
      " 7   Flight Distance                    103904 non-null  int64  \n",
      " 8   Inflight wifi service              103904 non-null  int64  \n",
      " 9   Departure/Arrival time convenient  103904 non-null  int64  \n",
      " 10  Ease of Online booking             103904 non-null  int64  \n",
      " 11  Gate location                      103904 non-null  int64  \n",
      " 12  Food and drink                     103904 non-null  int64  \n",
      " 13  Online boarding                    103904 non-null  int64  \n",
      " 14  Seat comfort                       103904 non-null  int64  \n",
      " 15  Inflight entertainment             103904 non-null  int64  \n",
      " 16  On-board service                   103904 non-null  int64  \n",
      " 17  Leg room service                   103904 non-null  int64  \n",
      " 18  Baggage handling                   103904 non-null  int64  \n",
      " 19  Checkin service                    103904 non-null  int64  \n",
      " 20  Inflight service                   103904 non-null  int64  \n",
      " 21  Cleanliness                        103904 non-null  int64  \n",
      " 22  Departure Delay in Minutes         103904 non-null  int64  \n",
      " 23  Arrival Delay in Minutes           103594 non-null  float64\n",
      " 24  satisfaction                       103904 non-null  object \n",
      "dtypes: float64(1), int64(19), object(5)\n",
      "memory usage: 19.8+ MB\n"
     ]
    }
   ],
   "source": [
    "df.info()"
   ]
  },
  {
   "cell_type": "markdown",
   "id": "9f23e7b8",
   "metadata": {},
   "source": [
    "### 17) Leg room service"
   ]
  },
  {
   "cell_type": "code",
   "execution_count": 71,
   "id": "63125d0b",
   "metadata": {},
   "outputs": [
    {
     "data": {
      "text/plain": [
       "4    28789\n",
       "5    24667\n",
       "3    20098\n",
       "2    19525\n",
       "1    10353\n",
       "0      472\n",
       "Name: Leg room service, dtype: int64"
      ]
     },
     "execution_count": 71,
     "metadata": {},
     "output_type": "execute_result"
    }
   ],
   "source": [
    "df['Leg room service'].value_counts()"
   ]
  },
  {
   "cell_type": "code",
   "execution_count": 72,
   "id": "69037b45",
   "metadata": {},
   "outputs": [
    {
     "data": {
      "text/plain": [
       "<AxesSubplot:xlabel='Leg room service', ylabel='count'>"
      ]
     },
     "execution_count": 72,
     "metadata": {},
     "output_type": "execute_result"
    },
    {
     "data": {
      "image/png": "[encoded data removed]",
      "text/plain": [
       "<Figure size 432x288 with 1 Axes>"
      ]
     },
     "metadata": {
      "needs_background": "light"
     },
     "output_type": "display_data"
    }
   ],
   "source": [
    "sns.countplot(df['Leg room service'])"
   ]
  },
  {
   "cell_type": "code",
   "execution_count": 73,
   "id": "7f6ff1b0",
   "metadata": {},
   "outputs": [],
   "source": [
    "# conclusion :\n",
    "#     1) 'Leg room service' is a categorical feature.\n",
    "#     2) There are 6 categories in 'Leg room service', out of five peoples give the voting."
   ]
  },
  {
   "cell_type": "markdown",
   "id": "bfd54eb7",
   "metadata": {},
   "source": [
    "### 18) Baggage handling"
   ]
  },
  {
   "cell_type": "code",
   "execution_count": 74,
   "id": "a495c630",
   "metadata": {},
   "outputs": [
    {
     "data": {
      "text/plain": [
       "4    37383\n",
       "5    27131\n",
       "3    20632\n",
       "2    11521\n",
       "1     7237\n",
       "Name: Baggage handling, dtype: int64"
      ]
     },
     "execution_count": 74,
     "metadata": {},
     "output_type": "execute_result"
    }
   ],
   "source": [
    "df['Baggage handling'].value_counts()"
   ]
  },
  {
   "cell_type": "code",
   "execution_count": 75,
   "id": "823161fe",
   "metadata": {},
   "outputs": [
    {
     "data": {
      "image/png": "[encoded data removed]",
      "text/plain": [
       "<Figure size 432x288 with 1 Axes>"
      ]
     },
     "metadata": {
      "needs_background": "light"
     },
     "output_type": "display_data"
    }
   ],
   "source": [
    "sns.countplot(df['Baggage handling'])\n",
    "plt.show()"
   ]
  },
  {
   "cell_type": "code",
   "execution_count": 76,
   "id": "3dda1dd4",
   "metadata": {},
   "outputs": [],
   "source": [
    "# conclusion :\n",
    "#     1) 'Baggage handling' is a categorical feature.\n",
    "#     2) There are 6 categories in 'Baggage handling', out of five peoples give the voting."
   ]
  },
  {
   "cell_type": "markdown",
   "id": "a521c6ff",
   "metadata": {},
   "source": [
    "### 19) Checkin service"
   ]
  },
  {
   "cell_type": "code",
   "execution_count": 77,
   "id": "73723af8",
   "metadata": {},
   "outputs": [
    {
     "data": {
      "text/plain": [
       "4    29055\n",
       "3    28446\n",
       "5    20619\n",
       "2    12893\n",
       "1    12890\n",
       "0        1\n",
       "Name: Checkin service, dtype: int64"
      ]
     },
     "execution_count": 77,
     "metadata": {},
     "output_type": "execute_result"
    }
   ],
   "source": [
    "df['Checkin service'].value_counts()"
   ]
  },
  {
   "cell_type": "code",
   "execution_count": 78,
   "id": "df76fbc6",
   "metadata": {},
   "outputs": [
    {
     "data": {
      "image/png": "[encoded data removed]",
      "text/plain": [
       "<Figure size 432x288 with 1 Axes>"
      ]
     },
     "metadata": {
      "needs_background": "light"
     },
     "output_type": "display_data"
    }
   ],
   "source": [
    "sns.countplot(df['Checkin service'])\n",
    "plt.show()"
   ]
  },
  {
   "cell_type": "code",
   "execution_count": 79,
   "id": "8923fa8f",
   "metadata": {},
   "outputs": [],
   "source": [
    "# conclusion :\n",
    "#     1) 'Checkin service' is a categorical feature.\n",
    "#     2) There are 6 categories in 'Checkin service', out of five peoples give the voting."
   ]
  },
  {
   "cell_type": "markdown",
   "id": "964c6dae",
   "metadata": {},
   "source": [
    "### 20) Inflight service"
   ]
  },
  {
   "cell_type": "code",
   "execution_count": 80,
   "id": "ef046c8a",
   "metadata": {},
   "outputs": [
    {
     "data": {
      "text/plain": [
       "4    37945\n",
       "5    27116\n",
       "3    20299\n",
       "2    11457\n",
       "1     7084\n",
       "0        3\n",
       "Name: Inflight service, dtype: int64"
      ]
     },
     "execution_count": 80,
     "metadata": {},
     "output_type": "execute_result"
    }
   ],
   "source": [
    "df['Inflight service'].value_counts()"
   ]
  },
  {
   "cell_type": "code",
   "execution_count": 81,
   "id": "11c2d96f",
   "metadata": {},
   "outputs": [
    {
     "data": {
      "image/png": "[encoded data removed]",
      "text/plain": [
       "<Figure size 432x288 with 1 Axes>"
      ]
     },
     "metadata": {
      "needs_background": "light"
     },
     "output_type": "display_data"
    }
   ],
   "source": [
    "sns.countplot(df['Inflight service'])\n",
    "plt.show()"
   ]
  },
  {
   "cell_type": "code",
   "execution_count": 82,
   "id": "a15e3d99",
   "metadata": {},
   "outputs": [],
   "source": [
    "# conclusion :\n",
    "#     1) 'Inflight service' is a categorical feature.\n",
    "#     2) There are 6 categories in 'Inflight service', out of five peoples give the voting."
   ]
  },
  {
   "cell_type": "markdown",
   "id": "86408a32",
   "metadata": {},
   "source": [
    "### 21) Cleanliness"
   ]
  },
  {
   "cell_type": "code",
   "execution_count": 83,
   "id": "b7a9dca6",
   "metadata": {},
   "outputs": [
    {
     "data": {
      "text/plain": [
       "4    27179\n",
       "3    24574\n",
       "5    22689\n",
       "2    16132\n",
       "1    13318\n",
       "0       12\n",
       "Name: Cleanliness, dtype: int64"
      ]
     },
     "execution_count": 83,
     "metadata": {},
     "output_type": "execute_result"
    }
   ],
   "source": [
    "df['Cleanliness'].value_counts()"
   ]
  },
  {
   "cell_type": "code",
   "execution_count": 84,
   "id": "25015a23",
   "metadata": {},
   "outputs": [
    {
     "data": {
      "image/png": "[encoded data removed]",
      "text/plain": [
       "<Figure size 432x288 with 1 Axes>"
      ]
     },
     "metadata": {
      "needs_background": "light"
     },
     "output_type": "display_data"
    }
   ],
   "source": [
    "sns.countplot(df['Cleanliness'])\n",
    "plt.show()"
   ]
  },
  {
   "cell_type": "code",
   "execution_count": 85,
   "id": "6af05219",
   "metadata": {},
   "outputs": [],
   "source": [
    "# conclusion :\n",
    "#     1) 'Cleanliness' is a categorical feature.\n",
    "#     2) There are 6 categories in 'Cleanliness', out of five peoples give the voting."
   ]
  },
  {
   "cell_type": "markdown",
   "id": "e4e3bc2f",
   "metadata": {},
   "source": [
    "### 22) Departure Delay in Minutes"
   ]
  },
  {
   "cell_type": "code",
   "execution_count": 86,
   "id": "4c88fe7c",
   "metadata": {},
   "outputs": [
    {
     "data": {
      "text/plain": [
       "count    103904.000000\n",
       "mean         14.815618\n",
       "std          38.230901\n",
       "min           0.000000\n",
       "25%           0.000000\n",
       "50%           0.000000\n",
       "75%          12.000000\n",
       "max        1592.000000\n",
       "Name: Departure Delay in Minutes, dtype: float64"
      ]
     },
     "execution_count": 86,
     "metadata": {},
     "output_type": "execute_result"
    }
   ],
   "source": [
    "df['Departure Delay in Minutes'].describe()"
   ]
  },
  {
   "cell_type": "code",
   "execution_count": 87,
   "id": "85e89ccd",
   "metadata": {},
   "outputs": [
    {
     "data": {
      "text/plain": [
       "<AxesSubplot:xlabel='Departure Delay in Minutes'>"
      ]
     },
     "execution_count": 87,
     "metadata": {},
     "output_type": "execute_result"
    },
    {
     "data": {
      "image/png": "[encoded data removed]",
      "text/plain": [
       "<Figure size 432x288 with 1 Axes>"
      ]
     },
     "metadata": {
      "needs_background": "light"
     },
     "output_type": "display_data"
    }
   ],
   "source": [
    "sns.boxenplot(df['Departure Delay in Minutes'])"
   ]
  },
  {
   "cell_type": "code",
   "execution_count": 88,
   "id": "63b84110",
   "metadata": {},
   "outputs": [
    {
     "name": "stdout",
     "output_type": "stream",
     "text": [
      "2222\n"
     ]
    }
   ],
   "source": [
    "print(len(outliers_(df['Departure Delay in Minutes'])))"
   ]
  },
  {
   "cell_type": "code",
   "execution_count": 89,
   "id": "29fc8df3",
   "metadata": {},
   "outputs": [
    {
     "name": "stdout",
     "output_type": "stream",
     "text": [
      "p value is : 0.0\n",
      "Data is not normally distributed\n"
     ]
    }
   ],
   "source": [
    "shapiro_test(df['Departure Delay in Minutes'])"
   ]
  },
  {
   "cell_type": "code",
   "execution_count": 90,
   "id": "d2b341c6",
   "metadata": {},
   "outputs": [
    {
     "data": {
      "image/png": "[encoded data removed]",
      "text/plain": [
       "<Figure size 432x288 with 1 Axes>"
      ]
     },
     "metadata": {
      "needs_background": "light"
     },
     "output_type": "display_data"
    }
   ],
   "source": [
    "sns.kdeplot(df['Departure Delay in Minutes'])\n",
    "plt.show()"
   ]
  },
  {
   "cell_type": "code",
   "execution_count": 91,
   "id": "188c8c85",
   "metadata": {},
   "outputs": [],
   "source": [
    "# conclusion:\n",
    "#     1) 'Departure Delay in Minutes' is a numeric feature.\n",
    "#     2) Data is not normally distributed.\n",
    "#     3) Outliers are present in the data."
   ]
  },
  {
   "cell_type": "markdown",
   "id": "9dd495b9",
   "metadata": {},
   "source": [
    "### 23) Arrival Delay in Minutes"
   ]
  },
  {
   "cell_type": "code",
   "execution_count": 92,
   "id": "23050221",
   "metadata": {},
   "outputs": [
    {
     "data": {
      "text/plain": [
       "count    103594.000000\n",
       "mean         15.178678\n",
       "std          38.698682\n",
       "min           0.000000\n",
       "25%           0.000000\n",
       "50%           0.000000\n",
       "75%          13.000000\n",
       "max        1584.000000\n",
       "Name: Arrival Delay in Minutes, dtype: float64"
      ]
     },
     "execution_count": 92,
     "metadata": {},
     "output_type": "execute_result"
    }
   ],
   "source": [
    "df['Arrival Delay in Minutes'].describe()"
   ]
  },
  {
   "cell_type": "code",
   "execution_count": 93,
   "id": "7620fc44",
   "metadata": {},
   "outputs": [
    {
     "data": {
      "text/plain": [
       "<AxesSubplot:xlabel='Arrival Delay in Minutes'>"
      ]
     },
     "execution_count": 93,
     "metadata": {},
     "output_type": "execute_result"
    },
    {
     "data": {
      "image/png": "[encoded data removed]",
      "text/plain": [
       "<Figure size 432x288 with 1 Axes>"
      ]
     },
     "metadata": {
      "needs_background": "light"
     },
     "output_type": "display_data"
    }
   ],
   "source": [
    "sns.boxenplot(df['Arrival Delay in Minutes'])"
   ]
  },
  {
   "cell_type": "code",
   "execution_count": 94,
   "id": "4b79fd13",
   "metadata": {},
   "outputs": [
    {
     "data": {
      "text/plain": [
       "2225"
      ]
     },
     "execution_count": 94,
     "metadata": {},
     "output_type": "execute_result"
    }
   ],
   "source": [
    "len(outliers_(df['Arrival Delay in Minutes']))"
   ]
  },
  {
   "cell_type": "code",
   "execution_count": 95,
   "id": "c333dd1f",
   "metadata": {},
   "outputs": [
    {
     "data": {
      "text/plain": [
       "<AxesSubplot:xlabel='Arrival Delay in Minutes', ylabel='Density'>"
      ]
     },
     "execution_count": 95,
     "metadata": {},
     "output_type": "execute_result"
    },
    {
     "data": {
      "image/png": "[encoded data removed]",
      "text/plain": [
       "<Figure size 432x288 with 1 Axes>"
      ]
     },
     "metadata": {
      "needs_background": "light"
     },
     "output_type": "display_data"
    }
   ],
   "source": [
    "sns.kdeplot(df['Arrival Delay in Minutes'])"
   ]
  },
  {
   "cell_type": "code",
   "execution_count": 96,
   "id": "2e7ed8f9",
   "metadata": {},
   "outputs": [
    {
     "data": {
      "text/plain": [
       "310"
      ]
     },
     "execution_count": 96,
     "metadata": {},
     "output_type": "execute_result"
    }
   ],
   "source": [
    "df['Arrival Delay in Minutes'].isna().sum()"
   ]
  },
  {
   "cell_type": "code",
   "execution_count": 97,
   "id": "b0d7119f",
   "metadata": {},
   "outputs": [],
   "source": [
    "# conclusion:\n",
    "#     1) 'Arrival Delay in Minutes' is a numerical feature.\n",
    "#     2) Data is not normally distributed.\n",
    "#     3) 310 missing value.\n",
    "#     4) Outliers are present in data."
   ]
  },
  {
   "cell_type": "code",
   "execution_count": null,
   "id": "b762d234",
   "metadata": {},
   "outputs": [],
   "source": []
  },
  {
   "cell_type": "code",
   "execution_count": 98,
   "id": "a8045dae",
   "metadata": {},
   "outputs": [
    {
     "data": {
      "text/html": [
       "<div>\n",
       "<style scoped>\n",
       "    .dataframe tbody tr th:only-of-type {\n",
       "        vertical-align: middle;\n",
       "    }\n",
       "\n",
       "    .dataframe tbody tr th {\n",
       "        vertical-align: top;\n",
       "    }\n",
       "\n",
       "    .dataframe thead th {\n",
       "        text-align: right;\n",
       "    }\n",
       "</style>\n",
       "<table border=\"1\" class=\"dataframe\">\n",
       "  <thead>\n",
       "    <tr style=\"text-align: right;\">\n",
       "      <th></th>\n",
       "      <th>Unnamed: 0</th>\n",
       "      <th>id</th>\n",
       "      <th>Age</th>\n",
       "      <th>Flight Distance</th>\n",
       "      <th>Inflight wifi service</th>\n",
       "      <th>Departure/Arrival time convenient</th>\n",
       "      <th>Ease of Online booking</th>\n",
       "      <th>Gate location</th>\n",
       "      <th>Food and drink</th>\n",
       "      <th>Online boarding</th>\n",
       "      <th>Seat comfort</th>\n",
       "      <th>Inflight entertainment</th>\n",
       "      <th>On-board service</th>\n",
       "      <th>Leg room service</th>\n",
       "      <th>Baggage handling</th>\n",
       "      <th>Checkin service</th>\n",
       "      <th>Inflight service</th>\n",
       "      <th>Cleanliness</th>\n",
       "      <th>Departure Delay in Minutes</th>\n",
       "      <th>Arrival Delay in Minutes</th>\n",
       "    </tr>\n",
       "  </thead>\n",
       "  <tbody>\n",
       "    <tr>\n",
       "      <th>Unnamed: 0</th>\n",
       "      <td>1.000000</td>\n",
       "      <td>0.002991</td>\n",
       "      <td>0.004786</td>\n",
       "      <td>0.002794</td>\n",
       "      <td>-0.002490</td>\n",
       "      <td>0.000739</td>\n",
       "      <td>0.001913</td>\n",
       "      <td>0.005073</td>\n",
       "      <td>-0.002162</td>\n",
       "      <td>0.001002</td>\n",
       "      <td>0.000044</td>\n",
       "      <td>0.001363</td>\n",
       "      <td>0.000813</td>\n",
       "      <td>0.004052</td>\n",
       "      <td>-0.000526</td>\n",
       "      <td>-0.004321</td>\n",
       "      <td>-0.000134</td>\n",
       "      <td>-0.001117</td>\n",
       "      <td>-0.000045</td>\n",
       "      <td>-0.000045</td>\n",
       "    </tr>\n",
       "    <tr>\n",
       "      <th>id</th>\n",
       "      <td>0.002991</td>\n",
       "      <td>1.000000</td>\n",
       "      <td>0.022857</td>\n",
       "      <td>0.095544</td>\n",
       "      <td>-0.021276</td>\n",
       "      <td>-0.002110</td>\n",
       "      <td>0.014163</td>\n",
       "      <td>-0.000606</td>\n",
       "      <td>0.001063</td>\n",
       "      <td>0.055477</td>\n",
       "      <td>0.052903</td>\n",
       "      <td>0.002300</td>\n",
       "      <td>0.055241</td>\n",
       "      <td>0.044634</td>\n",
       "      <td>0.074940</td>\n",
       "      <td>0.079273</td>\n",
       "      <td>0.079346</td>\n",
       "      <td>0.024965</td>\n",
       "      <td>-0.019546</td>\n",
       "      <td>-0.037254</td>\n",
       "    </tr>\n",
       "    <tr>\n",
       "      <th>Age</th>\n",
       "      <td>0.004786</td>\n",
       "      <td>0.022857</td>\n",
       "      <td>1.000000</td>\n",
       "      <td>0.099461</td>\n",
       "      <td>0.017859</td>\n",
       "      <td>0.038125</td>\n",
       "      <td>0.024842</td>\n",
       "      <td>-0.001330</td>\n",
       "      <td>0.023000</td>\n",
       "      <td>0.208939</td>\n",
       "      <td>0.160277</td>\n",
       "      <td>0.076444</td>\n",
       "      <td>0.057594</td>\n",
       "      <td>0.040583</td>\n",
       "      <td>-0.047529</td>\n",
       "      <td>0.035482</td>\n",
       "      <td>-0.049427</td>\n",
       "      <td>0.053611</td>\n",
       "      <td>-0.010152</td>\n",
       "      <td>-0.012147</td>\n",
       "    </tr>\n",
       "    <tr>\n",
       "      <th>Flight Distance</th>\n",
       "      <td>0.002794</td>\n",
       "      <td>0.095544</td>\n",
       "      <td>0.099461</td>\n",
       "      <td>1.000000</td>\n",
       "      <td>0.007131</td>\n",
       "      <td>-0.020043</td>\n",
       "      <td>0.065717</td>\n",
       "      <td>0.004793</td>\n",
       "      <td>0.056994</td>\n",
       "      <td>0.214869</td>\n",
       "      <td>0.157333</td>\n",
       "      <td>0.128740</td>\n",
       "      <td>0.109526</td>\n",
       "      <td>0.133916</td>\n",
       "      <td>0.063184</td>\n",
       "      <td>0.073072</td>\n",
       "      <td>0.057540</td>\n",
       "      <td>0.093149</td>\n",
       "      <td>0.002158</td>\n",
       "      <td>-0.002426</td>\n",
       "    </tr>\n",
       "    <tr>\n",
       "      <th>Inflight wifi service</th>\n",
       "      <td>-0.002490</td>\n",
       "      <td>-0.021276</td>\n",
       "      <td>0.017859</td>\n",
       "      <td>0.007131</td>\n",
       "      <td>1.000000</td>\n",
       "      <td>0.343845</td>\n",
       "      <td>0.715856</td>\n",
       "      <td>0.336248</td>\n",
       "      <td>0.134718</td>\n",
       "      <td>0.456970</td>\n",
       "      <td>0.122658</td>\n",
       "      <td>0.209321</td>\n",
       "      <td>0.121500</td>\n",
       "      <td>0.160473</td>\n",
       "      <td>0.120923</td>\n",
       "      <td>0.043193</td>\n",
       "      <td>0.110441</td>\n",
       "      <td>0.132698</td>\n",
       "      <td>-0.017402</td>\n",
       "      <td>-0.019095</td>\n",
       "    </tr>\n",
       "    <tr>\n",
       "      <th>Departure/Arrival time convenient</th>\n",
       "      <td>0.000739</td>\n",
       "      <td>-0.002110</td>\n",
       "      <td>0.038125</td>\n",
       "      <td>-0.020043</td>\n",
       "      <td>0.343845</td>\n",
       "      <td>1.000000</td>\n",
       "      <td>0.436961</td>\n",
       "      <td>0.444757</td>\n",
       "      <td>0.004906</td>\n",
       "      <td>0.070119</td>\n",
       "      <td>0.011344</td>\n",
       "      <td>-0.004861</td>\n",
       "      <td>0.068882</td>\n",
       "      <td>0.012441</td>\n",
       "      <td>0.072126</td>\n",
       "      <td>0.093333</td>\n",
       "      <td>0.073318</td>\n",
       "      <td>0.014292</td>\n",
       "      <td>0.001005</td>\n",
       "      <td>-0.000864</td>\n",
       "    </tr>\n",
       "    <tr>\n",
       "      <th>Ease of Online booking</th>\n",
       "      <td>0.001913</td>\n",
       "      <td>0.014163</td>\n",
       "      <td>0.024842</td>\n",
       "      <td>0.065717</td>\n",
       "      <td>0.715856</td>\n",
       "      <td>0.436961</td>\n",
       "      <td>1.000000</td>\n",
       "      <td>0.458655</td>\n",
       "      <td>0.031873</td>\n",
       "      <td>0.404074</td>\n",
       "      <td>0.030014</td>\n",
       "      <td>0.047032</td>\n",
       "      <td>0.038833</td>\n",
       "      <td>0.107601</td>\n",
       "      <td>0.038762</td>\n",
       "      <td>0.011081</td>\n",
       "      <td>0.035272</td>\n",
       "      <td>0.016179</td>\n",
       "      <td>-0.006371</td>\n",
       "      <td>-0.007984</td>\n",
       "    </tr>\n",
       "    <tr>\n",
       "      <th>Gate location</th>\n",
       "      <td>0.005073</td>\n",
       "      <td>-0.000606</td>\n",
       "      <td>-0.001330</td>\n",
       "      <td>0.004793</td>\n",
       "      <td>0.336248</td>\n",
       "      <td>0.444757</td>\n",
       "      <td>0.458655</td>\n",
       "      <td>1.000000</td>\n",
       "      <td>-0.001159</td>\n",
       "      <td>0.001688</td>\n",
       "      <td>0.003669</td>\n",
       "      <td>0.003517</td>\n",
       "      <td>-0.028373</td>\n",
       "      <td>-0.005873</td>\n",
       "      <td>0.002313</td>\n",
       "      <td>-0.035427</td>\n",
       "      <td>0.001681</td>\n",
       "      <td>-0.003830</td>\n",
       "      <td>0.005467</td>\n",
       "      <td>0.005143</td>\n",
       "    </tr>\n",
       "    <tr>\n",
       "      <th>Food and drink</th>\n",
       "      <td>-0.002162</td>\n",
       "      <td>0.001063</td>\n",
       "      <td>0.023000</td>\n",
       "      <td>0.056994</td>\n",
       "      <td>0.134718</td>\n",
       "      <td>0.004906</td>\n",
       "      <td>0.031873</td>\n",
       "      <td>-0.001159</td>\n",
       "      <td>1.000000</td>\n",
       "      <td>0.234468</td>\n",
       "      <td>0.574556</td>\n",
       "      <td>0.622512</td>\n",
       "      <td>0.059073</td>\n",
       "      <td>0.032498</td>\n",
       "      <td>0.034746</td>\n",
       "      <td>0.087299</td>\n",
       "      <td>0.033993</td>\n",
       "      <td>0.657760</td>\n",
       "      <td>-0.029926</td>\n",
       "      <td>-0.032524</td>\n",
       "    </tr>\n",
       "    <tr>\n",
       "      <th>Online boarding</th>\n",
       "      <td>0.001002</td>\n",
       "      <td>0.055477</td>\n",
       "      <td>0.208939</td>\n",
       "      <td>0.214869</td>\n",
       "      <td>0.456970</td>\n",
       "      <td>0.070119</td>\n",
       "      <td>0.404074</td>\n",
       "      <td>0.001688</td>\n",
       "      <td>0.234468</td>\n",
       "      <td>1.000000</td>\n",
       "      <td>0.420211</td>\n",
       "      <td>0.285066</td>\n",
       "      <td>0.155443</td>\n",
       "      <td>0.123950</td>\n",
       "      <td>0.083280</td>\n",
       "      <td>0.204462</td>\n",
       "      <td>0.074573</td>\n",
       "      <td>0.331517</td>\n",
       "      <td>-0.018982</td>\n",
       "      <td>-0.021949</td>\n",
       "    </tr>\n",
       "    <tr>\n",
       "      <th>Seat comfort</th>\n",
       "      <td>0.000044</td>\n",
       "      <td>0.052903</td>\n",
       "      <td>0.160277</td>\n",
       "      <td>0.157333</td>\n",
       "      <td>0.122658</td>\n",
       "      <td>0.011344</td>\n",
       "      <td>0.030014</td>\n",
       "      <td>0.003669</td>\n",
       "      <td>0.574556</td>\n",
       "      <td>0.420211</td>\n",
       "      <td>1.000000</td>\n",
       "      <td>0.610590</td>\n",
       "      <td>0.131971</td>\n",
       "      <td>0.105559</td>\n",
       "      <td>0.074542</td>\n",
       "      <td>0.191854</td>\n",
       "      <td>0.069218</td>\n",
       "      <td>0.678534</td>\n",
       "      <td>-0.027898</td>\n",
       "      <td>-0.029900</td>\n",
       "    </tr>\n",
       "    <tr>\n",
       "      <th>Inflight entertainment</th>\n",
       "      <td>0.001363</td>\n",
       "      <td>0.002300</td>\n",
       "      <td>0.076444</td>\n",
       "      <td>0.128740</td>\n",
       "      <td>0.209321</td>\n",
       "      <td>-0.004861</td>\n",
       "      <td>0.047032</td>\n",
       "      <td>0.003517</td>\n",
       "      <td>0.622512</td>\n",
       "      <td>0.285066</td>\n",
       "      <td>0.610590</td>\n",
       "      <td>1.000000</td>\n",
       "      <td>0.420153</td>\n",
       "      <td>0.299692</td>\n",
       "      <td>0.378210</td>\n",
       "      <td>0.120867</td>\n",
       "      <td>0.404855</td>\n",
       "      <td>0.691815</td>\n",
       "      <td>-0.027489</td>\n",
       "      <td>-0.030703</td>\n",
       "    </tr>\n",
       "    <tr>\n",
       "      <th>On-board service</th>\n",
       "      <td>0.000813</td>\n",
       "      <td>0.055241</td>\n",
       "      <td>0.057594</td>\n",
       "      <td>0.109526</td>\n",
       "      <td>0.121500</td>\n",
       "      <td>0.068882</td>\n",
       "      <td>0.038833</td>\n",
       "      <td>-0.028373</td>\n",
       "      <td>0.059073</td>\n",
       "      <td>0.155443</td>\n",
       "      <td>0.131971</td>\n",
       "      <td>0.420153</td>\n",
       "      <td>1.000000</td>\n",
       "      <td>0.355495</td>\n",
       "      <td>0.519134</td>\n",
       "      <td>0.243914</td>\n",
       "      <td>0.550782</td>\n",
       "      <td>0.123220</td>\n",
       "      <td>-0.031569</td>\n",
       "      <td>-0.035227</td>\n",
       "    </tr>\n",
       "    <tr>\n",
       "      <th>Leg room service</th>\n",
       "      <td>0.004052</td>\n",
       "      <td>0.044634</td>\n",
       "      <td>0.040583</td>\n",
       "      <td>0.133916</td>\n",
       "      <td>0.160473</td>\n",
       "      <td>0.012441</td>\n",
       "      <td>0.107601</td>\n",
       "      <td>-0.005873</td>\n",
       "      <td>0.032498</td>\n",
       "      <td>0.123950</td>\n",
       "      <td>0.105559</td>\n",
       "      <td>0.299692</td>\n",
       "      <td>0.355495</td>\n",
       "      <td>1.000000</td>\n",
       "      <td>0.369544</td>\n",
       "      <td>0.153137</td>\n",
       "      <td>0.368656</td>\n",
       "      <td>0.096370</td>\n",
       "      <td>0.014363</td>\n",
       "      <td>0.011843</td>\n",
       "    </tr>\n",
       "    <tr>\n",
       "      <th>Baggage handling</th>\n",
       "      <td>-0.000526</td>\n",
       "      <td>0.074940</td>\n",
       "      <td>-0.047529</td>\n",
       "      <td>0.063184</td>\n",
       "      <td>0.120923</td>\n",
       "      <td>0.072126</td>\n",
       "      <td>0.038762</td>\n",
       "      <td>0.002313</td>\n",
       "      <td>0.034746</td>\n",
       "      <td>0.083280</td>\n",
       "      <td>0.074542</td>\n",
       "      <td>0.378210</td>\n",
       "      <td>0.519134</td>\n",
       "      <td>0.369544</td>\n",
       "      <td>1.000000</td>\n",
       "      <td>0.233122</td>\n",
       "      <td>0.628561</td>\n",
       "      <td>0.095793</td>\n",
       "      <td>-0.005573</td>\n",
       "      <td>-0.008542</td>\n",
       "    </tr>\n",
       "    <tr>\n",
       "      <th>Checkin service</th>\n",
       "      <td>-0.004321</td>\n",
       "      <td>0.079273</td>\n",
       "      <td>0.035482</td>\n",
       "      <td>0.073072</td>\n",
       "      <td>0.043193</td>\n",
       "      <td>0.093333</td>\n",
       "      <td>0.011081</td>\n",
       "      <td>-0.035427</td>\n",
       "      <td>0.087299</td>\n",
       "      <td>0.204462</td>\n",
       "      <td>0.191854</td>\n",
       "      <td>0.120867</td>\n",
       "      <td>0.243914</td>\n",
       "      <td>0.153137</td>\n",
       "      <td>0.233122</td>\n",
       "      <td>1.000000</td>\n",
       "      <td>0.237197</td>\n",
       "      <td>0.179583</td>\n",
       "      <td>-0.018453</td>\n",
       "      <td>-0.020369</td>\n",
       "    </tr>\n",
       "    <tr>\n",
       "      <th>Inflight service</th>\n",
       "      <td>-0.000134</td>\n",
       "      <td>0.079346</td>\n",
       "      <td>-0.049427</td>\n",
       "      <td>0.057540</td>\n",
       "      <td>0.110441</td>\n",
       "      <td>0.073318</td>\n",
       "      <td>0.035272</td>\n",
       "      <td>0.001681</td>\n",
       "      <td>0.033993</td>\n",
       "      <td>0.074573</td>\n",
       "      <td>0.069218</td>\n",
       "      <td>0.404855</td>\n",
       "      <td>0.550782</td>\n",
       "      <td>0.368656</td>\n",
       "      <td>0.628561</td>\n",
       "      <td>0.237197</td>\n",
       "      <td>1.000000</td>\n",
       "      <td>0.088779</td>\n",
       "      <td>-0.054813</td>\n",
       "      <td>-0.059196</td>\n",
       "    </tr>\n",
       "    <tr>\n",
       "      <th>Cleanliness</th>\n",
       "      <td>-0.001117</td>\n",
       "      <td>0.024965</td>\n",
       "      <td>0.053611</td>\n",
       "      <td>0.093149</td>\n",
       "      <td>0.132698</td>\n",
       "      <td>0.014292</td>\n",
       "      <td>0.016179</td>\n",
       "      <td>-0.003830</td>\n",
       "      <td>0.657760</td>\n",
       "      <td>0.331517</td>\n",
       "      <td>0.678534</td>\n",
       "      <td>0.691815</td>\n",
       "      <td>0.123220</td>\n",
       "      <td>0.096370</td>\n",
       "      <td>0.095793</td>\n",
       "      <td>0.179583</td>\n",
       "      <td>0.088779</td>\n",
       "      <td>1.000000</td>\n",
       "      <td>-0.014093</td>\n",
       "      <td>-0.015774</td>\n",
       "    </tr>\n",
       "    <tr>\n",
       "      <th>Departure Delay in Minutes</th>\n",
       "      <td>-0.000045</td>\n",
       "      <td>-0.019546</td>\n",
       "      <td>-0.010152</td>\n",
       "      <td>0.002158</td>\n",
       "      <td>-0.017402</td>\n",
       "      <td>0.001005</td>\n",
       "      <td>-0.006371</td>\n",
       "      <td>0.005467</td>\n",
       "      <td>-0.029926</td>\n",
       "      <td>-0.018982</td>\n",
       "      <td>-0.027898</td>\n",
       "      <td>-0.027489</td>\n",
       "      <td>-0.031569</td>\n",
       "      <td>0.014363</td>\n",
       "      <td>-0.005573</td>\n",
       "      <td>-0.018453</td>\n",
       "      <td>-0.054813</td>\n",
       "      <td>-0.014093</td>\n",
       "      <td>1.000000</td>\n",
       "      <td>0.965481</td>\n",
       "    </tr>\n",
       "    <tr>\n",
       "      <th>Arrival Delay in Minutes</th>\n",
       "      <td>-0.000045</td>\n",
       "      <td>-0.037254</td>\n",
       "      <td>-0.012147</td>\n",
       "      <td>-0.002426</td>\n",
       "      <td>-0.019095</td>\n",
       "      <td>-0.000864</td>\n",
       "      <td>-0.007984</td>\n",
       "      <td>0.005143</td>\n",
       "      <td>-0.032524</td>\n",
       "      <td>-0.021949</td>\n",
       "      <td>-0.029900</td>\n",
       "      <td>-0.030703</td>\n",
       "      <td>-0.035227</td>\n",
       "      <td>0.011843</td>\n",
       "      <td>-0.008542</td>\n",
       "      <td>-0.020369</td>\n",
       "      <td>-0.059196</td>\n",
       "      <td>-0.015774</td>\n",
       "      <td>0.965481</td>\n",
       "      <td>1.000000</td>\n",
       "    </tr>\n",
       "  </tbody>\n",
       "</table>\n",
       "</div>"
      ],
      "text/plain": [
       "                                   Unnamed: 0        id       Age  \\\n",
       "Unnamed: 0                           1.000000  0.002991  0.004786   \n",
       "id                                   0.002991  1.000000  0.022857   \n",
       "Age                                  0.004786  0.022857  1.000000   \n",
       "Flight Distance                      0.002794  0.095544  0.099461   \n",
       "Inflight wifi service               -0.002490 -0.021276  0.017859   \n",
       "Departure/Arrival time convenient    0.000739 -0.002110  0.038125   \n",
       "Ease of Online booking               0.001913  0.014163  0.024842   \n",
       "Gate location                        0.005073 -0.000606 -0.001330   \n",
       "Food and drink                      -0.002162  0.001063  0.023000   \n",
       "Online boarding                      0.001002  0.055477  0.208939   \n",
       "Seat comfort                         0.000044  0.052903  0.160277   \n",
       "Inflight entertainment               0.001363  0.002300  0.076444   \n",
       "On-board service                     0.000813  0.055241  0.057594   \n",
       "Leg room service                     0.004052  0.044634  0.040583   \n",
       "Baggage handling                    -0.000526  0.074940 -0.047529   \n",
       "Checkin service                     -0.004321  0.079273  0.035482   \n",
       "Inflight service                    -0.000134  0.079346 -0.049427   \n",
       "Cleanliness                         -0.001117  0.024965  0.053611   \n",
       "Departure Delay in Minutes          -0.000045 -0.019546 -0.010152   \n",
       "Arrival Delay in Minutes            -0.000045 -0.037254 -0.012147   \n",
       "\n",
       "                                   Flight Distance  Inflight wifi service  \\\n",
       "Unnamed: 0                                0.002794              -0.002490   \n",
       "id                                        0.095544              -0.021276   \n",
       "Age                                       0.099461               0.017859   \n",
       "Flight Distance                           1.000000               0.007131   \n",
       "Inflight wifi service                     0.007131               1.000000   \n",
       "Departure/Arrival time convenient        -0.020043               0.343845   \n",
       "Ease of Online booking                    0.065717               0.715856   \n",
       "Gate location                             0.004793               0.336248   \n",
       "Food and drink                            0.056994               0.134718   \n",
       "Online boarding                           0.214869               0.456970   \n",
       "Seat comfort                              0.157333               0.122658   \n",
       "Inflight entertainment                    0.128740               0.209321   \n",
       "On-board service                          0.109526               0.121500   \n",
       "Leg room service                          0.133916               0.160473   \n",
       "Baggage handling                          0.063184               0.120923   \n",
       "Checkin service                           0.073072               0.043193   \n",
       "Inflight service                          0.057540               0.110441   \n",
       "Cleanliness                               0.093149               0.132698   \n",
       "Departure Delay in Minutes                0.002158              -0.017402   \n",
       "Arrival Delay in Minutes                 -0.002426              -0.019095   \n",
       "\n",
       "                                   Departure/Arrival time convenient  \\\n",
       "Unnamed: 0                                                  0.000739   \n",
       "id                                                         -0.002110   \n",
       "Age                                                         0.038125   \n",
       "Flight Distance                                            -0.020043   \n",
       "Inflight wifi service                                       0.343845   \n",
       "Departure/Arrival time convenient                           1.000000   \n",
       "Ease of Online booking                                      0.436961   \n",
       "Gate location                                               0.444757   \n",
       "Food and drink                                              0.004906   \n",
       "Online boarding                                             0.070119   \n",
       "Seat comfort                                                0.011344   \n",
       "Inflight entertainment                                     -0.004861   \n",
       "On-board service                                            0.068882   \n",
       "Leg room service                                            0.012441   \n",
       "Baggage handling                                            0.072126   \n",
       "Checkin service                                             0.093333   \n",
       "Inflight service                                            0.073318   \n",
       "Cleanliness                                                 0.014292   \n",
       "Departure Delay in Minutes                                  0.001005   \n",
       "Arrival Delay in Minutes                                   -0.000864   \n",
       "\n",
       "                                   Ease of Online booking  Gate location  \\\n",
       "Unnamed: 0                                       0.001913       0.005073   \n",
       "id                                               0.014163      -0.000606   \n",
       "Age                                              0.024842      -0.001330   \n",
       "Flight Distance                                  0.065717       0.004793   \n",
       "Inflight wifi service                            0.715856       0.336248   \n",
       "Departure/Arrival time convenient                0.436961       0.444757   \n",
       "Ease of Online booking                           1.000000       0.458655   \n",
       "Gate location                                    0.458655       1.000000   \n",
       "Food and drink                                   0.031873      -0.001159   \n",
       "Online boarding                                  0.404074       0.001688   \n",
       "Seat comfort                                     0.030014       0.003669   \n",
       "Inflight entertainment                           0.047032       0.003517   \n",
       "On-board service                                 0.038833      -0.028373   \n",
       "Leg room service                                 0.107601      -0.005873   \n",
       "Baggage handling                                 0.038762       0.002313   \n",
       "Checkin service                                  0.011081      -0.035427   \n",
       "Inflight service                                 0.035272       0.001681   \n",
       "Cleanliness                                      0.016179      -0.003830   \n",
       "Departure Delay in Minutes                      -0.006371       0.005467   \n",
       "Arrival Delay in Minutes                        -0.007984       0.005143   \n",
       "\n",
       "                                   Food and drink  Online boarding  \\\n",
       "Unnamed: 0                              -0.002162         0.001002   \n",
       "id                                       0.001063         0.055477   \n",
       "Age                                      0.023000         0.208939   \n",
       "Flight Distance                          0.056994         0.214869   \n",
       "Inflight wifi service                    0.134718         0.456970   \n",
       "Departure/Arrival time convenient        0.004906         0.070119   \n",
       "Ease of Online booking                   0.031873         0.404074   \n",
       "Gate location                           -0.001159         0.001688   \n",
       "Food and drink                           1.000000         0.234468   \n",
       "Online boarding                          0.234468         1.000000   \n",
       "Seat comfort                             0.574556         0.420211   \n",
       "Inflight entertainment                   0.622512         0.285066   \n",
       "On-board service                         0.059073         0.155443   \n",
       "Leg room service                         0.032498         0.123950   \n",
       "Baggage handling                         0.034746         0.083280   \n",
       "Checkin service                          0.087299         0.204462   \n",
       "Inflight service                         0.033993         0.074573   \n",
       "Cleanliness                              0.657760         0.331517   \n",
       "Departure Delay in Minutes              -0.029926        -0.018982   \n",
       "Arrival Delay in Minutes                -0.032524        -0.021949   \n",
       "\n",
       "                                   Seat comfort  Inflight entertainment  \\\n",
       "Unnamed: 0                             0.000044                0.001363   \n",
       "id                                     0.052903                0.002300   \n",
       "Age                                    0.160277                0.076444   \n",
       "Flight Distance                        0.157333                0.128740   \n",
       "Inflight wifi service                  0.122658                0.209321   \n",
       "Departure/Arrival time convenient      0.011344               -0.004861   \n",
       "Ease of Online booking                 0.030014                0.047032   \n",
       "Gate location                          0.003669                0.003517   \n",
       "Food and drink                         0.574556                0.622512   \n",
       "Online boarding                        0.420211                0.285066   \n",
       "Seat comfort                           1.000000                0.610590   \n",
       "Inflight entertainment                 0.610590                1.000000   \n",
       "On-board service                       0.131971                0.420153   \n",
       "Leg room service                       0.105559                0.299692   \n",
       "Baggage handling                       0.074542                0.378210   \n",
       "Checkin service                        0.191854                0.120867   \n",
       "Inflight service                       0.069218                0.404855   \n",
       "Cleanliness                            0.678534                0.691815   \n",
       "Departure Delay in Minutes            -0.027898               -0.027489   \n",
       "Arrival Delay in Minutes              -0.029900               -0.030703   \n",
       "\n",
       "                                   On-board service  Leg room service  \\\n",
       "Unnamed: 0                                 0.000813          0.004052   \n",
       "id                                         0.055241          0.044634   \n",
       "Age                                        0.057594          0.040583   \n",
       "Flight Distance                            0.109526          0.133916   \n",
       "Inflight wifi service                      0.121500          0.160473   \n",
       "Departure/Arrival time convenient          0.068882          0.012441   \n",
       "Ease of Online booking                     0.038833          0.107601   \n",
       "Gate location                             -0.028373         -0.005873   \n",
       "Food and drink                             0.059073          0.032498   \n",
       "Online boarding                            0.155443          0.123950   \n",
       "Seat comfort                               0.131971          0.105559   \n",
       "Inflight entertainment                     0.420153          0.299692   \n",
       "On-board service                           1.000000          0.355495   \n",
       "Leg room service                           0.355495          1.000000   \n",
       "Baggage handling                           0.519134          0.369544   \n",
       "Checkin service                            0.243914          0.153137   \n",
       "Inflight service                           0.550782          0.368656   \n",
       "Cleanliness                                0.123220          0.096370   \n",
       "Departure Delay in Minutes                -0.031569          0.014363   \n",
       "Arrival Delay in Minutes                  -0.035227          0.011843   \n",
       "\n",
       "                                   Baggage handling  Checkin service  \\\n",
       "Unnamed: 0                                -0.000526        -0.004321   \n",
       "id                                         0.074940         0.079273   \n",
       "Age                                       -0.047529         0.035482   \n",
       "Flight Distance                            0.063184         0.073072   \n",
       "Inflight wifi service                      0.120923         0.043193   \n",
       "Departure/Arrival time convenient          0.072126         0.093333   \n",
       "Ease of Online booking                     0.038762         0.011081   \n",
       "Gate location                              0.002313        -0.035427   \n",
       "Food and drink                             0.034746         0.087299   \n",
       "Online boarding                            0.083280         0.204462   \n",
       "Seat comfort                               0.074542         0.191854   \n",
       "Inflight entertainment                     0.378210         0.120867   \n",
       "On-board service                           0.519134         0.243914   \n",
       "Leg room service                           0.369544         0.153137   \n",
       "Baggage handling                           1.000000         0.233122   \n",
       "Checkin service                            0.233122         1.000000   \n",
       "Inflight service                           0.628561         0.237197   \n",
       "Cleanliness                                0.095793         0.179583   \n",
       "Departure Delay in Minutes                -0.005573        -0.018453   \n",
       "Arrival Delay in Minutes                  -0.008542        -0.020369   \n",
       "\n",
       "                                   Inflight service  Cleanliness  \\\n",
       "Unnamed: 0                                -0.000134    -0.001117   \n",
       "id                                         0.079346     0.024965   \n",
       "Age                                       -0.049427     0.053611   \n",
       "Flight Distance                            0.057540     0.093149   \n",
       "Inflight wifi service                      0.110441     0.132698   \n",
       "Departure/Arrival time convenient          0.073318     0.014292   \n",
       "Ease of Online booking                     0.035272     0.016179   \n",
       "Gate location                              0.001681    -0.003830   \n",
       "Food and drink                             0.033993     0.657760   \n",
       "Online boarding                            0.074573     0.331517   \n",
       "Seat comfort                               0.069218     0.678534   \n",
       "Inflight entertainment                     0.404855     0.691815   \n",
       "On-board service                           0.550782     0.123220   \n",
       "Leg room service                           0.368656     0.096370   \n",
       "Baggage handling                           0.628561     0.095793   \n",
       "Checkin service                            0.237197     0.179583   \n",
       "Inflight service                           1.000000     0.088779   \n",
       "Cleanliness                                0.088779     1.000000   \n",
       "Departure Delay in Minutes                -0.054813    -0.014093   \n",
       "Arrival Delay in Minutes                  -0.059196    -0.015774   \n",
       "\n",
       "                                   Departure Delay in Minutes  \\\n",
       "Unnamed: 0                                          -0.000045   \n",
       "id                                                  -0.019546   \n",
       "Age                                                 -0.010152   \n",
       "Flight Distance                                      0.002158   \n",
       "Inflight wifi service                               -0.017402   \n",
       "Departure/Arrival time convenient                    0.001005   \n",
       "Ease of Online booking                              -0.006371   \n",
       "Gate location                                        0.005467   \n",
       "Food and drink                                      -0.029926   \n",
       "Online boarding                                     -0.018982   \n",
       "Seat comfort                                        -0.027898   \n",
       "Inflight entertainment                              -0.027489   \n",
       "On-board service                                    -0.031569   \n",
       "Leg room service                                     0.014363   \n",
       "Baggage handling                                    -0.005573   \n",
       "Checkin service                                     -0.018453   \n",
       "Inflight service                                    -0.054813   \n",
       "Cleanliness                                         -0.014093   \n",
       "Departure Delay in Minutes                           1.000000   \n",
       "Arrival Delay in Minutes                             0.965481   \n",
       "\n",
       "                                   Arrival Delay in Minutes  \n",
       "Unnamed: 0                                        -0.000045  \n",
       "id                                                -0.037254  \n",
       "Age                                               -0.012147  \n",
       "Flight Distance                                   -0.002426  \n",
       "Inflight wifi service                             -0.019095  \n",
       "Departure/Arrival time convenient                 -0.000864  \n",
       "Ease of Online booking                            -0.007984  \n",
       "Gate location                                      0.005143  \n",
       "Food and drink                                    -0.032524  \n",
       "Online boarding                                   -0.021949  \n",
       "Seat comfort                                      -0.029900  \n",
       "Inflight entertainment                            -0.030703  \n",
       "On-board service                                  -0.035227  \n",
       "Leg room service                                   0.011843  \n",
       "Baggage handling                                  -0.008542  \n",
       "Checkin service                                   -0.020369  \n",
       "Inflight service                                  -0.059196  \n",
       "Cleanliness                                       -0.015774  \n",
       "Departure Delay in Minutes                         0.965481  \n",
       "Arrival Delay in Minutes                           1.000000  "
      ]
     },
     "execution_count": 98,
     "metadata": {},
     "output_type": "execute_result"
    }
   ],
   "source": [
    "df.corr()"
   ]
  },
  {
   "cell_type": "markdown",
   "id": "50e6f896",
   "metadata": {},
   "source": [
    "# 4) Feature Engineering"
   ]
  },
  {
   "cell_type": "code",
   "execution_count": 99,
   "id": "1d9981c9",
   "metadata": {},
   "outputs": [
    {
     "data": {
      "text/html": [
       "<div>\n",
       "<style scoped>\n",
       "    .dataframe tbody tr th:only-of-type {\n",
       "        vertical-align: middle;\n",
       "    }\n",
       "\n",
       "    .dataframe tbody tr th {\n",
       "        vertical-align: top;\n",
       "    }\n",
       "\n",
       "    .dataframe thead th {\n",
       "        text-align: right;\n",
       "    }\n",
       "</style>\n",
       "<table border=\"1\" class=\"dataframe\">\n",
       "  <thead>\n",
       "    <tr style=\"text-align: right;\">\n",
       "      <th></th>\n",
       "      <th>Unnamed: 0</th>\n",
       "      <th>id</th>\n",
       "      <th>Gender</th>\n",
       "      <th>Customer Type</th>\n",
       "      <th>Age</th>\n",
       "      <th>Type of Travel</th>\n",
       "      <th>Class</th>\n",
       "      <th>Flight Distance</th>\n",
       "      <th>Inflight wifi service</th>\n",
       "      <th>Departure/Arrival time convenient</th>\n",
       "      <th>...</th>\n",
       "      <th>Inflight entertainment</th>\n",
       "      <th>On-board service</th>\n",
       "      <th>Leg room service</th>\n",
       "      <th>Baggage handling</th>\n",
       "      <th>Checkin service</th>\n",
       "      <th>Inflight service</th>\n",
       "      <th>Cleanliness</th>\n",
       "      <th>Departure Delay in Minutes</th>\n",
       "      <th>Arrival Delay in Minutes</th>\n",
       "      <th>satisfaction</th>\n",
       "    </tr>\n",
       "  </thead>\n",
       "  <tbody>\n",
       "    <tr>\n",
       "      <th>0</th>\n",
       "      <td>0</td>\n",
       "      <td>70172</td>\n",
       "      <td>Male</td>\n",
       "      <td>Loyal Customer</td>\n",
       "      <td>13</td>\n",
       "      <td>Personal Travel</td>\n",
       "      <td>Eco Plus</td>\n",
       "      <td>460</td>\n",
       "      <td>3</td>\n",
       "      <td>4</td>\n",
       "      <td>...</td>\n",
       "      <td>5</td>\n",
       "      <td>4</td>\n",
       "      <td>3</td>\n",
       "      <td>4</td>\n",
       "      <td>4</td>\n",
       "      <td>5</td>\n",
       "      <td>5</td>\n",
       "      <td>25</td>\n",
       "      <td>18.0</td>\n",
       "      <td>neutral or dissatisfied</td>\n",
       "    </tr>\n",
       "    <tr>\n",
       "      <th>1</th>\n",
       "      <td>1</td>\n",
       "      <td>5047</td>\n",
       "      <td>Male</td>\n",
       "      <td>disloyal Customer</td>\n",
       "      <td>25</td>\n",
       "      <td>Business travel</td>\n",
       "      <td>Business</td>\n",
       "      <td>235</td>\n",
       "      <td>3</td>\n",
       "      <td>2</td>\n",
       "      <td>...</td>\n",
       "      <td>1</td>\n",
       "      <td>1</td>\n",
       "      <td>5</td>\n",
       "      <td>3</td>\n",
       "      <td>1</td>\n",
       "      <td>4</td>\n",
       "      <td>1</td>\n",
       "      <td>1</td>\n",
       "      <td>6.0</td>\n",
       "      <td>neutral or dissatisfied</td>\n",
       "    </tr>\n",
       "    <tr>\n",
       "      <th>2</th>\n",
       "      <td>2</td>\n",
       "      <td>110028</td>\n",
       "      <td>Female</td>\n",
       "      <td>Loyal Customer</td>\n",
       "      <td>26</td>\n",
       "      <td>Business travel</td>\n",
       "      <td>Business</td>\n",
       "      <td>1142</td>\n",
       "      <td>2</td>\n",
       "      <td>2</td>\n",
       "      <td>...</td>\n",
       "      <td>5</td>\n",
       "      <td>4</td>\n",
       "      <td>3</td>\n",
       "      <td>4</td>\n",
       "      <td>4</td>\n",
       "      <td>4</td>\n",
       "      <td>5</td>\n",
       "      <td>0</td>\n",
       "      <td>0.0</td>\n",
       "      <td>satisfied</td>\n",
       "    </tr>\n",
       "    <tr>\n",
       "      <th>3</th>\n",
       "      <td>3</td>\n",
       "      <td>24026</td>\n",
       "      <td>Female</td>\n",
       "      <td>Loyal Customer</td>\n",
       "      <td>25</td>\n",
       "      <td>Business travel</td>\n",
       "      <td>Business</td>\n",
       "      <td>562</td>\n",
       "      <td>2</td>\n",
       "      <td>5</td>\n",
       "      <td>...</td>\n",
       "      <td>2</td>\n",
       "      <td>2</td>\n",
       "      <td>5</td>\n",
       "      <td>3</td>\n",
       "      <td>1</td>\n",
       "      <td>4</td>\n",
       "      <td>2</td>\n",
       "      <td>11</td>\n",
       "      <td>9.0</td>\n",
       "      <td>neutral or dissatisfied</td>\n",
       "    </tr>\n",
       "    <tr>\n",
       "      <th>4</th>\n",
       "      <td>4</td>\n",
       "      <td>119299</td>\n",
       "      <td>Male</td>\n",
       "      <td>Loyal Customer</td>\n",
       "      <td>61</td>\n",
       "      <td>Business travel</td>\n",
       "      <td>Business</td>\n",
       "      <td>214</td>\n",
       "      <td>3</td>\n",
       "      <td>3</td>\n",
       "      <td>...</td>\n",
       "      <td>3</td>\n",
       "      <td>3</td>\n",
       "      <td>4</td>\n",
       "      <td>4</td>\n",
       "      <td>3</td>\n",
       "      <td>3</td>\n",
       "      <td>3</td>\n",
       "      <td>0</td>\n",
       "      <td>0.0</td>\n",
       "      <td>satisfied</td>\n",
       "    </tr>\n",
       "    <tr>\n",
       "      <th>...</th>\n",
       "      <td>...</td>\n",
       "      <td>...</td>\n",
       "      <td>...</td>\n",
       "      <td>...</td>\n",
       "      <td>...</td>\n",
       "      <td>...</td>\n",
       "      <td>...</td>\n",
       "      <td>...</td>\n",
       "      <td>...</td>\n",
       "      <td>...</td>\n",
       "      <td>...</td>\n",
       "      <td>...</td>\n",
       "      <td>...</td>\n",
       "      <td>...</td>\n",
       "      <td>...</td>\n",
       "      <td>...</td>\n",
       "      <td>...</td>\n",
       "      <td>...</td>\n",
       "      <td>...</td>\n",
       "      <td>...</td>\n",
       "      <td>...</td>\n",
       "    </tr>\n",
       "    <tr>\n",
       "      <th>103899</th>\n",
       "      <td>103899</td>\n",
       "      <td>94171</td>\n",
       "      <td>Female</td>\n",
       "      <td>disloyal Customer</td>\n",
       "      <td>23</td>\n",
       "      <td>Business travel</td>\n",
       "      <td>Eco</td>\n",
       "      <td>192</td>\n",
       "      <td>2</td>\n",
       "      <td>1</td>\n",
       "      <td>...</td>\n",
       "      <td>2</td>\n",
       "      <td>3</td>\n",
       "      <td>1</td>\n",
       "      <td>4</td>\n",
       "      <td>2</td>\n",
       "      <td>3</td>\n",
       "      <td>2</td>\n",
       "      <td>3</td>\n",
       "      <td>0.0</td>\n",
       "      <td>neutral or dissatisfied</td>\n",
       "    </tr>\n",
       "    <tr>\n",
       "      <th>103900</th>\n",
       "      <td>103900</td>\n",
       "      <td>73097</td>\n",
       "      <td>Male</td>\n",
       "      <td>Loyal Customer</td>\n",
       "      <td>49</td>\n",
       "      <td>Business travel</td>\n",
       "      <td>Business</td>\n",
       "      <td>2347</td>\n",
       "      <td>4</td>\n",
       "      <td>4</td>\n",
       "      <td>...</td>\n",
       "      <td>5</td>\n",
       "      <td>5</td>\n",
       "      <td>5</td>\n",
       "      <td>5</td>\n",
       "      <td>5</td>\n",
       "      <td>5</td>\n",
       "      <td>4</td>\n",
       "      <td>0</td>\n",
       "      <td>0.0</td>\n",
       "      <td>satisfied</td>\n",
       "    </tr>\n",
       "    <tr>\n",
       "      <th>103901</th>\n",
       "      <td>103901</td>\n",
       "      <td>68825</td>\n",
       "      <td>Male</td>\n",
       "      <td>disloyal Customer</td>\n",
       "      <td>30</td>\n",
       "      <td>Business travel</td>\n",
       "      <td>Business</td>\n",
       "      <td>1995</td>\n",
       "      <td>1</td>\n",
       "      <td>1</td>\n",
       "      <td>...</td>\n",
       "      <td>4</td>\n",
       "      <td>3</td>\n",
       "      <td>2</td>\n",
       "      <td>4</td>\n",
       "      <td>5</td>\n",
       "      <td>5</td>\n",
       "      <td>4</td>\n",
       "      <td>7</td>\n",
       "      <td>14.0</td>\n",
       "      <td>neutral or dissatisfied</td>\n",
       "    </tr>\n",
       "    <tr>\n",
       "      <th>103902</th>\n",
       "      <td>103902</td>\n",
       "      <td>54173</td>\n",
       "      <td>Female</td>\n",
       "      <td>disloyal Customer</td>\n",
       "      <td>22</td>\n",
       "      <td>Business travel</td>\n",
       "      <td>Eco</td>\n",
       "      <td>1000</td>\n",
       "      <td>1</td>\n",
       "      <td>1</td>\n",
       "      <td>...</td>\n",
       "      <td>1</td>\n",
       "      <td>4</td>\n",
       "      <td>5</td>\n",
       "      <td>1</td>\n",
       "      <td>5</td>\n",
       "      <td>4</td>\n",
       "      <td>1</td>\n",
       "      <td>0</td>\n",
       "      <td>0.0</td>\n",
       "      <td>neutral or dissatisfied</td>\n",
       "    </tr>\n",
       "    <tr>\n",
       "      <th>103903</th>\n",
       "      <td>103903</td>\n",
       "      <td>62567</td>\n",
       "      <td>Male</td>\n",
       "      <td>Loyal Customer</td>\n",
       "      <td>27</td>\n",
       "      <td>Business travel</td>\n",
       "      <td>Business</td>\n",
       "      <td>1723</td>\n",
       "      <td>1</td>\n",
       "      <td>3</td>\n",
       "      <td>...</td>\n",
       "      <td>1</td>\n",
       "      <td>1</td>\n",
       "      <td>1</td>\n",
       "      <td>4</td>\n",
       "      <td>4</td>\n",
       "      <td>3</td>\n",
       "      <td>1</td>\n",
       "      <td>0</td>\n",
       "      <td>0.0</td>\n",
       "      <td>neutral or dissatisfied</td>\n",
       "    </tr>\n",
       "  </tbody>\n",
       "</table>\n",
       "<p>103904 rows × 25 columns</p>\n",
       "</div>"
      ],
      "text/plain": [
       "        Unnamed: 0      id  Gender      Customer Type  Age   Type of Travel  \\\n",
       "0                0   70172    Male     Loyal Customer   13  Personal Travel   \n",
       "1                1    5047    Male  disloyal Customer   25  Business travel   \n",
       "2                2  110028  Female     Loyal Customer   26  Business travel   \n",
       "3                3   24026  Female     Loyal Customer   25  Business travel   \n",
       "4                4  119299    Male     Loyal Customer   61  Business travel   \n",
       "...            ...     ...     ...                ...  ...              ...   \n",
       "103899      103899   94171  Female  disloyal Customer   23  Business travel   \n",
       "103900      103900   73097    Male     Loyal Customer   49  Business travel   \n",
       "103901      103901   68825    Male  disloyal Customer   30  Business travel   \n",
       "103902      103902   54173  Female  disloyal Customer   22  Business travel   \n",
       "103903      103903   62567    Male     Loyal Customer   27  Business travel   \n",
       "\n",
       "           Class  Flight Distance  Inflight wifi service  \\\n",
       "0       Eco Plus              460                      3   \n",
       "1       Business              235                      3   \n",
       "2       Business             1142                      2   \n",
       "3       Business              562                      2   \n",
       "4       Business              214                      3   \n",
       "...          ...              ...                    ...   \n",
       "103899       Eco              192                      2   \n",
       "103900  Business             2347                      4   \n",
       "103901  Business             1995                      1   \n",
       "103902       Eco             1000                      1   \n",
       "103903  Business             1723                      1   \n",
       "\n",
       "        Departure/Arrival time convenient  ...  Inflight entertainment  \\\n",
       "0                                       4  ...                       5   \n",
       "1                                       2  ...                       1   \n",
       "2                                       2  ...                       5   \n",
       "3                                       5  ...                       2   \n",
       "4                                       3  ...                       3   \n",
       "...                                   ...  ...                     ...   \n",
       "103899                                  1  ...                       2   \n",
       "103900                                  4  ...                       5   \n",
       "103901                                  1  ...                       4   \n",
       "103902                                  1  ...                       1   \n",
       "103903                                  3  ...                       1   \n",
       "\n",
       "        On-board service  Leg room service  Baggage handling  Checkin service  \\\n",
       "0                      4                 3                 4                4   \n",
       "1                      1                 5                 3                1   \n",
       "2                      4                 3                 4                4   \n",
       "3                      2                 5                 3                1   \n",
       "4                      3                 4                 4                3   \n",
       "...                  ...               ...               ...              ...   \n",
       "103899                 3                 1                 4                2   \n",
       "103900                 5                 5                 5                5   \n",
       "103901                 3                 2                 4                5   \n",
       "103902                 4                 5                 1                5   \n",
       "103903                 1                 1                 4                4   \n",
       "\n",
       "        Inflight service  Cleanliness  Departure Delay in Minutes  \\\n",
       "0                      5            5                          25   \n",
       "1                      4            1                           1   \n",
       "2                      4            5                           0   \n",
       "3                      4            2                          11   \n",
       "4                      3            3                           0   \n",
       "...                  ...          ...                         ...   \n",
       "103899                 3            2                           3   \n",
       "103900                 5            4                           0   \n",
       "103901                 5            4                           7   \n",
       "103902                 4            1                           0   \n",
       "103903                 3            1                           0   \n",
       "\n",
       "        Arrival Delay in Minutes             satisfaction  \n",
       "0                           18.0  neutral or dissatisfied  \n",
       "1                            6.0  neutral or dissatisfied  \n",
       "2                            0.0                satisfied  \n",
       "3                            9.0  neutral or dissatisfied  \n",
       "4                            0.0                satisfied  \n",
       "...                          ...                      ...  \n",
       "103899                       0.0  neutral or dissatisfied  \n",
       "103900                       0.0                satisfied  \n",
       "103901                      14.0  neutral or dissatisfied  \n",
       "103902                       0.0  neutral or dissatisfied  \n",
       "103903                       0.0  neutral or dissatisfied  \n",
       "\n",
       "[103904 rows x 25 columns]"
      ]
     },
     "execution_count": 99,
     "metadata": {},
     "output_type": "execute_result"
    }
   ],
   "source": [
    "df"
   ]
  },
  {
   "cell_type": "code",
   "execution_count": 100,
   "id": "68e239de",
   "metadata": {},
   "outputs": [],
   "source": [
    "x = df.drop('satisfaction',axis=1)\n",
    "y = df['satisfaction']"
   ]
  },
  {
   "cell_type": "markdown",
   "id": "d3a3e06e",
   "metadata": {},
   "source": [
    "### train_test_split"
   ]
  },
  {
   "cell_type": "code",
   "execution_count": 101,
   "id": "af638467",
   "metadata": {},
   "outputs": [],
   "source": [
    "x_train,x_test,y_train,y_test = train_test_split(x,y,test_size=0.20,random_state=1,stratify=y)"
   ]
  },
  {
   "cell_type": "code",
   "execution_count": 102,
   "id": "b997df6b",
   "metadata": {},
   "outputs": [
    {
     "data": {
      "text/plain": [
       "(83123, 24)"
      ]
     },
     "execution_count": 102,
     "metadata": {},
     "output_type": "execute_result"
    }
   ],
   "source": [
    "x_train.shape"
   ]
  },
  {
   "cell_type": "code",
   "execution_count": 103,
   "id": "275d0419",
   "metadata": {},
   "outputs": [
    {
     "data": {
      "text/plain": [
       "(20781, 24)"
      ]
     },
     "execution_count": 103,
     "metadata": {},
     "output_type": "execute_result"
    }
   ],
   "source": [
    "x_test.shape"
   ]
  },
  {
   "cell_type": "code",
   "execution_count": 104,
   "id": "141435ad",
   "metadata": {},
   "outputs": [
    {
     "data": {
      "text/plain": [
       "(20781,)"
      ]
     },
     "execution_count": 104,
     "metadata": {},
     "output_type": "execute_result"
    }
   ],
   "source": [
    "y_test.shape"
   ]
  },
  {
   "cell_type": "code",
   "execution_count": 105,
   "id": "7e7f9ebf",
   "metadata": {},
   "outputs": [
    {
     "data": {
      "text/plain": [
       "(83123,)"
      ]
     },
     "execution_count": 105,
     "metadata": {},
     "output_type": "execute_result"
    }
   ],
   "source": [
    "y_train.shape"
   ]
  },
  {
   "cell_type": "code",
   "execution_count": 106,
   "id": "e54e3ed0",
   "metadata": {},
   "outputs": [
    {
     "name": "stdout",
     "output_type": "stream",
     "text": [
      "<class 'pandas.core.frame.DataFrame'>\n",
      "RangeIndex: 103904 entries, 0 to 103903\n",
      "Data columns (total 25 columns):\n",
      " #   Column                             Non-Null Count   Dtype  \n",
      "---  ------                             --------------   -----  \n",
      " 0   Unnamed: 0                         103904 non-null  int64  \n",
      " 1   id                                 103904 non-null  int64  \n",
      " 2   Gender                             103904 non-null  object \n",
      " 3   Customer Type                      103904 non-null  object \n",
      " 4   Age                                103904 non-null  int64  \n",
      " 5   Type of Travel                     103904 non-null  object \n",
      " 6   Class                              103904 non-null  object \n",
      " 7   Flight Distance                    103904 non-null  int64  \n",
      " 8   Inflight wifi service              103904 non-null  int64  \n",
      " 9   Departure/Arrival time convenient  103904 non-null  int64  \n",
      " 10  Ease of Online booking             103904 non-null  int64  \n",
      " 11  Gate location                      103904 non-null  int64  \n",
      " 12  Food and drink                     103904 non-null  int64  \n",
      " 13  Online boarding                    103904 non-null  int64  \n",
      " 14  Seat comfort                       103904 non-null  int64  \n",
      " 15  Inflight entertainment             103904 non-null  int64  \n",
      " 16  On-board service                   103904 non-null  int64  \n",
      " 17  Leg room service                   103904 non-null  int64  \n",
      " 18  Baggage handling                   103904 non-null  int64  \n",
      " 19  Checkin service                    103904 non-null  int64  \n",
      " 20  Inflight service                   103904 non-null  int64  \n",
      " 21  Cleanliness                        103904 non-null  int64  \n",
      " 22  Departure Delay in Minutes         103904 non-null  int64  \n",
      " 23  Arrival Delay in Minutes           103594 non-null  float64\n",
      " 24  satisfaction                       103904 non-null  object \n",
      "dtypes: float64(1), int64(19), object(5)\n",
      "memory usage: 19.8+ MB\n"
     ]
    }
   ],
   "source": [
    "df.info()"
   ]
  },
  {
   "cell_type": "markdown",
   "id": "4879ff97",
   "metadata": {},
   "source": [
    "### 1) Gender"
   ]
  },
  {
   "cell_type": "code",
   "execution_count": 107,
   "id": "0a8c01ed",
   "metadata": {},
   "outputs": [],
   "source": [
    "x_train['Gender'].replace({'Male':1,'Female':0},inplace=True)\n",
    "x_test['Gender'].replace({'Male':1,'Female':0},inplace=True)"
   ]
  },
  {
   "cell_type": "markdown",
   "id": "c9119fc5",
   "metadata": {},
   "source": [
    "### 2) Customer Type"
   ]
  },
  {
   "cell_type": "code",
   "execution_count": 108,
   "id": "bdff7f1f",
   "metadata": {},
   "outputs": [],
   "source": [
    "x_train['Customer Type'].replace({'Loyal Customer':1,'disloyal Customer':0},inplace=True)\n",
    "x_test['Customer Type'].replace({'Loyal Customer':1,'disloyal Customer':0},inplace=True)"
   ]
  },
  {
   "cell_type": "markdown",
   "id": "df0f054d",
   "metadata": {},
   "source": [
    "### 3) Type of Travel"
   ]
  },
  {
   "cell_type": "code",
   "execution_count": 109,
   "id": "feb4a38f",
   "metadata": {},
   "outputs": [
    {
     "data": {
      "text/plain": [
       "Business travel    71655\n",
       "Personal Travel    32249\n",
       "Name: Type of Travel, dtype: int64"
      ]
     },
     "execution_count": 109,
     "metadata": {},
     "output_type": "execute_result"
    }
   ],
   "source": [
    "df['Type of Travel'].value_counts()"
   ]
  },
  {
   "cell_type": "code",
   "execution_count": 110,
   "id": "9c736298",
   "metadata": {},
   "outputs": [],
   "source": [
    "x_train['Type of Travel'].replace({'Business travel':0,'Personal Travel':1},inplace=True)\n",
    "x_test['Type of Travel'].replace({'Business travel':0,'Personal Travel':1},inplace=True)"
   ]
  },
  {
   "cell_type": "markdown",
   "id": "c394d821",
   "metadata": {},
   "source": [
    "### 4) Age"
   ]
  },
  {
   "cell_type": "code",
   "execution_count": 111,
   "id": "6702e907",
   "metadata": {},
   "outputs": [
    {
     "data": {
      "text/plain": [
       "49176    3.741657\n",
       "78503    7.549834\n",
       "1554     5.000000\n",
       "81978    4.123106\n",
       "71618    4.795832\n",
       "           ...   \n",
       "7427     8.000000\n",
       "73883    6.557439\n",
       "35517    7.348469\n",
       "3413     5.196152\n",
       "87387    4.795832\n",
       "Name: Age, Length: 20781, dtype: float64"
      ]
     },
     "execution_count": 111,
     "metadata": {},
     "output_type": "execute_result"
    }
   ],
   "source": [
    "x_test['Age'] = np.sqrt(x_test['Age'])\n",
    "x_test['Age']"
   ]
  },
  {
   "cell_type": "code",
   "execution_count": 112,
   "id": "6f309951",
   "metadata": {},
   "outputs": [
    {
     "data": {
      "text/plain": [
       "[]"
      ]
     },
     "execution_count": 112,
     "metadata": {},
     "output_type": "execute_result"
    }
   ],
   "source": [
    "outliers_(x_test['Age'])"
   ]
  },
  {
   "cell_type": "code",
   "execution_count": 113,
   "id": "c158c303",
   "metadata": {},
   "outputs": [
    {
     "data": {
      "text/plain": [
       "102865    7.416198\n",
       "80418     5.830952\n",
       "93600     4.795832\n",
       "11563     6.708204\n",
       "58399     7.211103\n",
       "            ...   \n",
       "31549     6.633250\n",
       "92276     3.162278\n",
       "8983      6.164414\n",
       "58327     7.549834\n",
       "82570     7.937254\n",
       "Name: Age, Length: 83123, dtype: float64"
      ]
     },
     "execution_count": 113,
     "metadata": {},
     "output_type": "execute_result"
    }
   ],
   "source": [
    "x_train['Age'] = np.sqrt(x_train['Age'])\n",
    "x_train['Age']"
   ]
  },
  {
   "cell_type": "code",
   "execution_count": 114,
   "id": "af676647",
   "metadata": {},
   "outputs": [
    {
     "data": {
      "text/plain": [
       "[]"
      ]
     },
     "execution_count": 114,
     "metadata": {},
     "output_type": "execute_result"
    }
   ],
   "source": [
    "outliers_(x_train['Age'])"
   ]
  },
  {
   "cell_type": "markdown",
   "id": "73e8f849",
   "metadata": {},
   "source": [
    "### 5) Class"
   ]
  },
  {
   "cell_type": "code",
   "execution_count": 115,
   "id": "0af2451c",
   "metadata": {},
   "outputs": [
    {
     "data": {
      "text/plain": [
       "Business    49665\n",
       "Eco         46745\n",
       "Eco Plus     7494\n",
       "Name: Class, dtype: int64"
      ]
     },
     "execution_count": 115,
     "metadata": {},
     "output_type": "execute_result"
    }
   ],
   "source": [
    "df['Class'].value_counts()"
   ]
  },
  {
   "cell_type": "code",
   "execution_count": 116,
   "id": "29b55b4f",
   "metadata": {},
   "outputs": [],
   "source": [
    "x_train['Class'].replace({'Business':0,'Eco':1,'Eco Plus':2},inplace=True)\n",
    "x_test['Class'].replace({'Business':0,'Eco':1,'Eco Plus':2},inplace=True)"
   ]
  },
  {
   "cell_type": "code",
   "execution_count": 117,
   "id": "06c6a1d9",
   "metadata": {},
   "outputs": [
    {
     "data": {
      "text/html": [
       "<div>\n",
       "<style scoped>\n",
       "    .dataframe tbody tr th:only-of-type {\n",
       "        vertical-align: middle;\n",
       "    }\n",
       "\n",
       "    .dataframe tbody tr th {\n",
       "        vertical-align: top;\n",
       "    }\n",
       "\n",
       "    .dataframe thead th {\n",
       "        text-align: right;\n",
       "    }\n",
       "</style>\n",
       "<table border=\"1\" class=\"dataframe\">\n",
       "  <thead>\n",
       "    <tr style=\"text-align: right;\">\n",
       "      <th></th>\n",
       "      <th>Unnamed: 0</th>\n",
       "      <th>id</th>\n",
       "      <th>Gender</th>\n",
       "      <th>Customer Type</th>\n",
       "      <th>Age</th>\n",
       "      <th>Type of Travel</th>\n",
       "      <th>Class</th>\n",
       "      <th>Flight Distance</th>\n",
       "      <th>Inflight wifi service</th>\n",
       "      <th>Departure/Arrival time convenient</th>\n",
       "      <th>...</th>\n",
       "      <th>Seat comfort</th>\n",
       "      <th>Inflight entertainment</th>\n",
       "      <th>On-board service</th>\n",
       "      <th>Leg room service</th>\n",
       "      <th>Baggage handling</th>\n",
       "      <th>Checkin service</th>\n",
       "      <th>Inflight service</th>\n",
       "      <th>Cleanliness</th>\n",
       "      <th>Departure Delay in Minutes</th>\n",
       "      <th>Arrival Delay in Minutes</th>\n",
       "    </tr>\n",
       "  </thead>\n",
       "  <tbody>\n",
       "    <tr>\n",
       "      <th>49176</th>\n",
       "      <td>49176</td>\n",
       "      <td>89922</td>\n",
       "      <td>1</td>\n",
       "      <td>0</td>\n",
       "      <td>3.741657</td>\n",
       "      <td>0</td>\n",
       "      <td>1</td>\n",
       "      <td>1310</td>\n",
       "      <td>1</td>\n",
       "      <td>1</td>\n",
       "      <td>...</td>\n",
       "      <td>1</td>\n",
       "      <td>4</td>\n",
       "      <td>1</td>\n",
       "      <td>1</td>\n",
       "      <td>3</td>\n",
       "      <td>2</td>\n",
       "      <td>3</td>\n",
       "      <td>4</td>\n",
       "      <td>11</td>\n",
       "      <td>9.0</td>\n",
       "    </tr>\n",
       "    <tr>\n",
       "      <th>78503</th>\n",
       "      <td>78503</td>\n",
       "      <td>47236</td>\n",
       "      <td>1</td>\n",
       "      <td>1</td>\n",
       "      <td>7.549834</td>\n",
       "      <td>1</td>\n",
       "      <td>2</td>\n",
       "      <td>954</td>\n",
       "      <td>3</td>\n",
       "      <td>3</td>\n",
       "      <td>...</td>\n",
       "      <td>2</td>\n",
       "      <td>2</td>\n",
       "      <td>3</td>\n",
       "      <td>3</td>\n",
       "      <td>3</td>\n",
       "      <td>1</td>\n",
       "      <td>3</td>\n",
       "      <td>2</td>\n",
       "      <td>0</td>\n",
       "      <td>11.0</td>\n",
       "    </tr>\n",
       "    <tr>\n",
       "      <th>1554</th>\n",
       "      <td>1554</td>\n",
       "      <td>31441</td>\n",
       "      <td>1</td>\n",
       "      <td>1</td>\n",
       "      <td>5.000000</td>\n",
       "      <td>0</td>\n",
       "      <td>1</td>\n",
       "      <td>1541</td>\n",
       "      <td>0</td>\n",
       "      <td>5</td>\n",
       "      <td>...</td>\n",
       "      <td>2</td>\n",
       "      <td>2</td>\n",
       "      <td>5</td>\n",
       "      <td>1</td>\n",
       "      <td>1</td>\n",
       "      <td>3</td>\n",
       "      <td>2</td>\n",
       "      <td>2</td>\n",
       "      <td>28</td>\n",
       "      <td>22.0</td>\n",
       "    </tr>\n",
       "    <tr>\n",
       "      <th>81978</th>\n",
       "      <td>81978</td>\n",
       "      <td>17033</td>\n",
       "      <td>0</td>\n",
       "      <td>1</td>\n",
       "      <td>4.123106</td>\n",
       "      <td>0</td>\n",
       "      <td>2</td>\n",
       "      <td>781</td>\n",
       "      <td>5</td>\n",
       "      <td>2</td>\n",
       "      <td>...</td>\n",
       "      <td>5</td>\n",
       "      <td>5</td>\n",
       "      <td>1</td>\n",
       "      <td>4</td>\n",
       "      <td>2</td>\n",
       "      <td>2</td>\n",
       "      <td>3</td>\n",
       "      <td>5</td>\n",
       "      <td>0</td>\n",
       "      <td>0.0</td>\n",
       "    </tr>\n",
       "    <tr>\n",
       "      <th>71618</th>\n",
       "      <td>71618</td>\n",
       "      <td>41779</td>\n",
       "      <td>1</td>\n",
       "      <td>1</td>\n",
       "      <td>4.795832</td>\n",
       "      <td>0</td>\n",
       "      <td>0</td>\n",
       "      <td>2086</td>\n",
       "      <td>4</td>\n",
       "      <td>4</td>\n",
       "      <td>...</td>\n",
       "      <td>4</td>\n",
       "      <td>4</td>\n",
       "      <td>4</td>\n",
       "      <td>3</td>\n",
       "      <td>4</td>\n",
       "      <td>5</td>\n",
       "      <td>2</td>\n",
       "      <td>4</td>\n",
       "      <td>0</td>\n",
       "      <td>0.0</td>\n",
       "    </tr>\n",
       "    <tr>\n",
       "      <th>...</th>\n",
       "      <td>...</td>\n",
       "      <td>...</td>\n",
       "      <td>...</td>\n",
       "      <td>...</td>\n",
       "      <td>...</td>\n",
       "      <td>...</td>\n",
       "      <td>...</td>\n",
       "      <td>...</td>\n",
       "      <td>...</td>\n",
       "      <td>...</td>\n",
       "      <td>...</td>\n",
       "      <td>...</td>\n",
       "      <td>...</td>\n",
       "      <td>...</td>\n",
       "      <td>...</td>\n",
       "      <td>...</td>\n",
       "      <td>...</td>\n",
       "      <td>...</td>\n",
       "      <td>...</td>\n",
       "      <td>...</td>\n",
       "      <td>...</td>\n",
       "    </tr>\n",
       "    <tr>\n",
       "      <th>7427</th>\n",
       "      <td>7427</td>\n",
       "      <td>50586</td>\n",
       "      <td>1</td>\n",
       "      <td>1</td>\n",
       "      <td>8.000000</td>\n",
       "      <td>1</td>\n",
       "      <td>1</td>\n",
       "      <td>86</td>\n",
       "      <td>3</td>\n",
       "      <td>4</td>\n",
       "      <td>...</td>\n",
       "      <td>2</td>\n",
       "      <td>2</td>\n",
       "      <td>3</td>\n",
       "      <td>4</td>\n",
       "      <td>4</td>\n",
       "      <td>5</td>\n",
       "      <td>4</td>\n",
       "      <td>2</td>\n",
       "      <td>0</td>\n",
       "      <td>0.0</td>\n",
       "    </tr>\n",
       "    <tr>\n",
       "      <th>73883</th>\n",
       "      <td>73883</td>\n",
       "      <td>9949</td>\n",
       "      <td>0</td>\n",
       "      <td>1</td>\n",
       "      <td>6.557439</td>\n",
       "      <td>0</td>\n",
       "      <td>0</td>\n",
       "      <td>357</td>\n",
       "      <td>2</td>\n",
       "      <td>2</td>\n",
       "      <td>...</td>\n",
       "      <td>5</td>\n",
       "      <td>2</td>\n",
       "      <td>2</td>\n",
       "      <td>2</td>\n",
       "      <td>2</td>\n",
       "      <td>4</td>\n",
       "      <td>2</td>\n",
       "      <td>4</td>\n",
       "      <td>0</td>\n",
       "      <td>0.0</td>\n",
       "    </tr>\n",
       "    <tr>\n",
       "      <th>35517</th>\n",
       "      <td>35517</td>\n",
       "      <td>64606</td>\n",
       "      <td>0</td>\n",
       "      <td>1</td>\n",
       "      <td>7.348469</td>\n",
       "      <td>0</td>\n",
       "      <td>0</td>\n",
       "      <td>190</td>\n",
       "      <td>3</td>\n",
       "      <td>3</td>\n",
       "      <td>...</td>\n",
       "      <td>5</td>\n",
       "      <td>4</td>\n",
       "      <td>4</td>\n",
       "      <td>4</td>\n",
       "      <td>4</td>\n",
       "      <td>3</td>\n",
       "      <td>4</td>\n",
       "      <td>5</td>\n",
       "      <td>0</td>\n",
       "      <td>0.0</td>\n",
       "    </tr>\n",
       "    <tr>\n",
       "      <th>3413</th>\n",
       "      <td>3413</td>\n",
       "      <td>57003</td>\n",
       "      <td>1</td>\n",
       "      <td>1</td>\n",
       "      <td>5.196152</td>\n",
       "      <td>1</td>\n",
       "      <td>1</td>\n",
       "      <td>2454</td>\n",
       "      <td>4</td>\n",
       "      <td>5</td>\n",
       "      <td>...</td>\n",
       "      <td>3</td>\n",
       "      <td>3</td>\n",
       "      <td>5</td>\n",
       "      <td>5</td>\n",
       "      <td>5</td>\n",
       "      <td>3</td>\n",
       "      <td>5</td>\n",
       "      <td>3</td>\n",
       "      <td>7</td>\n",
       "      <td>0.0</td>\n",
       "    </tr>\n",
       "    <tr>\n",
       "      <th>87387</th>\n",
       "      <td>87387</td>\n",
       "      <td>104660</td>\n",
       "      <td>1</td>\n",
       "      <td>0</td>\n",
       "      <td>4.795832</td>\n",
       "      <td>0</td>\n",
       "      <td>1</td>\n",
       "      <td>641</td>\n",
       "      <td>4</td>\n",
       "      <td>3</td>\n",
       "      <td>...</td>\n",
       "      <td>4</td>\n",
       "      <td>4</td>\n",
       "      <td>4</td>\n",
       "      <td>1</td>\n",
       "      <td>3</td>\n",
       "      <td>3</td>\n",
       "      <td>3</td>\n",
       "      <td>4</td>\n",
       "      <td>0</td>\n",
       "      <td>0.0</td>\n",
       "    </tr>\n",
       "  </tbody>\n",
       "</table>\n",
       "<p>20781 rows × 24 columns</p>\n",
       "</div>"
      ],
      "text/plain": [
       "       Unnamed: 0      id  Gender  Customer Type       Age  Type of Travel  \\\n",
       "49176       49176   89922       1              0  3.741657               0   \n",
       "78503       78503   47236       1              1  7.549834               1   \n",
       "1554         1554   31441       1              1  5.000000               0   \n",
       "81978       81978   17033       0              1  4.123106               0   \n",
       "71618       71618   41779       1              1  4.795832               0   \n",
       "...           ...     ...     ...            ...       ...             ...   \n",
       "7427         7427   50586       1              1  8.000000               1   \n",
       "73883       73883    9949       0              1  6.557439               0   \n",
       "35517       35517   64606       0              1  7.348469               0   \n",
       "3413         3413   57003       1              1  5.196152               1   \n",
       "87387       87387  104660       1              0  4.795832               0   \n",
       "\n",
       "       Class  Flight Distance  Inflight wifi service  \\\n",
       "49176      1             1310                      1   \n",
       "78503      2              954                      3   \n",
       "1554       1             1541                      0   \n",
       "81978      2              781                      5   \n",
       "71618      0             2086                      4   \n",
       "...      ...              ...                    ...   \n",
       "7427       1               86                      3   \n",
       "73883      0              357                      2   \n",
       "35517      0              190                      3   \n",
       "3413       1             2454                      4   \n",
       "87387      1              641                      4   \n",
       "\n",
       "       Departure/Arrival time convenient  ...  Seat comfort  \\\n",
       "49176                                  1  ...             1   \n",
       "78503                                  3  ...             2   \n",
       "1554                                   5  ...             2   \n",
       "81978                                  2  ...             5   \n",
       "71618                                  4  ...             4   \n",
       "...                                  ...  ...           ...   \n",
       "7427                                   4  ...             2   \n",
       "73883                                  2  ...             5   \n",
       "35517                                  3  ...             5   \n",
       "3413                                   5  ...             3   \n",
       "87387                                  3  ...             4   \n",
       "\n",
       "       Inflight entertainment  On-board service  Leg room service  \\\n",
       "49176                       4                 1                 1   \n",
       "78503                       2                 3                 3   \n",
       "1554                        2                 5                 1   \n",
       "81978                       5                 1                 4   \n",
       "71618                       4                 4                 3   \n",
       "...                       ...               ...               ...   \n",
       "7427                        2                 3                 4   \n",
       "73883                       2                 2                 2   \n",
       "35517                       4                 4                 4   \n",
       "3413                        3                 5                 5   \n",
       "87387                       4                 4                 1   \n",
       "\n",
       "       Baggage handling  Checkin service  Inflight service  Cleanliness  \\\n",
       "49176                 3                2                 3            4   \n",
       "78503                 3                1                 3            2   \n",
       "1554                  1                3                 2            2   \n",
       "81978                 2                2                 3            5   \n",
       "71618                 4                5                 2            4   \n",
       "...                 ...              ...               ...          ...   \n",
       "7427                  4                5                 4            2   \n",
       "73883                 2                4                 2            4   \n",
       "35517                 4                3                 4            5   \n",
       "3413                  5                3                 5            3   \n",
       "87387                 3                3                 3            4   \n",
       "\n",
       "       Departure Delay in Minutes  Arrival Delay in Minutes  \n",
       "49176                          11                       9.0  \n",
       "78503                           0                      11.0  \n",
       "1554                           28                      22.0  \n",
       "81978                           0                       0.0  \n",
       "71618                           0                       0.0  \n",
       "...                           ...                       ...  \n",
       "7427                            0                       0.0  \n",
       "73883                           0                       0.0  \n",
       "35517                           0                       0.0  \n",
       "3413                            7                       0.0  \n",
       "87387                           0                       0.0  \n",
       "\n",
       "[20781 rows x 24 columns]"
      ]
     },
     "execution_count": 117,
     "metadata": {},
     "output_type": "execute_result"
    }
   ],
   "source": [
    "x_test"
   ]
  },
  {
   "cell_type": "markdown",
   "id": "efd25e67",
   "metadata": {},
   "source": [
    "### 6) Flight Distance"
   ]
  },
  {
   "cell_type": "code",
   "execution_count": 118,
   "id": "6c0bb1fd",
   "metadata": {},
   "outputs": [],
   "source": [
    "x_train['Flight Distance'] = np.sqrt(x_train['Flight Distance'])"
   ]
  },
  {
   "cell_type": "code",
   "execution_count": 119,
   "id": "88e3fe4a",
   "metadata": {},
   "outputs": [
    {
     "data": {
      "text/plain": [
       "[]"
      ]
     },
     "execution_count": 119,
     "metadata": {},
     "output_type": "execute_result"
    }
   ],
   "source": [
    "outliers_(x_train['Flight Distance'])"
   ]
  },
  {
   "cell_type": "code",
   "execution_count": 120,
   "id": "44d81db4",
   "metadata": {},
   "outputs": [],
   "source": [
    "x_test['Flight Distance'] = np.sqrt(x_test['Flight Distance'])"
   ]
  },
  {
   "cell_type": "code",
   "execution_count": 121,
   "id": "60b59c87",
   "metadata": {},
   "outputs": [
    {
     "data": {
      "text/plain": [
       "[]"
      ]
     },
     "execution_count": 121,
     "metadata": {},
     "output_type": "execute_result"
    }
   ],
   "source": [
    "outliers_(x_test['Flight Distance'])"
   ]
  },
  {
   "cell_type": "markdown",
   "id": "aa598a8a",
   "metadata": {},
   "source": [
    "### 7) Departure Delay in Minutes"
   ]
  },
  {
   "cell_type": "code",
   "execution_count": 122,
   "id": "bd253500",
   "metadata": {},
   "outputs": [
    {
     "data": {
      "text/plain": [
       "Index(['Unnamed: 0', 'id', 'Gender', 'Customer Type', 'Age', 'Type of Travel',\n",
       "       'Class', 'Flight Distance', 'Inflight wifi service',\n",
       "       'Departure/Arrival time convenient', 'Ease of Online booking',\n",
       "       'Gate location', 'Food and drink', 'Online boarding', 'Seat comfort',\n",
       "       'Inflight entertainment', 'On-board service', 'Leg room service',\n",
       "       'Baggage handling', 'Checkin service', 'Inflight service',\n",
       "       'Cleanliness', 'Departure Delay in Minutes',\n",
       "       'Arrival Delay in Minutes'],\n",
       "      dtype='object')"
      ]
     },
     "execution_count": 122,
     "metadata": {},
     "output_type": "execute_result"
    }
   ],
   "source": [
    "x_train.columns"
   ]
  },
  {
   "cell_type": "code",
   "execution_count": 123,
   "id": "45ff2076",
   "metadata": {},
   "outputs": [
    {
     "data": {
      "text/plain": [
       "<AxesSubplot:xlabel='Departure Delay in Minutes', ylabel='Density'>"
      ]
     },
     "execution_count": 123,
     "metadata": {},
     "output_type": "execute_result"
    },
    {
     "data": {
      "image/png": "[encoded data removed]",
      "text/plain": [
       "<Figure size 432x288 with 1 Axes>"
      ]
     },
     "metadata": {
      "needs_background": "light"
     },
     "output_type": "display_data"
    }
   ],
   "source": [
    "sns.kdeplot(x_train['Departure Delay in Minutes'])"
   ]
  },
  {
   "cell_type": "code",
   "execution_count": 124,
   "id": "239db349",
   "metadata": {},
   "outputs": [
    {
     "data": {
      "text/plain": [
       "<AxesSubplot:xlabel='Departure Delay in Minutes'>"
      ]
     },
     "execution_count": 124,
     "metadata": {},
     "output_type": "execute_result"
    },
    {
     "data": {
      "image/png": "[encoded data removed]",
      "text/plain": [
       "<Figure size 432x288 with 1 Axes>"
      ]
     },
     "metadata": {
      "needs_background": "light"
     },
     "output_type": "display_data"
    }
   ],
   "source": [
    "sns.boxenplot(x_train['Departure Delay in Minutes'])"
   ]
  },
  {
   "cell_type": "code",
   "execution_count": 125,
   "id": "0ca26dae",
   "metadata": {},
   "outputs": [],
   "source": [
    "def iqr_methode(df,columns):\n",
    "    q1 = np.quantile(df[columns],0.25)\n",
    "    q2 = np.quantile(df[columns],0.50)\n",
    "    q3 = np.quantile(df[columns],0.75)\n",
    "    iqr = q3 - q1\n",
    "    lower_tail = q1 - 1.5*iqr\n",
    "    upper_tail = q3 + 1.5*iqr\n",
    "    print('IQR = ',iqr)\n",
    "    print('lower tail = ',lower_tail)\n",
    "    print('upper tail = ',upper_tail)"
   ]
  },
  {
   "cell_type": "code",
   "execution_count": 126,
   "id": "82db3959",
   "metadata": {},
   "outputs": [
    {
     "name": "stdout",
     "output_type": "stream",
     "text": [
      "IQR =  12.0\n",
      "lower tail =  -18.0\n",
      "upper tail =  30.0\n"
     ]
    }
   ],
   "source": [
    "iqr_methode(x_train,'Departure Delay in Minutes')"
   ]
  },
  {
   "cell_type": "code",
   "execution_count": 127,
   "id": "47ae7328",
   "metadata": {},
   "outputs": [],
   "source": [
    "x_train['Departure Delay in Minutes'] = np.cbrt(x_train['Departure Delay in Minutes'])"
   ]
  },
  {
   "cell_type": "code",
   "execution_count": 128,
   "id": "0a073ee8",
   "metadata": {},
   "outputs": [
    {
     "name": "stdout",
     "output_type": "stream",
     "text": [
      "IQR =  2.2894284851066637\n",
      "lower tail =  -3.434142727659996\n",
      "upper tail =  5.723571212766659\n"
     ]
    }
   ],
   "source": [
    "iqr_methode(x_train,'Departure Delay in Minutes')"
   ]
  },
  {
   "cell_type": "code",
   "execution_count": 129,
   "id": "1fb914de",
   "metadata": {},
   "outputs": [],
   "source": [
    "x_train.loc[x_train['Departure Delay in Minutes'] >= 5.723571212766659, 'Departure Delay in Minutes'] = x_train.loc[(x_train['Departure Delay in Minutes'] < 5.723571212766659), 'Departure Delay in Minutes'].median()\n",
    "x_train.loc[x_train['Departure Delay in Minutes'] <= -3.434142727659996, 'Departure Delay in Minutes'] = 0"
   ]
  },
  {
   "cell_type": "code",
   "execution_count": 130,
   "id": "42f1b629",
   "metadata": {},
   "outputs": [
    {
     "data": {
      "text/plain": [
       "<AxesSubplot:xlabel='Departure Delay in Minutes'>"
      ]
     },
     "execution_count": 130,
     "metadata": {},
     "output_type": "execute_result"
    },
    {
     "data": {
      "image/png": "[encoded data removed]",
      "text/plain": [
       "<Figure size 432x288 with 1 Axes>"
      ]
     },
     "metadata": {
      "needs_background": "light"
     },
     "output_type": "display_data"
    }
   ],
   "source": [
    "sns.boxplot(x_train['Departure Delay in Minutes'])"
   ]
  },
  {
   "cell_type": "code",
   "execution_count": 131,
   "id": "55450004",
   "metadata": {},
   "outputs": [],
   "source": [
    "x_test['Departure Delay in Minutes'] = np.cbrt(x_test['Departure Delay in Minutes'])"
   ]
  },
  {
   "cell_type": "code",
   "execution_count": 132,
   "id": "e2cb3ebc",
   "metadata": {},
   "outputs": [
    {
     "name": "stdout",
     "output_type": "stream",
     "text": [
      "IQR =  2.2894284851066637\n",
      "lower tail =  -3.434142727659996\n",
      "upper tail =  5.723571212766659\n"
     ]
    }
   ],
   "source": [
    "iqr_methode(x_test,'Departure Delay in Minutes')"
   ]
  },
  {
   "cell_type": "code",
   "execution_count": 133,
   "id": "e912c192",
   "metadata": {},
   "outputs": [],
   "source": [
    "x_test.loc[x_test['Departure Delay in Minutes'] >= 5.723571212766659, 'Departure Delay in Minutes'] = x_test.loc[(x_test['Departure Delay in Minutes'] < 5.723571212766659), 'Departure Delay in Minutes'].median()\n",
    "x_test.loc[x_test['Departure Delay in Minutes'] <= -3.434142727659996, 'Departure Delay in Minutes'] = 0"
   ]
  },
  {
   "cell_type": "code",
   "execution_count": 134,
   "id": "52c43254",
   "metadata": {},
   "outputs": [
    {
     "data": {
      "text/plain": [
       "<AxesSubplot:xlabel='Departure Delay in Minutes'>"
      ]
     },
     "execution_count": 134,
     "metadata": {},
     "output_type": "execute_result"
    },
    {
     "data": {
      "image/png": "[encoded data removed]",
      "text/plain": [
       "<Figure size 432x288 with 1 Axes>"
      ]
     },
     "metadata": {
      "needs_background": "light"
     },
     "output_type": "display_data"
    }
   ],
   "source": [
    "sns.boxplot(x_test['Departure Delay in Minutes'])"
   ]
  },
  {
   "cell_type": "markdown",
   "id": "ac028aa9",
   "metadata": {},
   "source": [
    "## 8) Arrival Delay in Minutes"
   ]
  },
  {
   "cell_type": "raw",
   "id": "5c6dcd60",
   "metadata": {},
   "source": [
    "df['Arrival Delay in Minutes']"
   ]
  },
  {
   "cell_type": "code",
   "execution_count": 135,
   "id": "6aec063e",
   "metadata": {},
   "outputs": [
    {
     "data": {
      "text/plain": [
       "241"
      ]
     },
     "execution_count": 135,
     "metadata": {},
     "output_type": "execute_result"
    }
   ],
   "source": [
    "x_train['Arrival Delay in Minutes'].isna().sum()"
   ]
  },
  {
   "cell_type": "code",
   "execution_count": 136,
   "id": "c162ec8e",
   "metadata": {},
   "outputs": [],
   "source": [
    "x_train['Arrival Delay in Minutes'].fillna(x_train['Arrival Delay in Minutes'].median(),inplace=True)"
   ]
  },
  {
   "cell_type": "code",
   "execution_count": 137,
   "id": "5baa8c9a",
   "metadata": {},
   "outputs": [
    {
     "data": {
      "text/plain": [
       "0"
      ]
     },
     "execution_count": 137,
     "metadata": {},
     "output_type": "execute_result"
    }
   ],
   "source": [
    "x_train['Arrival Delay in Minutes'].isna().sum()"
   ]
  },
  {
   "cell_type": "code",
   "execution_count": 138,
   "id": "dc2b4d85",
   "metadata": {},
   "outputs": [
    {
     "data": {
      "text/plain": [
       "69"
      ]
     },
     "execution_count": 138,
     "metadata": {},
     "output_type": "execute_result"
    }
   ],
   "source": [
    "x_test['Arrival Delay in Minutes'].isna().sum()"
   ]
  },
  {
   "cell_type": "code",
   "execution_count": 139,
   "id": "dcf6ff01",
   "metadata": {},
   "outputs": [],
   "source": [
    "x_test['Arrival Delay in Minutes'].fillna(x_test['Arrival Delay in Minutes'].median(),inplace=True)"
   ]
  },
  {
   "cell_type": "code",
   "execution_count": 140,
   "id": "409b135c",
   "metadata": {},
   "outputs": [
    {
     "data": {
      "text/plain": [
       "0"
      ]
     },
     "execution_count": 140,
     "metadata": {},
     "output_type": "execute_result"
    }
   ],
   "source": [
    "x_test['Arrival Delay in Minutes'].isna().sum()"
   ]
  },
  {
   "cell_type": "code",
   "execution_count": 141,
   "id": "290f531b",
   "metadata": {},
   "outputs": [],
   "source": [
    "x_train['Arrival Delay in Minutes'] = np.cbrt(x_train['Arrival Delay in Minutes'])"
   ]
  },
  {
   "cell_type": "code",
   "execution_count": 142,
   "id": "d3ad237d",
   "metadata": {},
   "outputs": [
    {
     "name": "stdout",
     "output_type": "stream",
     "text": [
      "IQR =  2.3513346877207573\n",
      "lower tail =  -3.527002031581136\n",
      "upper tail =  5.878336719301894\n"
     ]
    }
   ],
   "source": [
    "iqr_methode(x_train,'Arrival Delay in Minutes')"
   ]
  },
  {
   "cell_type": "code",
   "execution_count": 143,
   "id": "9c8ef2a5",
   "metadata": {},
   "outputs": [],
   "source": [
    "x_train.loc[x_train['Arrival Delay in Minutes'] >= 5.878336719301894, 'Arrival Delay in Minutes'] = x_train.loc[(x_train['Departure Delay in Minutes'] < 5.878336719301894), 'Arrival Delay in Minutes'].median()\n",
    "x_train.loc[x_train['Arrival Delay in Minutes'] <= -3.527002031581136, 'Arrival Delay in Minutes'] = 0"
   ]
  },
  {
   "cell_type": "code",
   "execution_count": 144,
   "id": "ee1b8fcd",
   "metadata": {},
   "outputs": [],
   "source": [
    "x_test['Arrival Delay in Minutes'] = np.cbrt(x_test['Arrival Delay in Minutes'])"
   ]
  },
  {
   "cell_type": "code",
   "execution_count": 145,
   "id": "26c32ea1",
   "metadata": {},
   "outputs": [
    {
     "name": "stdout",
     "output_type": "stream",
     "text": [
      "IQR =  2.3513346877207573\n",
      "lower tail =  -3.527002031581136\n",
      "upper tail =  5.878336719301894\n"
     ]
    }
   ],
   "source": [
    "iqr_methode(x_test,'Arrival Delay in Minutes')"
   ]
  },
  {
   "cell_type": "code",
   "execution_count": 146,
   "id": "4ea53e48",
   "metadata": {},
   "outputs": [],
   "source": [
    "x_test.loc[x_test['Arrival Delay in Minutes'] >= 5.878336719301894, 'Arrival Delay in Minutes'] = x_test.loc[(x_test['Departure Delay in Minutes'] < 5.878336719301894), 'Arrival Delay in Minutes'].median()\n",
    "x_test.loc[x_test['Arrival Delay in Minutes'] <= -3.527002031581136, 'Arrival Delay in Minutes'] = 0"
   ]
  },
  {
   "cell_type": "markdown",
   "id": "943dd2a6",
   "metadata": {},
   "source": [
    "### 9) satisfaction"
   ]
  },
  {
   "cell_type": "code",
   "execution_count": 147,
   "id": "d6aa23af",
   "metadata": {},
   "outputs": [
    {
     "data": {
      "text/plain": [
       "neutral or dissatisfied    47103\n",
       "satisfied                  36020\n",
       "Name: satisfaction, dtype: int64"
      ]
     },
     "execution_count": 147,
     "metadata": {},
     "output_type": "execute_result"
    }
   ],
   "source": [
    "y_train.value_counts()"
   ]
  },
  {
   "cell_type": "code",
   "execution_count": 148,
   "id": "cadb3764",
   "metadata": {},
   "outputs": [],
   "source": [
    "y_train.replace({'neutral or dissatisfied':0,'satisfied':1},inplace=True)\n",
    "y_test.replace({'neutral or dissatisfied':0,'satisfied':1},inplace=True)"
   ]
  },
  {
   "cell_type": "code",
   "execution_count": 149,
   "id": "2e81c96e",
   "metadata": {},
   "outputs": [
    {
     "data": {
      "text/plain": [
       "49176    0\n",
       "Name: satisfaction, dtype: int64"
      ]
     },
     "execution_count": 149,
     "metadata": {},
     "output_type": "execute_result"
    }
   ],
   "source": [
    "y_test.head(1)"
   ]
  },
  {
   "cell_type": "code",
   "execution_count": 150,
   "id": "3d3fa9b9",
   "metadata": {},
   "outputs": [
    {
     "data": {
      "text/plain": [
       "102865    1\n",
       "Name: satisfaction, dtype: int64"
      ]
     },
     "execution_count": 150,
     "metadata": {},
     "output_type": "execute_result"
    }
   ],
   "source": [
    "y_train.head(1)"
   ]
  },
  {
   "cell_type": "markdown",
   "id": "039e7d65",
   "metadata": {},
   "source": [
    "# 5) Feature selections"
   ]
  },
  {
   "cell_type": "code",
   "execution_count": 151,
   "id": "c8364570",
   "metadata": {},
   "outputs": [
    {
     "data": {
      "text/html": [
       "<div>\n",
       "<style scoped>\n",
       "    .dataframe tbody tr th:only-of-type {\n",
       "        vertical-align: middle;\n",
       "    }\n",
       "\n",
       "    .dataframe tbody tr th {\n",
       "        vertical-align: top;\n",
       "    }\n",
       "\n",
       "    .dataframe thead th {\n",
       "        text-align: right;\n",
       "    }\n",
       "</style>\n",
       "<table border=\"1\" class=\"dataframe\">\n",
       "  <thead>\n",
       "    <tr style=\"text-align: right;\">\n",
       "      <th></th>\n",
       "      <th>Unnamed: 0</th>\n",
       "      <th>id</th>\n",
       "      <th>Gender</th>\n",
       "      <th>Customer Type</th>\n",
       "      <th>Age</th>\n",
       "      <th>Type of Travel</th>\n",
       "      <th>Class</th>\n",
       "      <th>Flight Distance</th>\n",
       "      <th>Inflight wifi service</th>\n",
       "      <th>Departure/Arrival time convenient</th>\n",
       "      <th>...</th>\n",
       "      <th>Inflight entertainment</th>\n",
       "      <th>On-board service</th>\n",
       "      <th>Leg room service</th>\n",
       "      <th>Baggage handling</th>\n",
       "      <th>Checkin service</th>\n",
       "      <th>Inflight service</th>\n",
       "      <th>Cleanliness</th>\n",
       "      <th>Departure Delay in Minutes</th>\n",
       "      <th>Arrival Delay in Minutes</th>\n",
       "      <th>satisfaction</th>\n",
       "    </tr>\n",
       "  </thead>\n",
       "  <tbody>\n",
       "    <tr>\n",
       "      <th>102865</th>\n",
       "      <td>102865</td>\n",
       "      <td>115128</td>\n",
       "      <td>0</td>\n",
       "      <td>1</td>\n",
       "      <td>7.416198</td>\n",
       "      <td>0</td>\n",
       "      <td>0</td>\n",
       "      <td>17.204651</td>\n",
       "      <td>1</td>\n",
       "      <td>1</td>\n",
       "      <td>...</td>\n",
       "      <td>5</td>\n",
       "      <td>5</td>\n",
       "      <td>5</td>\n",
       "      <td>5</td>\n",
       "      <td>3</td>\n",
       "      <td>5</td>\n",
       "      <td>5</td>\n",
       "      <td>0.000000</td>\n",
       "      <td>0.000000</td>\n",
       "      <td>1</td>\n",
       "    </tr>\n",
       "    <tr>\n",
       "      <th>80418</th>\n",
       "      <td>80418</td>\n",
       "      <td>129035</td>\n",
       "      <td>1</td>\n",
       "      <td>1</td>\n",
       "      <td>5.830952</td>\n",
       "      <td>0</td>\n",
       "      <td>0</td>\n",
       "      <td>42.965102</td>\n",
       "      <td>3</td>\n",
       "      <td>2</td>\n",
       "      <td>...</td>\n",
       "      <td>3</td>\n",
       "      <td>3</td>\n",
       "      <td>3</td>\n",
       "      <td>3</td>\n",
       "      <td>1</td>\n",
       "      <td>3</td>\n",
       "      <td>1</td>\n",
       "      <td>3.659306</td>\n",
       "      <td>3.141381</td>\n",
       "      <td>0</td>\n",
       "    </tr>\n",
       "    <tr>\n",
       "      <th>93600</th>\n",
       "      <td>93600</td>\n",
       "      <td>29071</td>\n",
       "      <td>0</td>\n",
       "      <td>1</td>\n",
       "      <td>4.795832</td>\n",
       "      <td>1</td>\n",
       "      <td>1</td>\n",
       "      <td>25.922963</td>\n",
       "      <td>1</td>\n",
       "      <td>4</td>\n",
       "      <td>...</td>\n",
       "      <td>4</td>\n",
       "      <td>5</td>\n",
       "      <td>4</td>\n",
       "      <td>4</td>\n",
       "      <td>4</td>\n",
       "      <td>5</td>\n",
       "      <td>4</td>\n",
       "      <td>0.000000</td>\n",
       "      <td>0.000000</td>\n",
       "      <td>0</td>\n",
       "    </tr>\n",
       "    <tr>\n",
       "      <th>11563</th>\n",
       "      <td>11563</td>\n",
       "      <td>105589</td>\n",
       "      <td>1</td>\n",
       "      <td>1</td>\n",
       "      <td>6.708204</td>\n",
       "      <td>1</td>\n",
       "      <td>1</td>\n",
       "      <td>24.020824</td>\n",
       "      <td>2</td>\n",
       "      <td>4</td>\n",
       "      <td>...</td>\n",
       "      <td>2</td>\n",
       "      <td>5</td>\n",
       "      <td>2</td>\n",
       "      <td>5</td>\n",
       "      <td>3</td>\n",
       "      <td>5</td>\n",
       "      <td>2</td>\n",
       "      <td>0.000000</td>\n",
       "      <td>0.000000</td>\n",
       "      <td>0</td>\n",
       "    </tr>\n",
       "    <tr>\n",
       "      <th>58399</th>\n",
       "      <td>58399</td>\n",
       "      <td>68143</td>\n",
       "      <td>0</td>\n",
       "      <td>1</td>\n",
       "      <td>7.211103</td>\n",
       "      <td>0</td>\n",
       "      <td>0</td>\n",
       "      <td>62.104750</td>\n",
       "      <td>3</td>\n",
       "      <td>3</td>\n",
       "      <td>...</td>\n",
       "      <td>5</td>\n",
       "      <td>5</td>\n",
       "      <td>5</td>\n",
       "      <td>5</td>\n",
       "      <td>3</td>\n",
       "      <td>5</td>\n",
       "      <td>4</td>\n",
       "      <td>0.000000</td>\n",
       "      <td>0.000000</td>\n",
       "      <td>1</td>\n",
       "    </tr>\n",
       "  </tbody>\n",
       "</table>\n",
       "<p>5 rows × 25 columns</p>\n",
       "</div>"
      ],
      "text/plain": [
       "        Unnamed: 0      id  Gender  Customer Type       Age  Type of Travel  \\\n",
       "102865      102865  115128       0              1  7.416198               0   \n",
       "80418        80418  129035       1              1  5.830952               0   \n",
       "93600        93600   29071       0              1  4.795832               1   \n",
       "11563        11563  105589       1              1  6.708204               1   \n",
       "58399        58399   68143       0              1  7.211103               0   \n",
       "\n",
       "        Class  Flight Distance  Inflight wifi service  \\\n",
       "102865      0        17.204651                      1   \n",
       "80418       0        42.965102                      3   \n",
       "93600       1        25.922963                      1   \n",
       "11563       1        24.020824                      2   \n",
       "58399       0        62.104750                      3   \n",
       "\n",
       "        Departure/Arrival time convenient  ...  Inflight entertainment  \\\n",
       "102865                                  1  ...                       5   \n",
       "80418                                   2  ...                       3   \n",
       "93600                                   4  ...                       4   \n",
       "11563                                   4  ...                       2   \n",
       "58399                                   3  ...                       5   \n",
       "\n",
       "        On-board service  Leg room service  Baggage handling  Checkin service  \\\n",
       "102865                 5                 5                 5                3   \n",
       "80418                  3                 3                 3                1   \n",
       "93600                  5                 4                 4                4   \n",
       "11563                  5                 2                 5                3   \n",
       "58399                  5                 5                 5                3   \n",
       "\n",
       "        Inflight service  Cleanliness  Departure Delay in Minutes  \\\n",
       "102865                 5            5                    0.000000   \n",
       "80418                  3            1                    3.659306   \n",
       "93600                  5            4                    0.000000   \n",
       "11563                  5            2                    0.000000   \n",
       "58399                  5            4                    0.000000   \n",
       "\n",
       "        Arrival Delay in Minutes  satisfaction  \n",
       "102865                  0.000000             1  \n",
       "80418                   3.141381             0  \n",
       "93600                   0.000000             0  \n",
       "11563                   0.000000             0  \n",
       "58399                   0.000000             1  \n",
       "\n",
       "[5 rows x 25 columns]"
      ]
     },
     "execution_count": 151,
     "metadata": {},
     "output_type": "execute_result"
    }
   ],
   "source": [
    "train_data = pd.concat([x_train, pd.Series(y_train, name='satisfaction')], axis=1)\n",
    "train_data.head()"
   ]
  },
  {
   "cell_type": "code",
   "execution_count": 152,
   "id": "57f3b9a6",
   "metadata": {},
   "outputs": [
    {
     "data": {
      "text/html": [
       "<div>\n",
       "<style scoped>\n",
       "    .dataframe tbody tr th:only-of-type {\n",
       "        vertical-align: middle;\n",
       "    }\n",
       "\n",
       "    .dataframe tbody tr th {\n",
       "        vertical-align: top;\n",
       "    }\n",
       "\n",
       "    .dataframe thead th {\n",
       "        text-align: right;\n",
       "    }\n",
       "</style>\n",
       "<table border=\"1\" class=\"dataframe\">\n",
       "  <thead>\n",
       "    <tr style=\"text-align: right;\">\n",
       "      <th></th>\n",
       "      <th>Unnamed: 0</th>\n",
       "      <th>id</th>\n",
       "      <th>Gender</th>\n",
       "      <th>Customer Type</th>\n",
       "      <th>Age</th>\n",
       "      <th>Type of Travel</th>\n",
       "      <th>Class</th>\n",
       "      <th>Flight Distance</th>\n",
       "      <th>Inflight wifi service</th>\n",
       "      <th>Departure/Arrival time convenient</th>\n",
       "      <th>...</th>\n",
       "      <th>Inflight entertainment</th>\n",
       "      <th>On-board service</th>\n",
       "      <th>Leg room service</th>\n",
       "      <th>Baggage handling</th>\n",
       "      <th>Checkin service</th>\n",
       "      <th>Inflight service</th>\n",
       "      <th>Cleanliness</th>\n",
       "      <th>Departure Delay in Minutes</th>\n",
       "      <th>Arrival Delay in Minutes</th>\n",
       "      <th>satisfaction</th>\n",
       "    </tr>\n",
       "  </thead>\n",
       "  <tbody>\n",
       "    <tr>\n",
       "      <th>Unnamed: 0</th>\n",
       "      <td>1.000000</td>\n",
       "      <td>0.003913</td>\n",
       "      <td>0.002236</td>\n",
       "      <td>0.001544</td>\n",
       "      <td>0.002502</td>\n",
       "      <td>0.000231</td>\n",
       "      <td>-0.001505</td>\n",
       "      <td>0.003420</td>\n",
       "      <td>-0.004243</td>\n",
       "      <td>0.000914</td>\n",
       "      <td>...</td>\n",
       "      <td>0.002863</td>\n",
       "      <td>0.001384</td>\n",
       "      <td>0.003875</td>\n",
       "      <td>0.000424</td>\n",
       "      <td>-0.003809</td>\n",
       "      <td>0.001438</td>\n",
       "      <td>-0.000800</td>\n",
       "      <td>-0.006872</td>\n",
       "      <td>-0.005066</td>\n",
       "      <td>-0.003562</td>\n",
       "    </tr>\n",
       "    <tr>\n",
       "      <th>id</th>\n",
       "      <td>0.003913</td>\n",
       "      <td>1.000000</td>\n",
       "      <td>-0.001014</td>\n",
       "      <td>-0.000505</td>\n",
       "      <td>0.020915</td>\n",
       "      <td>-0.000141</td>\n",
       "      <td>-0.105514</td>\n",
       "      <td>0.118674</td>\n",
       "      <td>-0.016798</td>\n",
       "      <td>-0.000312</td>\n",
       "      <td>...</td>\n",
       "      <td>0.005617</td>\n",
       "      <td>0.056063</td>\n",
       "      <td>0.044114</td>\n",
       "      <td>0.075778</td>\n",
       "      <td>0.079476</td>\n",
       "      <td>0.080323</td>\n",
       "      <td>0.025333</td>\n",
       "      <td>0.045832</td>\n",
       "      <td>-0.008829</td>\n",
       "      <td>0.013897</td>\n",
       "    </tr>\n",
       "    <tr>\n",
       "      <th>Gender</th>\n",
       "      <td>0.002236</td>\n",
       "      <td>-0.001014</td>\n",
       "      <td>1.000000</td>\n",
       "      <td>0.030853</td>\n",
       "      <td>0.008457</td>\n",
       "      <td>0.006152</td>\n",
       "      <td>-0.013537</td>\n",
       "      <td>0.006523</td>\n",
       "      <td>0.007216</td>\n",
       "      <td>0.009580</td>\n",
       "      <td>...</td>\n",
       "      <td>0.006491</td>\n",
       "      <td>0.006912</td>\n",
       "      <td>0.032494</td>\n",
       "      <td>0.036561</td>\n",
       "      <td>0.010311</td>\n",
       "      <td>0.039612</td>\n",
       "      <td>0.007240</td>\n",
       "      <td>0.000361</td>\n",
       "      <td>-0.002294</td>\n",
       "      <td>0.012791</td>\n",
       "    </tr>\n",
       "    <tr>\n",
       "      <th>Customer Type</th>\n",
       "      <td>0.001544</td>\n",
       "      <td>-0.000505</td>\n",
       "      <td>0.030853</td>\n",
       "      <td>1.000000</td>\n",
       "      <td>0.266286</td>\n",
       "      <td>0.307927</td>\n",
       "      <td>-0.041181</td>\n",
       "      <td>0.215238</td>\n",
       "      <td>0.007230</td>\n",
       "      <td>0.208008</td>\n",
       "      <td>...</td>\n",
       "      <td>0.111335</td>\n",
       "      <td>0.054536</td>\n",
       "      <td>0.047698</td>\n",
       "      <td>-0.026524</td>\n",
       "      <td>0.029973</td>\n",
       "      <td>-0.022940</td>\n",
       "      <td>0.084525</td>\n",
       "      <td>-0.005025</td>\n",
       "      <td>-0.006042</td>\n",
       "      <td>0.188273</td>\n",
       "    </tr>\n",
       "    <tr>\n",
       "      <th>Age</th>\n",
       "      <td>0.002502</td>\n",
       "      <td>0.020915</td>\n",
       "      <td>0.008457</td>\n",
       "      <td>0.266286</td>\n",
       "      <td>1.000000</td>\n",
       "      <td>-0.086819</td>\n",
       "      <td>-0.140793</td>\n",
       "      <td>0.095119</td>\n",
       "      <td>0.021934</td>\n",
       "      <td>0.026476</td>\n",
       "      <td>...</td>\n",
       "      <td>0.085048</td>\n",
       "      <td>0.061305</td>\n",
       "      <td>0.050052</td>\n",
       "      <td>-0.041408</td>\n",
       "      <td>0.038584</td>\n",
       "      <td>-0.044536</td>\n",
       "      <td>0.059738</td>\n",
       "      <td>-0.011102</td>\n",
       "      <td>-0.013025</td>\n",
       "      <td>0.156946</td>\n",
       "    </tr>\n",
       "    <tr>\n",
       "      <th>Type of Travel</th>\n",
       "      <td>0.000231</td>\n",
       "      <td>-0.000141</td>\n",
       "      <td>0.006152</td>\n",
       "      <td>0.307927</td>\n",
       "      <td>-0.086819</td>\n",
       "      <td>1.000000</td>\n",
       "      <td>0.488353</td>\n",
       "      <td>-0.251070</td>\n",
       "      <td>-0.104942</td>\n",
       "      <td>0.259031</td>\n",
       "      <td>...</td>\n",
       "      <td>-0.147726</td>\n",
       "      <td>-0.057534</td>\n",
       "      <td>-0.139139</td>\n",
       "      <td>-0.032706</td>\n",
       "      <td>0.015786</td>\n",
       "      <td>-0.023396</td>\n",
       "      <td>-0.078247</td>\n",
       "      <td>-0.001159</td>\n",
       "      <td>-0.004083</td>\n",
       "      <td>-0.447136</td>\n",
       "    </tr>\n",
       "    <tr>\n",
       "      <th>Class</th>\n",
       "      <td>-0.001505</td>\n",
       "      <td>-0.105514</td>\n",
       "      <td>-0.013537</td>\n",
       "      <td>-0.041181</td>\n",
       "      <td>-0.140793</td>\n",
       "      <td>0.488353</td>\n",
       "      <td>1.000000</td>\n",
       "      <td>-0.412300</td>\n",
       "      <td>-0.025077</td>\n",
       "      <td>0.089024</td>\n",
       "      <td>...</td>\n",
       "      <td>-0.180351</td>\n",
       "      <td>-0.209885</td>\n",
       "      <td>-0.198062</td>\n",
       "      <td>-0.162757</td>\n",
       "      <td>-0.155419</td>\n",
       "      <td>-0.158439</td>\n",
       "      <td>-0.126785</td>\n",
       "      <td>0.007639</td>\n",
       "      <td>0.022704</td>\n",
       "      <td>-0.447842</td>\n",
       "    </tr>\n",
       "    <tr>\n",
       "      <th>Flight Distance</th>\n",
       "      <td>0.003420</td>\n",
       "      <td>0.118674</td>\n",
       "      <td>0.006523</td>\n",
       "      <td>0.215238</td>\n",
       "      <td>0.095119</td>\n",
       "      <td>-0.251070</td>\n",
       "      <td>-0.412300</td>\n",
       "      <td>1.000000</td>\n",
       "      <td>0.010235</td>\n",
       "      <td>-0.009626</td>\n",
       "      <td>...</td>\n",
       "      <td>0.121541</td>\n",
       "      <td>0.106649</td>\n",
       "      <td>0.131033</td>\n",
       "      <td>0.064300</td>\n",
       "      <td>0.074719</td>\n",
       "      <td>0.059986</td>\n",
       "      <td>0.090587</td>\n",
       "      <td>0.013177</td>\n",
       "      <td>-0.005491</td>\n",
       "      <td>0.284295</td>\n",
       "    </tr>\n",
       "    <tr>\n",
       "      <th>Inflight wifi service</th>\n",
       "      <td>-0.004243</td>\n",
       "      <td>-0.016798</td>\n",
       "      <td>0.007216</td>\n",
       "      <td>0.007230</td>\n",
       "      <td>0.021934</td>\n",
       "      <td>-0.104942</td>\n",
       "      <td>-0.025077</td>\n",
       "      <td>0.010235</td>\n",
       "      <td>1.000000</td>\n",
       "      <td>0.346527</td>\n",
       "      <td>...</td>\n",
       "      <td>0.208960</td>\n",
       "      <td>0.124647</td>\n",
       "      <td>0.160906</td>\n",
       "      <td>0.123835</td>\n",
       "      <td>0.048502</td>\n",
       "      <td>0.112488</td>\n",
       "      <td>0.131345</td>\n",
       "      <td>-0.030431</td>\n",
       "      <td>-0.037558</td>\n",
       "      <td>0.285644</td>\n",
       "    </tr>\n",
       "    <tr>\n",
       "      <th>Departure/Arrival time convenient</th>\n",
       "      <td>0.000914</td>\n",
       "      <td>-0.000312</td>\n",
       "      <td>0.009580</td>\n",
       "      <td>0.208008</td>\n",
       "      <td>0.026476</td>\n",
       "      <td>0.259031</td>\n",
       "      <td>0.089024</td>\n",
       "      <td>-0.009626</td>\n",
       "      <td>0.346527</td>\n",
       "      <td>1.000000</td>\n",
       "      <td>...</td>\n",
       "      <td>-0.005309</td>\n",
       "      <td>0.068695</td>\n",
       "      <td>0.011178</td>\n",
       "      <td>0.070246</td>\n",
       "      <td>0.095089</td>\n",
       "      <td>0.072207</td>\n",
       "      <td>0.013781</td>\n",
       "      <td>-0.001768</td>\n",
       "      <td>-0.003238</td>\n",
       "      <td>-0.048956</td>\n",
       "    </tr>\n",
       "    <tr>\n",
       "      <th>Ease of Online booking</th>\n",
       "      <td>0.002348</td>\n",
       "      <td>0.017719</td>\n",
       "      <td>0.006033</td>\n",
       "      <td>0.019052</td>\n",
       "      <td>0.028145</td>\n",
       "      <td>-0.133875</td>\n",
       "      <td>-0.096086</td>\n",
       "      <td>0.072345</td>\n",
       "      <td>0.714961</td>\n",
       "      <td>0.438822</td>\n",
       "      <td>...</td>\n",
       "      <td>0.047818</td>\n",
       "      <td>0.040960</td>\n",
       "      <td>0.107158</td>\n",
       "      <td>0.039019</td>\n",
       "      <td>0.013968</td>\n",
       "      <td>0.035448</td>\n",
       "      <td>0.016519</td>\n",
       "      <td>-0.008278</td>\n",
       "      <td>-0.012591</td>\n",
       "      <td>0.172921</td>\n",
       "    </tr>\n",
       "    <tr>\n",
       "      <th>Gate location</th>\n",
       "      <td>0.004071</td>\n",
       "      <td>0.001097</td>\n",
       "      <td>0.001071</td>\n",
       "      <td>-0.005589</td>\n",
       "      <td>-0.000065</td>\n",
       "      <td>-0.032775</td>\n",
       "      <td>-0.007271</td>\n",
       "      <td>0.006631</td>\n",
       "      <td>0.338049</td>\n",
       "      <td>0.443165</td>\n",
       "      <td>...</td>\n",
       "      <td>0.004401</td>\n",
       "      <td>-0.028780</td>\n",
       "      <td>-0.006578</td>\n",
       "      <td>0.003051</td>\n",
       "      <td>-0.031154</td>\n",
       "      <td>0.000686</td>\n",
       "      <td>-0.003577</td>\n",
       "      <td>0.004825</td>\n",
       "      <td>0.004247</td>\n",
       "      <td>0.003934</td>\n",
       "    </tr>\n",
       "    <tr>\n",
       "      <th>Food and drink</th>\n",
       "      <td>-0.003222</td>\n",
       "      <td>0.003006</td>\n",
       "      <td>0.005913</td>\n",
       "      <td>0.061189</td>\n",
       "      <td>0.028044</td>\n",
       "      <td>-0.064019</td>\n",
       "      <td>-0.078678</td>\n",
       "      <td>0.055964</td>\n",
       "      <td>0.132384</td>\n",
       "      <td>0.003997</td>\n",
       "      <td>...</td>\n",
       "      <td>0.622484</td>\n",
       "      <td>0.059922</td>\n",
       "      <td>0.034206</td>\n",
       "      <td>0.034016</td>\n",
       "      <td>0.086478</td>\n",
       "      <td>0.034106</td>\n",
       "      <td>0.656736</td>\n",
       "      <td>-0.023420</td>\n",
       "      <td>-0.035469</td>\n",
       "      <td>0.210128</td>\n",
       "    </tr>\n",
       "    <tr>\n",
       "      <th>Online boarding</th>\n",
       "      <td>0.000880</td>\n",
       "      <td>0.059579</td>\n",
       "      <td>-0.044114</td>\n",
       "      <td>0.188062</td>\n",
       "      <td>0.217952</td>\n",
       "      <td>-0.225548</td>\n",
       "      <td>-0.298025</td>\n",
       "      <td>0.212394</td>\n",
       "      <td>0.455704</td>\n",
       "      <td>0.071416</td>\n",
       "      <td>...</td>\n",
       "      <td>0.284399</td>\n",
       "      <td>0.156835</td>\n",
       "      <td>0.124836</td>\n",
       "      <td>0.083974</td>\n",
       "      <td>0.207025</td>\n",
       "      <td>0.074636</td>\n",
       "      <td>0.332242</td>\n",
       "      <td>-0.030712</td>\n",
       "      <td>-0.046942</td>\n",
       "      <td>0.505292</td>\n",
       "    </tr>\n",
       "    <tr>\n",
       "      <th>Seat comfort</th>\n",
       "      <td>-0.000206</td>\n",
       "      <td>0.055045</td>\n",
       "      <td>-0.027481</td>\n",
       "      <td>0.160480</td>\n",
       "      <td>0.169657</td>\n",
       "      <td>-0.123309</td>\n",
       "      <td>-0.210369</td>\n",
       "      <td>0.153063</td>\n",
       "      <td>0.121137</td>\n",
       "      <td>0.012976</td>\n",
       "      <td>...</td>\n",
       "      <td>0.608944</td>\n",
       "      <td>0.130685</td>\n",
       "      <td>0.107491</td>\n",
       "      <td>0.073062</td>\n",
       "      <td>0.191654</td>\n",
       "      <td>0.067367</td>\n",
       "      <td>0.677787</td>\n",
       "      <td>-0.021828</td>\n",
       "      <td>-0.037851</td>\n",
       "      <td>0.347594</td>\n",
       "    </tr>\n",
       "    <tr>\n",
       "      <th>Inflight entertainment</th>\n",
       "      <td>0.002863</td>\n",
       "      <td>0.005617</td>\n",
       "      <td>0.006491</td>\n",
       "      <td>0.111335</td>\n",
       "      <td>0.085048</td>\n",
       "      <td>-0.147726</td>\n",
       "      <td>-0.180351</td>\n",
       "      <td>0.121541</td>\n",
       "      <td>0.208960</td>\n",
       "      <td>-0.005309</td>\n",
       "      <td>...</td>\n",
       "      <td>1.000000</td>\n",
       "      <td>0.420351</td>\n",
       "      <td>0.302286</td>\n",
       "      <td>0.376734</td>\n",
       "      <td>0.119152</td>\n",
       "      <td>0.404786</td>\n",
       "      <td>0.690564</td>\n",
       "      <td>-0.030946</td>\n",
       "      <td>-0.044219</td>\n",
       "      <td>0.398124</td>\n",
       "    </tr>\n",
       "    <tr>\n",
       "      <th>On-board service</th>\n",
       "      <td>0.001384</td>\n",
       "      <td>0.056063</td>\n",
       "      <td>0.006912</td>\n",
       "      <td>0.054536</td>\n",
       "      <td>0.061305</td>\n",
       "      <td>-0.057534</td>\n",
       "      <td>-0.209885</td>\n",
       "      <td>0.106649</td>\n",
       "      <td>0.124647</td>\n",
       "      <td>0.068695</td>\n",
       "      <td>...</td>\n",
       "      <td>0.420351</td>\n",
       "      <td>1.000000</td>\n",
       "      <td>0.355090</td>\n",
       "      <td>0.517221</td>\n",
       "      <td>0.243233</td>\n",
       "      <td>0.550599</td>\n",
       "      <td>0.122409</td>\n",
       "      <td>-0.029328</td>\n",
       "      <td>-0.045439</td>\n",
       "      <td>0.322793</td>\n",
       "    </tr>\n",
       "    <tr>\n",
       "      <th>Leg room service</th>\n",
       "      <td>0.003875</td>\n",
       "      <td>0.044114</td>\n",
       "      <td>0.032494</td>\n",
       "      <td>0.047698</td>\n",
       "      <td>0.050052</td>\n",
       "      <td>-0.139139</td>\n",
       "      <td>-0.198062</td>\n",
       "      <td>0.131033</td>\n",
       "      <td>0.160906</td>\n",
       "      <td>0.011178</td>\n",
       "      <td>...</td>\n",
       "      <td>0.302286</td>\n",
       "      <td>0.355090</td>\n",
       "      <td>1.000000</td>\n",
       "      <td>0.369578</td>\n",
       "      <td>0.152248</td>\n",
       "      <td>0.368347</td>\n",
       "      <td>0.098804</td>\n",
       "      <td>-0.009828</td>\n",
       "      <td>-0.018551</td>\n",
       "      <td>0.314061</td>\n",
       "    </tr>\n",
       "    <tr>\n",
       "      <th>Baggage handling</th>\n",
       "      <td>0.000424</td>\n",
       "      <td>0.075778</td>\n",
       "      <td>0.036561</td>\n",
       "      <td>-0.026524</td>\n",
       "      <td>-0.041408</td>\n",
       "      <td>-0.032706</td>\n",
       "      <td>-0.162757</td>\n",
       "      <td>0.064300</td>\n",
       "      <td>0.123835</td>\n",
       "      <td>0.070246</td>\n",
       "      <td>...</td>\n",
       "      <td>0.376734</td>\n",
       "      <td>0.517221</td>\n",
       "      <td>0.369578</td>\n",
       "      <td>1.000000</td>\n",
       "      <td>0.232325</td>\n",
       "      <td>0.628076</td>\n",
       "      <td>0.094483</td>\n",
       "      <td>-0.017257</td>\n",
       "      <td>-0.031576</td>\n",
       "      <td>0.248279</td>\n",
       "    </tr>\n",
       "    <tr>\n",
       "      <th>Checkin service</th>\n",
       "      <td>-0.003809</td>\n",
       "      <td>0.079476</td>\n",
       "      <td>0.010311</td>\n",
       "      <td>0.029973</td>\n",
       "      <td>0.038584</td>\n",
       "      <td>0.015786</td>\n",
       "      <td>-0.155419</td>\n",
       "      <td>0.074719</td>\n",
       "      <td>0.048502</td>\n",
       "      <td>0.095089</td>\n",
       "      <td>...</td>\n",
       "      <td>0.119152</td>\n",
       "      <td>0.243233</td>\n",
       "      <td>0.152248</td>\n",
       "      <td>0.232325</td>\n",
       "      <td>1.000000</td>\n",
       "      <td>0.235508</td>\n",
       "      <td>0.178254</td>\n",
       "      <td>-0.022022</td>\n",
       "      <td>-0.036226</td>\n",
       "      <td>0.236495</td>\n",
       "    </tr>\n",
       "    <tr>\n",
       "      <th>Inflight service</th>\n",
       "      <td>0.001438</td>\n",
       "      <td>0.080323</td>\n",
       "      <td>0.039612</td>\n",
       "      <td>-0.022940</td>\n",
       "      <td>-0.044536</td>\n",
       "      <td>-0.023396</td>\n",
       "      <td>-0.158439</td>\n",
       "      <td>0.059986</td>\n",
       "      <td>0.112488</td>\n",
       "      <td>0.072207</td>\n",
       "      <td>...</td>\n",
       "      <td>0.404786</td>\n",
       "      <td>0.550599</td>\n",
       "      <td>0.368347</td>\n",
       "      <td>0.628076</td>\n",
       "      <td>0.235508</td>\n",
       "      <td>1.000000</td>\n",
       "      <td>0.087628</td>\n",
       "      <td>-0.029478</td>\n",
       "      <td>-0.047870</td>\n",
       "      <td>0.244655</td>\n",
       "    </tr>\n",
       "    <tr>\n",
       "      <th>Cleanliness</th>\n",
       "      <td>-0.000800</td>\n",
       "      <td>0.025333</td>\n",
       "      <td>0.007240</td>\n",
       "      <td>0.084525</td>\n",
       "      <td>0.059738</td>\n",
       "      <td>-0.078247</td>\n",
       "      <td>-0.126785</td>\n",
       "      <td>0.090587</td>\n",
       "      <td>0.131345</td>\n",
       "      <td>0.013781</td>\n",
       "      <td>...</td>\n",
       "      <td>0.690564</td>\n",
       "      <td>0.122409</td>\n",
       "      <td>0.098804</td>\n",
       "      <td>0.094483</td>\n",
       "      <td>0.178254</td>\n",
       "      <td>0.087628</td>\n",
       "      <td>1.000000</td>\n",
       "      <td>-0.019550</td>\n",
       "      <td>-0.034036</td>\n",
       "      <td>0.304706</td>\n",
       "    </tr>\n",
       "    <tr>\n",
       "      <th>Departure Delay in Minutes</th>\n",
       "      <td>-0.006872</td>\n",
       "      <td>0.045832</td>\n",
       "      <td>0.000361</td>\n",
       "      <td>-0.005025</td>\n",
       "      <td>-0.011102</td>\n",
       "      <td>-0.001159</td>\n",
       "      <td>0.007639</td>\n",
       "      <td>0.013177</td>\n",
       "      <td>-0.030431</td>\n",
       "      <td>-0.001768</td>\n",
       "      <td>...</td>\n",
       "      <td>-0.030946</td>\n",
       "      <td>-0.029328</td>\n",
       "      <td>-0.009828</td>\n",
       "      <td>-0.017257</td>\n",
       "      <td>-0.022022</td>\n",
       "      <td>-0.029478</td>\n",
       "      <td>-0.019550</td>\n",
       "      <td>1.000000</td>\n",
       "      <td>0.789067</td>\n",
       "      <td>-0.070027</td>\n",
       "    </tr>\n",
       "    <tr>\n",
       "      <th>Arrival Delay in Minutes</th>\n",
       "      <td>-0.005066</td>\n",
       "      <td>-0.008829</td>\n",
       "      <td>-0.002294</td>\n",
       "      <td>-0.006042</td>\n",
       "      <td>-0.013025</td>\n",
       "      <td>-0.004083</td>\n",
       "      <td>0.022704</td>\n",
       "      <td>-0.005491</td>\n",
       "      <td>-0.037558</td>\n",
       "      <td>-0.003238</td>\n",
       "      <td>...</td>\n",
       "      <td>-0.044219</td>\n",
       "      <td>-0.045439</td>\n",
       "      <td>-0.018551</td>\n",
       "      <td>-0.031576</td>\n",
       "      <td>-0.036226</td>\n",
       "      <td>-0.047870</td>\n",
       "      <td>-0.034036</td>\n",
       "      <td>0.789067</td>\n",
       "      <td>1.000000</td>\n",
       "      <td>-0.099374</td>\n",
       "    </tr>\n",
       "    <tr>\n",
       "      <th>satisfaction</th>\n",
       "      <td>-0.003562</td>\n",
       "      <td>0.013897</td>\n",
       "      <td>0.012791</td>\n",
       "      <td>0.188273</td>\n",
       "      <td>0.156946</td>\n",
       "      <td>-0.447136</td>\n",
       "      <td>-0.447842</td>\n",
       "      <td>0.284295</td>\n",
       "      <td>0.285644</td>\n",
       "      <td>-0.048956</td>\n",
       "      <td>...</td>\n",
       "      <td>0.398124</td>\n",
       "      <td>0.322793</td>\n",
       "      <td>0.314061</td>\n",
       "      <td>0.248279</td>\n",
       "      <td>0.236495</td>\n",
       "      <td>0.244655</td>\n",
       "      <td>0.304706</td>\n",
       "      <td>-0.070027</td>\n",
       "      <td>-0.099374</td>\n",
       "      <td>1.000000</td>\n",
       "    </tr>\n",
       "  </tbody>\n",
       "</table>\n",
       "<p>25 rows × 25 columns</p>\n",
       "</div>"
      ],
      "text/plain": [
       "                                   Unnamed: 0        id    Gender  \\\n",
       "Unnamed: 0                           1.000000  0.003913  0.002236   \n",
       "id                                   0.003913  1.000000 -0.001014   \n",
       "Gender                               0.002236 -0.001014  1.000000   \n",
       "Customer Type                        0.001544 -0.000505  0.030853   \n",
       "Age                                  0.002502  0.020915  0.008457   \n",
       "Type of Travel                       0.000231 -0.000141  0.006152   \n",
       "Class                               -0.001505 -0.105514 -0.013537   \n",
       "Flight Distance                      0.003420  0.118674  0.006523   \n",
       "Inflight wifi service               -0.004243 -0.016798  0.007216   \n",
       "Departure/Arrival time convenient    0.000914 -0.000312  0.009580   \n",
       "Ease of Online booking               0.002348  0.017719  0.006033   \n",
       "Gate location                        0.004071  0.001097  0.001071   \n",
       "Food and drink                      -0.003222  0.003006  0.005913   \n",
       "Online boarding                      0.000880  0.059579 -0.044114   \n",
       "Seat comfort                        -0.000206  0.055045 -0.027481   \n",
       "Inflight entertainment               0.002863  0.005617  0.006491   \n",
       "On-board service                     0.001384  0.056063  0.006912   \n",
       "Leg room service                     0.003875  0.044114  0.032494   \n",
       "Baggage handling                     0.000424  0.075778  0.036561   \n",
       "Checkin service                     -0.003809  0.079476  0.010311   \n",
       "Inflight service                     0.001438  0.080323  0.039612   \n",
       "Cleanliness                         -0.000800  0.025333  0.007240   \n",
       "Departure Delay in Minutes          -0.006872  0.045832  0.000361   \n",
       "Arrival Delay in Minutes            -0.005066 -0.008829 -0.002294   \n",
       "satisfaction                        -0.003562  0.013897  0.012791   \n",
       "\n",
       "                                   Customer Type       Age  Type of Travel  \\\n",
       "Unnamed: 0                              0.001544  0.002502        0.000231   \n",
       "id                                     -0.000505  0.020915       -0.000141   \n",
       "Gender                                  0.030853  0.008457        0.006152   \n",
       "Customer Type                           1.000000  0.266286        0.307927   \n",
       "Age                                     0.266286  1.000000       -0.086819   \n",
       "Type of Travel                          0.307927 -0.086819        1.000000   \n",
       "Class                                  -0.041181 -0.140793        0.488353   \n",
       "Flight Distance                         0.215238  0.095119       -0.251070   \n",
       "Inflight wifi service                   0.007230  0.021934       -0.104942   \n",
       "Departure/Arrival time convenient       0.208008  0.026476        0.259031   \n",
       "Ease of Online booking                  0.019052  0.028145       -0.133875   \n",
       "Gate location                          -0.005589 -0.000065       -0.032775   \n",
       "Food and drink                          0.061189  0.028044       -0.064019   \n",
       "Online boarding                         0.188062  0.217952       -0.225548   \n",
       "Seat comfort                            0.160480  0.169657       -0.123309   \n",
       "Inflight entertainment                  0.111335  0.085048       -0.147726   \n",
       "On-board service                        0.054536  0.061305       -0.057534   \n",
       "Leg room service                        0.047698  0.050052       -0.139139   \n",
       "Baggage handling                       -0.026524 -0.041408       -0.032706   \n",
       "Checkin service                         0.029973  0.038584        0.015786   \n",
       "Inflight service                       -0.022940 -0.044536       -0.023396   \n",
       "Cleanliness                             0.084525  0.059738       -0.078247   \n",
       "Departure Delay in Minutes             -0.005025 -0.011102       -0.001159   \n",
       "Arrival Delay in Minutes               -0.006042 -0.013025       -0.004083   \n",
       "satisfaction                            0.188273  0.156946       -0.447136   \n",
       "\n",
       "                                      Class  Flight Distance  \\\n",
       "Unnamed: 0                        -0.001505         0.003420   \n",
       "id                                -0.105514         0.118674   \n",
       "Gender                            -0.013537         0.006523   \n",
       "Customer Type                     -0.041181         0.215238   \n",
       "Age                               -0.140793         0.095119   \n",
       "Type of Travel                     0.488353        -0.251070   \n",
       "Class                              1.000000        -0.412300   \n",
       "Flight Distance                   -0.412300         1.000000   \n",
       "Inflight wifi service             -0.025077         0.010235   \n",
       "Departure/Arrival time convenient  0.089024        -0.009626   \n",
       "Ease of Online booking            -0.096086         0.072345   \n",
       "Gate location                     -0.007271         0.006631   \n",
       "Food and drink                    -0.078678         0.055964   \n",
       "Online boarding                   -0.298025         0.212394   \n",
       "Seat comfort                      -0.210369         0.153063   \n",
       "Inflight entertainment            -0.180351         0.121541   \n",
       "On-board service                  -0.209885         0.106649   \n",
       "Leg room service                  -0.198062         0.131033   \n",
       "Baggage handling                  -0.162757         0.064300   \n",
       "Checkin service                   -0.155419         0.074719   \n",
       "Inflight service                  -0.158439         0.059986   \n",
       "Cleanliness                       -0.126785         0.090587   \n",
       "Departure Delay in Minutes         0.007639         0.013177   \n",
       "Arrival Delay in Minutes           0.022704        -0.005491   \n",
       "satisfaction                      -0.447842         0.284295   \n",
       "\n",
       "                                   Inflight wifi service  \\\n",
       "Unnamed: 0                                     -0.004243   \n",
       "id                                             -0.016798   \n",
       "Gender                                          0.007216   \n",
       "Customer Type                                   0.007230   \n",
       "Age                                             0.021934   \n",
       "Type of Travel                                 -0.104942   \n",
       "Class                                          -0.025077   \n",
       "Flight Distance                                 0.010235   \n",
       "Inflight wifi service                           1.000000   \n",
       "Departure/Arrival time convenient               0.346527   \n",
       "Ease of Online booking                          0.714961   \n",
       "Gate location                                   0.338049   \n",
       "Food and drink                                  0.132384   \n",
       "Online boarding                                 0.455704   \n",
       "Seat comfort                                    0.121137   \n",
       "Inflight entertainment                          0.208960   \n",
       "On-board service                                0.124647   \n",
       "Leg room service                                0.160906   \n",
       "Baggage handling                                0.123835   \n",
       "Checkin service                                 0.048502   \n",
       "Inflight service                                0.112488   \n",
       "Cleanliness                                     0.131345   \n",
       "Departure Delay in Minutes                     -0.030431   \n",
       "Arrival Delay in Minutes                       -0.037558   \n",
       "satisfaction                                    0.285644   \n",
       "\n",
       "                                   Departure/Arrival time convenient  ...  \\\n",
       "Unnamed: 0                                                  0.000914  ...   \n",
       "id                                                         -0.000312  ...   \n",
       "Gender                                                      0.009580  ...   \n",
       "Customer Type                                               0.208008  ...   \n",
       "Age                                                         0.026476  ...   \n",
       "Type of Travel                                              0.259031  ...   \n",
       "Class                                                       0.089024  ...   \n",
       "Flight Distance                                            -0.009626  ...   \n",
       "Inflight wifi service                                       0.346527  ...   \n",
       "Departure/Arrival time convenient                           1.000000  ...   \n",
       "Ease of Online booking                                      0.438822  ...   \n",
       "Gate location                                               0.443165  ...   \n",
       "Food and drink                                              0.003997  ...   \n",
       "Online boarding                                             0.071416  ...   \n",
       "Seat comfort                                                0.012976  ...   \n",
       "Inflight entertainment                                     -0.005309  ...   \n",
       "On-board service                                            0.068695  ...   \n",
       "Leg room service                                            0.011178  ...   \n",
       "Baggage handling                                            0.070246  ...   \n",
       "Checkin service                                             0.095089  ...   \n",
       "Inflight service                                            0.072207  ...   \n",
       "Cleanliness                                                 0.013781  ...   \n",
       "Departure Delay in Minutes                                 -0.001768  ...   \n",
       "Arrival Delay in Minutes                                   -0.003238  ...   \n",
       "satisfaction                                               -0.048956  ...   \n",
       "\n",
       "                                   Inflight entertainment  On-board service  \\\n",
       "Unnamed: 0                                       0.002863          0.001384   \n",
       "id                                               0.005617          0.056063   \n",
       "Gender                                           0.006491          0.006912   \n",
       "Customer Type                                    0.111335          0.054536   \n",
       "Age                                              0.085048          0.061305   \n",
       "Type of Travel                                  -0.147726         -0.057534   \n",
       "Class                                           -0.180351         -0.209885   \n",
       "Flight Distance                                  0.121541          0.106649   \n",
       "Inflight wifi service                            0.208960          0.124647   \n",
       "Departure/Arrival time convenient               -0.005309          0.068695   \n",
       "Ease of Online booking                           0.047818          0.040960   \n",
       "Gate location                                    0.004401         -0.028780   \n",
       "Food and drink                                   0.622484          0.059922   \n",
       "Online boarding                                  0.284399          0.156835   \n",
       "Seat comfort                                     0.608944          0.130685   \n",
       "Inflight entertainment                           1.000000          0.420351   \n",
       "On-board service                                 0.420351          1.000000   \n",
       "Leg room service                                 0.302286          0.355090   \n",
       "Baggage handling                                 0.376734          0.517221   \n",
       "Checkin service                                  0.119152          0.243233   \n",
       "Inflight service                                 0.404786          0.550599   \n",
       "Cleanliness                                      0.690564          0.122409   \n",
       "Departure Delay in Minutes                      -0.030946         -0.029328   \n",
       "Arrival Delay in Minutes                        -0.044219         -0.045439   \n",
       "satisfaction                                     0.398124          0.322793   \n",
       "\n",
       "                                   Leg room service  Baggage handling  \\\n",
       "Unnamed: 0                                 0.003875          0.000424   \n",
       "id                                         0.044114          0.075778   \n",
       "Gender                                     0.032494          0.036561   \n",
       "Customer Type                              0.047698         -0.026524   \n",
       "Age                                        0.050052         -0.041408   \n",
       "Type of Travel                            -0.139139         -0.032706   \n",
       "Class                                     -0.198062         -0.162757   \n",
       "Flight Distance                            0.131033          0.064300   \n",
       "Inflight wifi service                      0.160906          0.123835   \n",
       "Departure/Arrival time convenient          0.011178          0.070246   \n",
       "Ease of Online booking                     0.107158          0.039019   \n",
       "Gate location                             -0.006578          0.003051   \n",
       "Food and drink                             0.034206          0.034016   \n",
       "Online boarding                            0.124836          0.083974   \n",
       "Seat comfort                               0.107491          0.073062   \n",
       "Inflight entertainment                     0.302286          0.376734   \n",
       "On-board service                           0.355090          0.517221   \n",
       "Leg room service                           1.000000          0.369578   \n",
       "Baggage handling                           0.369578          1.000000   \n",
       "Checkin service                            0.152248          0.232325   \n",
       "Inflight service                           0.368347          0.628076   \n",
       "Cleanliness                                0.098804          0.094483   \n",
       "Departure Delay in Minutes                -0.009828         -0.017257   \n",
       "Arrival Delay in Minutes                  -0.018551         -0.031576   \n",
       "satisfaction                               0.314061          0.248279   \n",
       "\n",
       "                                   Checkin service  Inflight service  \\\n",
       "Unnamed: 0                               -0.003809          0.001438   \n",
       "id                                        0.079476          0.080323   \n",
       "Gender                                    0.010311          0.039612   \n",
       "Customer Type                             0.029973         -0.022940   \n",
       "Age                                       0.038584         -0.044536   \n",
       "Type of Travel                            0.015786         -0.023396   \n",
       "Class                                    -0.155419         -0.158439   \n",
       "Flight Distance                           0.074719          0.059986   \n",
       "Inflight wifi service                     0.048502          0.112488   \n",
       "Departure/Arrival time convenient         0.095089          0.072207   \n",
       "Ease of Online booking                    0.013968          0.035448   \n",
       "Gate location                            -0.031154          0.000686   \n",
       "Food and drink                            0.086478          0.034106   \n",
       "Online boarding                           0.207025          0.074636   \n",
       "Seat comfort                              0.191654          0.067367   \n",
       "Inflight entertainment                    0.119152          0.404786   \n",
       "On-board service                          0.243233          0.550599   \n",
       "Leg room service                          0.152248          0.368347   \n",
       "Baggage handling                          0.232325          0.628076   \n",
       "Checkin service                           1.000000          0.235508   \n",
       "Inflight service                          0.235508          1.000000   \n",
       "Cleanliness                               0.178254          0.087628   \n",
       "Departure Delay in Minutes               -0.022022         -0.029478   \n",
       "Arrival Delay in Minutes                 -0.036226         -0.047870   \n",
       "satisfaction                              0.236495          0.244655   \n",
       "\n",
       "                                   Cleanliness  Departure Delay in Minutes  \\\n",
       "Unnamed: 0                           -0.000800                   -0.006872   \n",
       "id                                    0.025333                    0.045832   \n",
       "Gender                                0.007240                    0.000361   \n",
       "Customer Type                         0.084525                   -0.005025   \n",
       "Age                                   0.059738                   -0.011102   \n",
       "Type of Travel                       -0.078247                   -0.001159   \n",
       "Class                                -0.126785                    0.007639   \n",
       "Flight Distance                       0.090587                    0.013177   \n",
       "Inflight wifi service                 0.131345                   -0.030431   \n",
       "Departure/Arrival time convenient     0.013781                   -0.001768   \n",
       "Ease of Online booking                0.016519                   -0.008278   \n",
       "Gate location                        -0.003577                    0.004825   \n",
       "Food and drink                        0.656736                   -0.023420   \n",
       "Online boarding                       0.332242                   -0.030712   \n",
       "Seat comfort                          0.677787                   -0.021828   \n",
       "Inflight entertainment                0.690564                   -0.030946   \n",
       "On-board service                      0.122409                   -0.029328   \n",
       "Leg room service                      0.098804                   -0.009828   \n",
       "Baggage handling                      0.094483                   -0.017257   \n",
       "Checkin service                       0.178254                   -0.022022   \n",
       "Inflight service                      0.087628                   -0.029478   \n",
       "Cleanliness                           1.000000                   -0.019550   \n",
       "Departure Delay in Minutes           -0.019550                    1.000000   \n",
       "Arrival Delay in Minutes             -0.034036                    0.789067   \n",
       "satisfaction                          0.304706                   -0.070027   \n",
       "\n",
       "                                   Arrival Delay in Minutes  satisfaction  \n",
       "Unnamed: 0                                        -0.005066     -0.003562  \n",
       "id                                                -0.008829      0.013897  \n",
       "Gender                                            -0.002294      0.012791  \n",
       "Customer Type                                     -0.006042      0.188273  \n",
       "Age                                               -0.013025      0.156946  \n",
       "Type of Travel                                    -0.004083     -0.447136  \n",
       "Class                                              0.022704     -0.447842  \n",
       "Flight Distance                                   -0.005491      0.284295  \n",
       "Inflight wifi service                             -0.037558      0.285644  \n",
       "Departure/Arrival time convenient                 -0.003238     -0.048956  \n",
       "Ease of Online booking                            -0.012591      0.172921  \n",
       "Gate location                                      0.004247      0.003934  \n",
       "Food and drink                                    -0.035469      0.210128  \n",
       "Online boarding                                   -0.046942      0.505292  \n",
       "Seat comfort                                      -0.037851      0.347594  \n",
       "Inflight entertainment                            -0.044219      0.398124  \n",
       "On-board service                                  -0.045439      0.322793  \n",
       "Leg room service                                  -0.018551      0.314061  \n",
       "Baggage handling                                  -0.031576      0.248279  \n",
       "Checkin service                                   -0.036226      0.236495  \n",
       "Inflight service                                  -0.047870      0.244655  \n",
       "Cleanliness                                       -0.034036      0.304706  \n",
       "Departure Delay in Minutes                         0.789067     -0.070027  \n",
       "Arrival Delay in Minutes                           1.000000     -0.099374  \n",
       "satisfaction                                      -0.099374      1.000000  \n",
       "\n",
       "[25 rows x 25 columns]"
      ]
     },
     "execution_count": 152,
     "metadata": {},
     "output_type": "execute_result"
    }
   ],
   "source": [
    "train_data.corr().T"
   ]
  },
  {
   "cell_type": "code",
   "execution_count": 153,
   "id": "8f9f0f02",
   "metadata": {},
   "outputs": [
    {
     "data": {
      "text/plain": [
       "<AxesSubplot:>"
      ]
     },
     "execution_count": 153,
     "metadata": {},
     "output_type": "execute_result"
    },
    {
     "data": {
      "image/png": "[encoded data removed]",
      "text/plain": [
       "<Figure size 1440x1440 with 2 Axes>"
      ]
     },
     "metadata": {
      "needs_background": "light"
     },
     "output_type": "display_data"
    }
   ],
   "source": [
    "plt.figure(figsize=(20,20))\n",
    "sns.heatmap(train_data.corr(),annot=True)"
   ]
  },
  {
   "cell_type": "code",
   "execution_count": 156,
   "id": "e2c0abd5",
   "metadata": {},
   "outputs": [],
   "source": [
    "x_train.drop(['Unnamed: 0','id','Departure/Arrival time convenient','Gate location','Departure Delay in Minutes',\n",
    "                'Arrival Delay in Minutes'],axis=1,inplace=True)"
   ]
  },
  {
   "cell_type": "code",
   "execution_count": 157,
   "id": "04046042",
   "metadata": {},
   "outputs": [],
   "source": [
    "x_test.drop(['Unnamed: 0','id','Departure/Arrival time convenient','Gate location','Departure Delay in Minutes',\n",
    "                'Arrival Delay in Minutes'],axis=1,inplace=True)"
   ]
  },
  {
   "cell_type": "code",
   "execution_count": 159,
   "id": "f37c808f",
   "metadata": {},
   "outputs": [
    {
     "data": {
      "text/plain": [
       "18"
      ]
     },
     "execution_count": 159,
     "metadata": {},
     "output_type": "execute_result"
    }
   ],
   "source": [
    "len(x_train.columns)"
   ]
  },
  {
   "cell_type": "code",
   "execution_count": 160,
   "id": "c8c2c689",
   "metadata": {},
   "outputs": [
    {
     "data": {
      "text/plain": [
       "18"
      ]
     },
     "execution_count": 160,
     "metadata": {},
     "output_type": "execute_result"
    }
   ],
   "source": [
    "len(x_test.columns)"
   ]
  },
  {
   "cell_type": "markdown",
   "id": "abb4fd83",
   "metadata": {},
   "source": [
    "# 6) Model Training"
   ]
  },
  {
   "cell_type": "markdown",
   "id": "3697adc8",
   "metadata": {},
   "source": [
    "### 1) Logistic regression"
   ]
  },
  {
   "cell_type": "code",
   "execution_count": 161,
   "id": "54b1984f",
   "metadata": {},
   "outputs": [],
   "source": [
    "from sklearn.linear_model import LogisticRegression"
   ]
  },
  {
   "cell_type": "code",
   "execution_count": 162,
   "id": "105bb072",
   "metadata": {},
   "outputs": [
    {
     "data": {
      "text/html": [
       "<style>#sk-container-id-1 {color: black;background-color: white;}#sk-container-id-1 pre{padding: 0;}#sk-container-id-1 div.sk-toggleable {background-color: white;}#sk-container-id-1 label.sk-toggleable__label {cursor: pointer;display: block;width: 100%;margin-bottom: 0;padding: 0.3em;box-sizing: border-box;text-align: center;}#sk-container-id-1 label.sk-toggleable__label-arrow:before {content: \"▸\";float: left;margin-right: 0.25em;color: #696969;}#sk-container-id-1 label.sk-toggleable__label-arrow:hover:before {color: black;}#sk-container-id-1 div.sk-estimator:hover label.sk-toggleable__label-arrow:before {color: black;}#sk-container-id-1 div.sk-toggleable__content {max-height: 0;max-width: 0;overflow: hidden;text-align: left;background-color: #f0f8ff;}#sk-container-id-1 div.sk-toggleable__content pre {margin: 0.2em;color: black;border-radius: 0.25em;background-color: #f0f8ff;}#sk-container-id-1 input.sk-toggleable__control:checked~div.sk-toggleable__content {max-height: 200px;max-width: 100%;overflow: auto;}#sk-container-id-1 input.sk-toggleable__control:checked~label.sk-toggleable__label-arrow:before {content: \"▾\";}#sk-container-id-1 div.sk-estimator input.sk-toggleable__control:checked~label.sk-toggleable__label {background-color: #d4ebff;}#sk-container-id-1 div.sk-label input.sk-toggleable__control:checked~label.sk-toggleable__label {background-color: #d4ebff;}#sk-container-id-1 input.sk-hidden--visually {border: 0;clip: rect(1px 1px 1px 1px);clip: rect(1px, 1px, 1px, 1px);height: 1px;margin: -1px;overflow: hidden;padding: 0;position: absolute;width: 1px;}#sk-container-id-1 div.sk-estimator {font-family: monospace;background-color: #f0f8ff;border: 1px dotted black;border-radius: 0.25em;box-sizing: border-box;margin-bottom: 0.5em;}#sk-container-id-1 div.sk-estimator:hover {background-color: #d4ebff;}#sk-container-id-1 div.sk-parallel-item::after {content: \"\";width: 100%;border-bottom: 1px solid gray;flex-grow: 1;}#sk-container-id-1 div.sk-label:hover label.sk-toggleable__label {background-color: #d4ebff;}#sk-container-id-1 div.sk-serial::before {content: \"\";position: absolute;border-left: 1px solid gray;box-sizing: border-box;top: 0;bottom: 0;left: 50%;z-index: 0;}#sk-container-id-1 div.sk-serial {display: flex;flex-direction: column;align-items: center;background-color: white;padding-right: 0.2em;padding-left: 0.2em;position: relative;}#sk-container-id-1 div.sk-item {position: relative;z-index: 1;}#sk-container-id-1 div.sk-parallel {display: flex;align-items: stretch;justify-content: center;background-color: white;position: relative;}#sk-container-id-1 div.sk-item::before, #sk-container-id-1 div.sk-parallel-item::before {content: \"\";position: absolute;border-left: 1px solid gray;box-sizing: border-box;top: 0;bottom: 0;left: 50%;z-index: -1;}#sk-container-id-1 div.sk-parallel-item {display: flex;flex-direction: column;z-index: 1;position: relative;background-color: white;}#sk-container-id-1 div.sk-parallel-item:first-child::after {align-self: flex-end;width: 50%;}#sk-container-id-1 div.sk-parallel-item:last-child::after {align-self: flex-start;width: 50%;}#sk-container-id-1 div.sk-parallel-item:only-child::after {width: 0;}#sk-container-id-1 div.sk-dashed-wrapped {border: 1px dashed gray;margin: 0 0.4em 0.5em 0.4em;box-sizing: border-box;padding-bottom: 0.4em;background-color: white;}#sk-container-id-1 div.sk-label label {font-family: monospace;font-weight: bold;display: inline-block;line-height: 1.2em;}#sk-container-id-1 div.sk-label-container {text-align: center;}#sk-container-id-1 div.sk-container {/* jupyter's `normalize.less` sets `[hidden] { display: none; }` but bootstrap.min.css set `[hidden] { display: none !important; }` so we also need the `!important` here to be able to override the default hidden behavior on the sphinx rendered scikit-learn.org. See: https://github.com/scikit-learn/scikit-learn/issues/21755 */display: inline-block !important;position: relative;}#sk-container-id-1 div.sk-text-repr-fallback {display: none;}</style><div id=\"sk-container-id-1\" class=\"sk-top-container\"><div class=\"sk-text-repr-fallback\"><pre>LogisticRegression()</pre><b>In a Jupyter environment, please rerun this cell to show the HTML representation or trust the notebook. <br />On GitHub, the HTML representation is unable to render, please try loading this page with nbviewer.org.</b></div><div class=\"sk-container\" hidden><div class=\"sk-item\"><div class=\"sk-estimator sk-toggleable\"><input class=\"sk-toggleable__control sk-hidden--visually\" id=\"sk-estimator-id-1\" type=\"checkbox\" checked><label for=\"sk-estimator-id-1\" class=\"sk-toggleable__label sk-toggleable__label-arrow\">LogisticRegression</label><div class=\"sk-toggleable__content\"><pre>LogisticRegression()</pre></div></div></div></div></div>"
      ],
      "text/plain": [
       "LogisticRegression()"
      ]
     },
     "execution_count": 162,
     "metadata": {},
     "output_type": "execute_result"
    }
   ],
   "source": [
    "log_model = LogisticRegression()\n",
    "log_model.fit(x_train,y_train)"
   ]
  },
  {
   "cell_type": "code",
   "execution_count": 163,
   "id": "08fa2e64",
   "metadata": {},
   "outputs": [
    {
     "name": "stdout",
     "output_type": "stream",
     "text": [
      "accuracy score of test :  0.8749819546701314\n",
      "accuracy score of train :  0.8736932016409418\n",
      "confusion matrix : \n",
      " [[10670  1106]\n",
      " [ 1492  7513]]\n",
      "classification report :\n",
      "               precision    recall  f1-score   support\n",
      "\n",
      "           0       0.88      0.91      0.89     11776\n",
      "           1       0.87      0.83      0.85      9005\n",
      "\n",
      "    accuracy                           0.87     20781\n",
      "   macro avg       0.87      0.87      0.87     20781\n",
      "weighted avg       0.87      0.87      0.87     20781\n",
      "\n"
     ]
    }
   ],
   "source": [
    "y_pred_log_test = log_model.predict(x_test)\n",
    "y_pred_log_train = log_model.predict(x_train)\n",
    "print('accuracy score of test : ',accuracy_score(y_test,y_pred_log_test))\n",
    "print('accuracy score of train : ',accuracy_score(y_train,y_pred_log_train))\n",
    "print('confusion matrix : \\n',confusion_matrix(y_test,y_pred_log_test))\n",
    "print('classification report :\\n',classification_report(y_test,y_pred_log_test))"
   ]
  },
  {
   "cell_type": "code",
   "execution_count": 164,
   "id": "24d1982c",
   "metadata": {},
   "outputs": [],
   "source": [
    "Logistic_regression_train = accuracy_score(y_train,y_pred_log_train)\n",
    "Logistic_regression_test = accuracy_score(y_test,y_pred_log_test)"
   ]
  },
  {
   "cell_type": "markdown",
   "id": "5b384f3b",
   "metadata": {},
   "source": [
    "### 2) Decision tree"
   ]
  },
  {
   "cell_type": "code",
   "execution_count": 165,
   "id": "8b4997c9",
   "metadata": {},
   "outputs": [],
   "source": [
    "from sklearn.tree import DecisionTreeClassifier"
   ]
  },
  {
   "cell_type": "code",
   "execution_count": 166,
   "id": "3c107ca9",
   "metadata": {},
   "outputs": [
    {
     "data": {
      "text/html": [
       "<style>#sk-container-id-2 {color: black;background-color: white;}#sk-container-id-2 pre{padding: 0;}#sk-container-id-2 div.sk-toggleable {background-color: white;}#sk-container-id-2 label.sk-toggleable__label {cursor: pointer;display: block;width: 100%;margin-bottom: 0;padding: 0.3em;box-sizing: border-box;text-align: center;}#sk-container-id-2 label.sk-toggleable__label-arrow:before {content: \"▸\";float: left;margin-right: 0.25em;color: #696969;}#sk-container-id-2 label.sk-toggleable__label-arrow:hover:before {color: black;}#sk-container-id-2 div.sk-estimator:hover label.sk-toggleable__label-arrow:before {color: black;}#sk-container-id-2 div.sk-toggleable__content {max-height: 0;max-width: 0;overflow: hidden;text-align: left;background-color: #f0f8ff;}#sk-container-id-2 div.sk-toggleable__content pre {margin: 0.2em;color: black;border-radius: 0.25em;background-color: #f0f8ff;}#sk-container-id-2 input.sk-toggleable__control:checked~div.sk-toggleable__content {max-height: 200px;max-width: 100%;overflow: auto;}#sk-container-id-2 input.sk-toggleable__control:checked~label.sk-toggleable__label-arrow:before {content: \"▾\";}#sk-container-id-2 div.sk-estimator input.sk-toggleable__control:checked~label.sk-toggleable__label {background-color: #d4ebff;}#sk-container-id-2 div.sk-label input.sk-toggleable__control:checked~label.sk-toggleable__label {background-color: #d4ebff;}#sk-container-id-2 input.sk-hidden--visually {border: 0;clip: rect(1px 1px 1px 1px);clip: rect(1px, 1px, 1px, 1px);height: 1px;margin: -1px;overflow: hidden;padding: 0;position: absolute;width: 1px;}#sk-container-id-2 div.sk-estimator {font-family: monospace;background-color: #f0f8ff;border: 1px dotted black;border-radius: 0.25em;box-sizing: border-box;margin-bottom: 0.5em;}#sk-container-id-2 div.sk-estimator:hover {background-color: #d4ebff;}#sk-container-id-2 div.sk-parallel-item::after {content: \"\";width: 100%;border-bottom: 1px solid gray;flex-grow: 1;}#sk-container-id-2 div.sk-label:hover label.sk-toggleable__label {background-color: #d4ebff;}#sk-container-id-2 div.sk-serial::before {content: \"\";position: absolute;border-left: 1px solid gray;box-sizing: border-box;top: 0;bottom: 0;left: 50%;z-index: 0;}#sk-container-id-2 div.sk-serial {display: flex;flex-direction: column;align-items: center;background-color: white;padding-right: 0.2em;padding-left: 0.2em;position: relative;}#sk-container-id-2 div.sk-item {position: relative;z-index: 1;}#sk-container-id-2 div.sk-parallel {display: flex;align-items: stretch;justify-content: center;background-color: white;position: relative;}#sk-container-id-2 div.sk-item::before, #sk-container-id-2 div.sk-parallel-item::before {content: \"\";position: absolute;border-left: 1px solid gray;box-sizing: border-box;top: 0;bottom: 0;left: 50%;z-index: -1;}#sk-container-id-2 div.sk-parallel-item {display: flex;flex-direction: column;z-index: 1;position: relative;background-color: white;}#sk-container-id-2 div.sk-parallel-item:first-child::after {align-self: flex-end;width: 50%;}#sk-container-id-2 div.sk-parallel-item:last-child::after {align-self: flex-start;width: 50%;}#sk-container-id-2 div.sk-parallel-item:only-child::after {width: 0;}#sk-container-id-2 div.sk-dashed-wrapped {border: 1px dashed gray;margin: 0 0.4em 0.5em 0.4em;box-sizing: border-box;padding-bottom: 0.4em;background-color: white;}#sk-container-id-2 div.sk-label label {font-family: monospace;font-weight: bold;display: inline-block;line-height: 1.2em;}#sk-container-id-2 div.sk-label-container {text-align: center;}#sk-container-id-2 div.sk-container {/* jupyter's `normalize.less` sets `[hidden] { display: none; }` but bootstrap.min.css set `[hidden] { display: none !important; }` so we also need the `!important` here to be able to override the default hidden behavior on the sphinx rendered scikit-learn.org. See: https://github.com/scikit-learn/scikit-learn/issues/21755 */display: inline-block !important;position: relative;}#sk-container-id-2 div.sk-text-repr-fallback {display: none;}</style><div id=\"sk-container-id-2\" class=\"sk-top-container\"><div class=\"sk-text-repr-fallback\"><pre>DecisionTreeClassifier()</pre><b>In a Jupyter environment, please rerun this cell to show the HTML representation or trust the notebook. <br />On GitHub, the HTML representation is unable to render, please try loading this page with nbviewer.org.</b></div><div class=\"sk-container\" hidden><div class=\"sk-item\"><div class=\"sk-estimator sk-toggleable\"><input class=\"sk-toggleable__control sk-hidden--visually\" id=\"sk-estimator-id-2\" type=\"checkbox\" checked><label for=\"sk-estimator-id-2\" class=\"sk-toggleable__label sk-toggleable__label-arrow\">DecisionTreeClassifier</label><div class=\"sk-toggleable__content\"><pre>DecisionTreeClassifier()</pre></div></div></div></div></div>"
      ],
      "text/plain": [
       "DecisionTreeClassifier()"
      ]
     },
     "execution_count": 166,
     "metadata": {},
     "output_type": "execute_result"
    }
   ],
   "source": [
    "DT_model = DecisionTreeClassifier()\n",
    "DT_model.fit(x_train,y_train)"
   ]
  },
  {
   "cell_type": "code",
   "execution_count": 167,
   "id": "8fe7a3df",
   "metadata": {},
   "outputs": [
    {
     "name": "stdout",
     "output_type": "stream",
     "text": [
      "confusion matrix : \n",
      " [[11167   609]\n",
      " [  593  8412]]\n",
      "classification report :\n",
      "               precision    recall  f1-score   support\n",
      "\n",
      "           0       0.95      0.95      0.95     11776\n",
      "           1       0.93      0.93      0.93      9005\n",
      "\n",
      "    accuracy                           0.94     20781\n",
      "   macro avg       0.94      0.94      0.94     20781\n",
      "weighted avg       0.94      0.94      0.94     20781\n",
      "\n",
      "accuracy score :  0.9421587026610846\n",
      "accuracy score of train :  1.0\n"
     ]
    }
   ],
   "source": [
    "y_pred_DT = DT_model.predict(x_test)\n",
    "y_pred_DT_train = DT_model.predict(x_train)\n",
    "print('confusion matrix : \\n',confusion_matrix(y_test,y_pred_DT))\n",
    "print('classification report :\\n',classification_report(y_test,y_pred_DT))\n",
    "print('accuracy score : ',accuracy_score(y_test,y_pred_DT))\n",
    "print('accuracy score of train : ',accuracy_score(y_train,y_pred_DT_train))"
   ]
  },
  {
   "cell_type": "raw",
   "id": "62e873db",
   "metadata": {},
   "source": [
    "RandomizedSearchCV"
   ]
  },
  {
   "cell_type": "code",
   "execution_count": 168,
   "id": "74e9a857",
   "metadata": {},
   "outputs": [
    {
     "data": {
      "text/html": [
       "<style>#sk-container-id-3 {color: black;background-color: white;}#sk-container-id-3 pre{padding: 0;}#sk-container-id-3 div.sk-toggleable {background-color: white;}#sk-container-id-3 label.sk-toggleable__label {cursor: pointer;display: block;width: 100%;margin-bottom: 0;padding: 0.3em;box-sizing: border-box;text-align: center;}#sk-container-id-3 label.sk-toggleable__label-arrow:before {content: \"▸\";float: left;margin-right: 0.25em;color: #696969;}#sk-container-id-3 label.sk-toggleable__label-arrow:hover:before {color: black;}#sk-container-id-3 div.sk-estimator:hover label.sk-toggleable__label-arrow:before {color: black;}#sk-container-id-3 div.sk-toggleable__content {max-height: 0;max-width: 0;overflow: hidden;text-align: left;background-color: #f0f8ff;}#sk-container-id-3 div.sk-toggleable__content pre {margin: 0.2em;color: black;border-radius: 0.25em;background-color: #f0f8ff;}#sk-container-id-3 input.sk-toggleable__control:checked~div.sk-toggleable__content {max-height: 200px;max-width: 100%;overflow: auto;}#sk-container-id-3 input.sk-toggleable__control:checked~label.sk-toggleable__label-arrow:before {content: \"▾\";}#sk-container-id-3 div.sk-estimator input.sk-toggleable__control:checked~label.sk-toggleable__label {background-color: #d4ebff;}#sk-container-id-3 div.sk-label input.sk-toggleable__control:checked~label.sk-toggleable__label {background-color: #d4ebff;}#sk-container-id-3 input.sk-hidden--visually {border: 0;clip: rect(1px 1px 1px 1px);clip: rect(1px, 1px, 1px, 1px);height: 1px;margin: -1px;overflow: hidden;padding: 0;position: absolute;width: 1px;}#sk-container-id-3 div.sk-estimator {font-family: monospace;background-color: #f0f8ff;border: 1px dotted black;border-radius: 0.25em;box-sizing: border-box;margin-bottom: 0.5em;}#sk-container-id-3 div.sk-estimator:hover {background-color: #d4ebff;}#sk-container-id-3 div.sk-parallel-item::after {content: \"\";width: 100%;border-bottom: 1px solid gray;flex-grow: 1;}#sk-container-id-3 div.sk-label:hover label.sk-toggleable__label {background-color: #d4ebff;}#sk-container-id-3 div.sk-serial::before {content: \"\";position: absolute;border-left: 1px solid gray;box-sizing: border-box;top: 0;bottom: 0;left: 50%;z-index: 0;}#sk-container-id-3 div.sk-serial {display: flex;flex-direction: column;align-items: center;background-color: white;padding-right: 0.2em;padding-left: 0.2em;position: relative;}#sk-container-id-3 div.sk-item {position: relative;z-index: 1;}#sk-container-id-3 div.sk-parallel {display: flex;align-items: stretch;justify-content: center;background-color: white;position: relative;}#sk-container-id-3 div.sk-item::before, #sk-container-id-3 div.sk-parallel-item::before {content: \"\";position: absolute;border-left: 1px solid gray;box-sizing: border-box;top: 0;bottom: 0;left: 50%;z-index: -1;}#sk-container-id-3 div.sk-parallel-item {display: flex;flex-direction: column;z-index: 1;position: relative;background-color: white;}#sk-container-id-3 div.sk-parallel-item:first-child::after {align-self: flex-end;width: 50%;}#sk-container-id-3 div.sk-parallel-item:last-child::after {align-self: flex-start;width: 50%;}#sk-container-id-3 div.sk-parallel-item:only-child::after {width: 0;}#sk-container-id-3 div.sk-dashed-wrapped {border: 1px dashed gray;margin: 0 0.4em 0.5em 0.4em;box-sizing: border-box;padding-bottom: 0.4em;background-color: white;}#sk-container-id-3 div.sk-label label {font-family: monospace;font-weight: bold;display: inline-block;line-height: 1.2em;}#sk-container-id-3 div.sk-label-container {text-align: center;}#sk-container-id-3 div.sk-container {/* jupyter's `normalize.less` sets `[hidden] { display: none; }` but bootstrap.min.css set `[hidden] { display: none !important; }` so we also need the `!important` here to be able to override the default hidden behavior on the sphinx rendered scikit-learn.org. See: https://github.com/scikit-learn/scikit-learn/issues/21755 */display: inline-block !important;position: relative;}#sk-container-id-3 div.sk-text-repr-fallback {display: none;}</style><div id=\"sk-container-id-3\" class=\"sk-top-container\"><div class=\"sk-text-repr-fallback\"><pre>RandomizedSearchCV(cv=5, estimator=DecisionTreeClassifier(),\n",
       "                   param_distributions={&#x27;criterion&#x27;: [&#x27;gini&#x27;, &#x27;entropy&#x27;],\n",
       "                                        &#x27;max_depth&#x27;: array([2, 3, 4, 5, 6, 7, 8, 9]),\n",
       "                                        &#x27;min_samples_leaf&#x27;: array([ 1,  2,  3,  4,  5,  6,  7,  8,  9, 10, 11, 12, 13, 14]),\n",
       "                                        &#x27;min_samples_split&#x27;: array([ 2,  3,  4,  5,  6,  7,  8,  9, 10, 11, 12, 13, 14])})</pre><b>In a Jupyter environment, please rerun this cell to show the HTML representation or trust the notebook. <br />On GitHub, the HTML representation is unable to render, please try loading this page with nbviewer.org.</b></div><div class=\"sk-container\" hidden><div class=\"sk-item sk-dashed-wrapped\"><div class=\"sk-label-container\"><div class=\"sk-label sk-toggleable\"><input class=\"sk-toggleable__control sk-hidden--visually\" id=\"sk-estimator-id-3\" type=\"checkbox\" ><label for=\"sk-estimator-id-3\" class=\"sk-toggleable__label sk-toggleable__label-arrow\">RandomizedSearchCV</label><div class=\"sk-toggleable__content\"><pre>RandomizedSearchCV(cv=5, estimator=DecisionTreeClassifier(),\n",
       "                   param_distributions={&#x27;criterion&#x27;: [&#x27;gini&#x27;, &#x27;entropy&#x27;],\n",
       "                                        &#x27;max_depth&#x27;: array([2, 3, 4, 5, 6, 7, 8, 9]),\n",
       "                                        &#x27;min_samples_leaf&#x27;: array([ 1,  2,  3,  4,  5,  6,  7,  8,  9, 10, 11, 12, 13, 14]),\n",
       "                                        &#x27;min_samples_split&#x27;: array([ 2,  3,  4,  5,  6,  7,  8,  9, 10, 11, 12, 13, 14])})</pre></div></div></div><div class=\"sk-parallel\"><div class=\"sk-parallel-item\"><div class=\"sk-item\"><div class=\"sk-label-container\"><div class=\"sk-label sk-toggleable\"><input class=\"sk-toggleable__control sk-hidden--visually\" id=\"sk-estimator-id-4\" type=\"checkbox\" ><label for=\"sk-estimator-id-4\" class=\"sk-toggleable__label sk-toggleable__label-arrow\">estimator: DecisionTreeClassifier</label><div class=\"sk-toggleable__content\"><pre>DecisionTreeClassifier()</pre></div></div></div><div class=\"sk-serial\"><div class=\"sk-item\"><div class=\"sk-estimator sk-toggleable\"><input class=\"sk-toggleable__control sk-hidden--visually\" id=\"sk-estimator-id-5\" type=\"checkbox\" ><label for=\"sk-estimator-id-5\" class=\"sk-toggleable__label sk-toggleable__label-arrow\">DecisionTreeClassifier</label><div class=\"sk-toggleable__content\"><pre>DecisionTreeClassifier()</pre></div></div></div></div></div></div></div></div></div></div>"
      ],
      "text/plain": [
       "RandomizedSearchCV(cv=5, estimator=DecisionTreeClassifier(),\n",
       "                   param_distributions={'criterion': ['gini', 'entropy'],\n",
       "                                        'max_depth': array([2, 3, 4, 5, 6, 7, 8, 9]),\n",
       "                                        'min_samples_leaf': array([ 1,  2,  3,  4,  5,  6,  7,  8,  9, 10, 11, 12, 13, 14]),\n",
       "                                        'min_samples_split': array([ 2,  3,  4,  5,  6,  7,  8,  9, 10, 11, 12, 13, 14])})"
      ]
     },
     "execution_count": 168,
     "metadata": {},
     "output_type": "execute_result"
    }
   ],
   "source": [
    "hyperparameters = {'criterion' : ['gini','entropy'],\n",
    "                   'max_depth' : np.arange(2,10),\n",
    "                   'min_samples_split' : np.arange(2,15),\n",
    "                   'min_samples_leaf' : np.arange(1,15)}\n",
    "dt_model = DecisionTreeClassifier()\n",
    "rscv_dt_model = RandomizedSearchCV(dt_model,hyperparameters,cv = 5)\n",
    "rscv_dt_model.fit(x_train,y_train)"
   ]
  },
  {
   "cell_type": "code",
   "execution_count": 169,
   "id": "94238a96",
   "metadata": {},
   "outputs": [
    {
     "data": {
      "text/plain": [
       "{'min_samples_split': 7,\n",
       " 'min_samples_leaf': 1,\n",
       " 'max_depth': 9,\n",
       " 'criterion': 'entropy'}"
      ]
     },
     "execution_count": 169,
     "metadata": {},
     "output_type": "execute_result"
    }
   ],
   "source": [
    "rscv_dt_model.best_params_"
   ]
  },
  {
   "cell_type": "code",
   "execution_count": 170,
   "id": "a5d21fef",
   "metadata": {},
   "outputs": [
    {
     "data": {
      "text/html": [
       "<style>#sk-container-id-4 {color: black;background-color: white;}#sk-container-id-4 pre{padding: 0;}#sk-container-id-4 div.sk-toggleable {background-color: white;}#sk-container-id-4 label.sk-toggleable__label {cursor: pointer;display: block;width: 100%;margin-bottom: 0;padding: 0.3em;box-sizing: border-box;text-align: center;}#sk-container-id-4 label.sk-toggleable__label-arrow:before {content: \"▸\";float: left;margin-right: 0.25em;color: #696969;}#sk-container-id-4 label.sk-toggleable__label-arrow:hover:before {color: black;}#sk-container-id-4 div.sk-estimator:hover label.sk-toggleable__label-arrow:before {color: black;}#sk-container-id-4 div.sk-toggleable__content {max-height: 0;max-width: 0;overflow: hidden;text-align: left;background-color: #f0f8ff;}#sk-container-id-4 div.sk-toggleable__content pre {margin: 0.2em;color: black;border-radius: 0.25em;background-color: #f0f8ff;}#sk-container-id-4 input.sk-toggleable__control:checked~div.sk-toggleable__content {max-height: 200px;max-width: 100%;overflow: auto;}#sk-container-id-4 input.sk-toggleable__control:checked~label.sk-toggleable__label-arrow:before {content: \"▾\";}#sk-container-id-4 div.sk-estimator input.sk-toggleable__control:checked~label.sk-toggleable__label {background-color: #d4ebff;}#sk-container-id-4 div.sk-label input.sk-toggleable__control:checked~label.sk-toggleable__label {background-color: #d4ebff;}#sk-container-id-4 input.sk-hidden--visually {border: 0;clip: rect(1px 1px 1px 1px);clip: rect(1px, 1px, 1px, 1px);height: 1px;margin: -1px;overflow: hidden;padding: 0;position: absolute;width: 1px;}#sk-container-id-4 div.sk-estimator {font-family: monospace;background-color: #f0f8ff;border: 1px dotted black;border-radius: 0.25em;box-sizing: border-box;margin-bottom: 0.5em;}#sk-container-id-4 div.sk-estimator:hover {background-color: #d4ebff;}#sk-container-id-4 div.sk-parallel-item::after {content: \"\";width: 100%;border-bottom: 1px solid gray;flex-grow: 1;}#sk-container-id-4 div.sk-label:hover label.sk-toggleable__label {background-color: #d4ebff;}#sk-container-id-4 div.sk-serial::before {content: \"\";position: absolute;border-left: 1px solid gray;box-sizing: border-box;top: 0;bottom: 0;left: 50%;z-index: 0;}#sk-container-id-4 div.sk-serial {display: flex;flex-direction: column;align-items: center;background-color: white;padding-right: 0.2em;padding-left: 0.2em;position: relative;}#sk-container-id-4 div.sk-item {position: relative;z-index: 1;}#sk-container-id-4 div.sk-parallel {display: flex;align-items: stretch;justify-content: center;background-color: white;position: relative;}#sk-container-id-4 div.sk-item::before, #sk-container-id-4 div.sk-parallel-item::before {content: \"\";position: absolute;border-left: 1px solid gray;box-sizing: border-box;top: 0;bottom: 0;left: 50%;z-index: -1;}#sk-container-id-4 div.sk-parallel-item {display: flex;flex-direction: column;z-index: 1;position: relative;background-color: white;}#sk-container-id-4 div.sk-parallel-item:first-child::after {align-self: flex-end;width: 50%;}#sk-container-id-4 div.sk-parallel-item:last-child::after {align-self: flex-start;width: 50%;}#sk-container-id-4 div.sk-parallel-item:only-child::after {width: 0;}#sk-container-id-4 div.sk-dashed-wrapped {border: 1px dashed gray;margin: 0 0.4em 0.5em 0.4em;box-sizing: border-box;padding-bottom: 0.4em;background-color: white;}#sk-container-id-4 div.sk-label label {font-family: monospace;font-weight: bold;display: inline-block;line-height: 1.2em;}#sk-container-id-4 div.sk-label-container {text-align: center;}#sk-container-id-4 div.sk-container {/* jupyter's `normalize.less` sets `[hidden] { display: none; }` but bootstrap.min.css set `[hidden] { display: none !important; }` so we also need the `!important` here to be able to override the default hidden behavior on the sphinx rendered scikit-learn.org. See: https://github.com/scikit-learn/scikit-learn/issues/21755 */display: inline-block !important;position: relative;}#sk-container-id-4 div.sk-text-repr-fallback {display: none;}</style><div id=\"sk-container-id-4\" class=\"sk-top-container\"><div class=\"sk-text-repr-fallback\"><pre>DecisionTreeClassifier(max_depth=2, min_samples_leaf=3, min_samples_split=7)</pre><b>In a Jupyter environment, please rerun this cell to show the HTML representation or trust the notebook. <br />On GitHub, the HTML representation is unable to render, please try loading this page with nbviewer.org.</b></div><div class=\"sk-container\" hidden><div class=\"sk-item\"><div class=\"sk-estimator sk-toggleable\"><input class=\"sk-toggleable__control sk-hidden--visually\" id=\"sk-estimator-id-6\" type=\"checkbox\" checked><label for=\"sk-estimator-id-6\" class=\"sk-toggleable__label sk-toggleable__label-arrow\">DecisionTreeClassifier</label><div class=\"sk-toggleable__content\"><pre>DecisionTreeClassifier(max_depth=2, min_samples_leaf=3, min_samples_split=7)</pre></div></div></div></div></div>"
      ],
      "text/plain": [
       "DecisionTreeClassifier(max_depth=2, min_samples_leaf=3, min_samples_split=7)"
      ]
     },
     "execution_count": 170,
     "metadata": {},
     "output_type": "execute_result"
    }
   ],
   "source": [
    "best_DT_model = DecisionTreeClassifier(max_depth = 2,\n",
    "                                   min_samples_leaf = 3,\n",
    "                                   min_samples_split = 7)\n",
    "best_DT_model.fit(x_train,y_train)"
   ]
  },
  {
   "cell_type": "code",
   "execution_count": 171,
   "id": "2943c61a",
   "metadata": {},
   "outputs": [
    {
     "name": "stdout",
     "output_type": "stream",
     "text": [
      "confusion matrix : \n",
      " [[10580  1196]\n",
      " [ 1710  7295]]\n",
      "classification report :\n",
      "               precision    recall  f1-score   support\n",
      "\n",
      "           0       0.86      0.90      0.88     11776\n",
      "           1       0.86      0.81      0.83      9005\n",
      "\n",
      "    accuracy                           0.86     20781\n",
      "   macro avg       0.86      0.85      0.86     20781\n",
      "weighted avg       0.86      0.86      0.86     20781\n",
      "\n",
      "accuracy score :  0.86016072373803\n",
      "accuracy score of train :  0.8604718309011946\n"
     ]
    }
   ],
   "source": [
    "y_pred_DT_test_best = best_DT_model.predict(x_test)\n",
    "y_pred_DT_train_best = best_DT_model.predict(x_train)\n",
    "print('confusion matrix : \\n',confusion_matrix(y_test,y_pred_DT_test_best))\n",
    "print('classification report :\\n',classification_report(y_test,y_pred_DT_test_best))\n",
    "print('accuracy score : ',accuracy_score(y_test,y_pred_DT_test_best))\n",
    "print('accuracy score of train : ',accuracy_score(y_train,y_pred_DT_train_best))"
   ]
  },
  {
   "cell_type": "code",
   "execution_count": 172,
   "id": "2526119f",
   "metadata": {},
   "outputs": [],
   "source": [
    "Decision_tree_train = accuracy_score(y_train,y_pred_DT_train_best)\n",
    "Decision_tree_test = accuracy_score(y_test,y_pred_DT_test_best)"
   ]
  },
  {
   "cell_type": "markdown",
   "id": "2c729773",
   "metadata": {},
   "source": [
    "### 3) Random forest"
   ]
  },
  {
   "cell_type": "code",
   "execution_count": 173,
   "id": "c28b9e1f",
   "metadata": {},
   "outputs": [],
   "source": [
    "from sklearn.ensemble import RandomForestClassifier"
   ]
  },
  {
   "cell_type": "code",
   "execution_count": 174,
   "id": "04e1abf8",
   "metadata": {},
   "outputs": [
    {
     "data": {
      "text/html": [
       "<style>#sk-container-id-5 {color: black;background-color: white;}#sk-container-id-5 pre{padding: 0;}#sk-container-id-5 div.sk-toggleable {background-color: white;}#sk-container-id-5 label.sk-toggleable__label {cursor: pointer;display: block;width: 100%;margin-bottom: 0;padding: 0.3em;box-sizing: border-box;text-align: center;}#sk-container-id-5 label.sk-toggleable__label-arrow:before {content: \"▸\";float: left;margin-right: 0.25em;color: #696969;}#sk-container-id-5 label.sk-toggleable__label-arrow:hover:before {color: black;}#sk-container-id-5 div.sk-estimator:hover label.sk-toggleable__label-arrow:before {color: black;}#sk-container-id-5 div.sk-toggleable__content {max-height: 0;max-width: 0;overflow: hidden;text-align: left;background-color: #f0f8ff;}#sk-container-id-5 div.sk-toggleable__content pre {margin: 0.2em;color: black;border-radius: 0.25em;background-color: #f0f8ff;}#sk-container-id-5 input.sk-toggleable__control:checked~div.sk-toggleable__content {max-height: 200px;max-width: 100%;overflow: auto;}#sk-container-id-5 input.sk-toggleable__control:checked~label.sk-toggleable__label-arrow:before {content: \"▾\";}#sk-container-id-5 div.sk-estimator input.sk-toggleable__control:checked~label.sk-toggleable__label {background-color: #d4ebff;}#sk-container-id-5 div.sk-label input.sk-toggleable__control:checked~label.sk-toggleable__label {background-color: #d4ebff;}#sk-container-id-5 input.sk-hidden--visually {border: 0;clip: rect(1px 1px 1px 1px);clip: rect(1px, 1px, 1px, 1px);height: 1px;margin: -1px;overflow: hidden;padding: 0;position: absolute;width: 1px;}#sk-container-id-5 div.sk-estimator {font-family: monospace;background-color: #f0f8ff;border: 1px dotted black;border-radius: 0.25em;box-sizing: border-box;margin-bottom: 0.5em;}#sk-container-id-5 div.sk-estimator:hover {background-color: #d4ebff;}#sk-container-id-5 div.sk-parallel-item::after {content: \"\";width: 100%;border-bottom: 1px solid gray;flex-grow: 1;}#sk-container-id-5 div.sk-label:hover label.sk-toggleable__label {background-color: #d4ebff;}#sk-container-id-5 div.sk-serial::before {content: \"\";position: absolute;border-left: 1px solid gray;box-sizing: border-box;top: 0;bottom: 0;left: 50%;z-index: 0;}#sk-container-id-5 div.sk-serial {display: flex;flex-direction: column;align-items: center;background-color: white;padding-right: 0.2em;padding-left: 0.2em;position: relative;}#sk-container-id-5 div.sk-item {position: relative;z-index: 1;}#sk-container-id-5 div.sk-parallel {display: flex;align-items: stretch;justify-content: center;background-color: white;position: relative;}#sk-container-id-5 div.sk-item::before, #sk-container-id-5 div.sk-parallel-item::before {content: \"\";position: absolute;border-left: 1px solid gray;box-sizing: border-box;top: 0;bottom: 0;left: 50%;z-index: -1;}#sk-container-id-5 div.sk-parallel-item {display: flex;flex-direction: column;z-index: 1;position: relative;background-color: white;}#sk-container-id-5 div.sk-parallel-item:first-child::after {align-self: flex-end;width: 50%;}#sk-container-id-5 div.sk-parallel-item:last-child::after {align-self: flex-start;width: 50%;}#sk-container-id-5 div.sk-parallel-item:only-child::after {width: 0;}#sk-container-id-5 div.sk-dashed-wrapped {border: 1px dashed gray;margin: 0 0.4em 0.5em 0.4em;box-sizing: border-box;padding-bottom: 0.4em;background-color: white;}#sk-container-id-5 div.sk-label label {font-family: monospace;font-weight: bold;display: inline-block;line-height: 1.2em;}#sk-container-id-5 div.sk-label-container {text-align: center;}#sk-container-id-5 div.sk-container {/* jupyter's `normalize.less` sets `[hidden] { display: none; }` but bootstrap.min.css set `[hidden] { display: none !important; }` so we also need the `!important` here to be able to override the default hidden behavior on the sphinx rendered scikit-learn.org. See: https://github.com/scikit-learn/scikit-learn/issues/21755 */display: inline-block !important;position: relative;}#sk-container-id-5 div.sk-text-repr-fallback {display: none;}</style><div id=\"sk-container-id-5\" class=\"sk-top-container\"><div class=\"sk-text-repr-fallback\"><pre>RandomForestClassifier(random_state=10)</pre><b>In a Jupyter environment, please rerun this cell to show the HTML representation or trust the notebook. <br />On GitHub, the HTML representation is unable to render, please try loading this page with nbviewer.org.</b></div><div class=\"sk-container\" hidden><div class=\"sk-item\"><div class=\"sk-estimator sk-toggleable\"><input class=\"sk-toggleable__control sk-hidden--visually\" id=\"sk-estimator-id-7\" type=\"checkbox\" checked><label for=\"sk-estimator-id-7\" class=\"sk-toggleable__label sk-toggleable__label-arrow\">RandomForestClassifier</label><div class=\"sk-toggleable__content\"><pre>RandomForestClassifier(random_state=10)</pre></div></div></div></div></div>"
      ],
      "text/plain": [
       "RandomForestClassifier(random_state=10)"
      ]
     },
     "execution_count": 174,
     "metadata": {},
     "output_type": "execute_result"
    }
   ],
   "source": [
    "RF_model = RandomForestClassifier(random_state=10)\n",
    "RF_model.fit(x_train,y_train)"
   ]
  },
  {
   "cell_type": "code",
   "execution_count": 175,
   "id": "e7efffb6",
   "metadata": {},
   "outputs": [
    {
     "name": "stdout",
     "output_type": "stream",
     "text": [
      "confusion matrix : \n",
      " [[11562   214]\n",
      " [  557  8448]]\n",
      "classification report :\n",
      "               precision    recall  f1-score   support\n",
      "\n",
      "           0       0.95      0.98      0.97     11776\n",
      "           1       0.98      0.94      0.96      9005\n",
      "\n",
      "    accuracy                           0.96     20781\n",
      "   macro avg       0.96      0.96      0.96     20781\n",
      "weighted avg       0.96      0.96      0.96     20781\n",
      "\n",
      "accuracy score :  0.9628988017900967\n",
      "accuracy score of train :  1.0\n"
     ]
    }
   ],
   "source": [
    "y_pred_RF_test = RF_model.predict(x_test)\n",
    "y_pred_RF_train = RF_model.predict(x_train)\n",
    "print('confusion matrix : \\n',confusion_matrix(y_test,y_pred_RF_test))\n",
    "print('classification report :\\n',classification_report(y_test,y_pred_RF_test))\n",
    "print('accuracy score : ',accuracy_score(y_test,y_pred_RF_test))\n",
    "print('accuracy score of train : ',accuracy_score(y_train,y_pred_RF_train))"
   ]
  },
  {
   "cell_type": "raw",
   "id": "06b02384",
   "metadata": {},
   "source": [
    "RandomizedSearchCV"
   ]
  },
  {
   "cell_type": "code",
   "execution_count": 176,
   "id": "6c16c52d",
   "metadata": {},
   "outputs": [
    {
     "data": {
      "text/html": [
       "<style>#sk-container-id-6 {color: black;background-color: white;}#sk-container-id-6 pre{padding: 0;}#sk-container-id-6 div.sk-toggleable {background-color: white;}#sk-container-id-6 label.sk-toggleable__label {cursor: pointer;display: block;width: 100%;margin-bottom: 0;padding: 0.3em;box-sizing: border-box;text-align: center;}#sk-container-id-6 label.sk-toggleable__label-arrow:before {content: \"▸\";float: left;margin-right: 0.25em;color: #696969;}#sk-container-id-6 label.sk-toggleable__label-arrow:hover:before {color: black;}#sk-container-id-6 div.sk-estimator:hover label.sk-toggleable__label-arrow:before {color: black;}#sk-container-id-6 div.sk-toggleable__content {max-height: 0;max-width: 0;overflow: hidden;text-align: left;background-color: #f0f8ff;}#sk-container-id-6 div.sk-toggleable__content pre {margin: 0.2em;color: black;border-radius: 0.25em;background-color: #f0f8ff;}#sk-container-id-6 input.sk-toggleable__control:checked~div.sk-toggleable__content {max-height: 200px;max-width: 100%;overflow: auto;}#sk-container-id-6 input.sk-toggleable__control:checked~label.sk-toggleable__label-arrow:before {content: \"▾\";}#sk-container-id-6 div.sk-estimator input.sk-toggleable__control:checked~label.sk-toggleable__label {background-color: #d4ebff;}#sk-container-id-6 div.sk-label input.sk-toggleable__control:checked~label.sk-toggleable__label {background-color: #d4ebff;}#sk-container-id-6 input.sk-hidden--visually {border: 0;clip: rect(1px 1px 1px 1px);clip: rect(1px, 1px, 1px, 1px);height: 1px;margin: -1px;overflow: hidden;padding: 0;position: absolute;width: 1px;}#sk-container-id-6 div.sk-estimator {font-family: monospace;background-color: #f0f8ff;border: 1px dotted black;border-radius: 0.25em;box-sizing: border-box;margin-bottom: 0.5em;}#sk-container-id-6 div.sk-estimator:hover {background-color: #d4ebff;}#sk-container-id-6 div.sk-parallel-item::after {content: \"\";width: 100%;border-bottom: 1px solid gray;flex-grow: 1;}#sk-container-id-6 div.sk-label:hover label.sk-toggleable__label {background-color: #d4ebff;}#sk-container-id-6 div.sk-serial::before {content: \"\";position: absolute;border-left: 1px solid gray;box-sizing: border-box;top: 0;bottom: 0;left: 50%;z-index: 0;}#sk-container-id-6 div.sk-serial {display: flex;flex-direction: column;align-items: center;background-color: white;padding-right: 0.2em;padding-left: 0.2em;position: relative;}#sk-container-id-6 div.sk-item {position: relative;z-index: 1;}#sk-container-id-6 div.sk-parallel {display: flex;align-items: stretch;justify-content: center;background-color: white;position: relative;}#sk-container-id-6 div.sk-item::before, #sk-container-id-6 div.sk-parallel-item::before {content: \"\";position: absolute;border-left: 1px solid gray;box-sizing: border-box;top: 0;bottom: 0;left: 50%;z-index: -1;}#sk-container-id-6 div.sk-parallel-item {display: flex;flex-direction: column;z-index: 1;position: relative;background-color: white;}#sk-container-id-6 div.sk-parallel-item:first-child::after {align-self: flex-end;width: 50%;}#sk-container-id-6 div.sk-parallel-item:last-child::after {align-self: flex-start;width: 50%;}#sk-container-id-6 div.sk-parallel-item:only-child::after {width: 0;}#sk-container-id-6 div.sk-dashed-wrapped {border: 1px dashed gray;margin: 0 0.4em 0.5em 0.4em;box-sizing: border-box;padding-bottom: 0.4em;background-color: white;}#sk-container-id-6 div.sk-label label {font-family: monospace;font-weight: bold;display: inline-block;line-height: 1.2em;}#sk-container-id-6 div.sk-label-container {text-align: center;}#sk-container-id-6 div.sk-container {/* jupyter's `normalize.less` sets `[hidden] { display: none; }` but bootstrap.min.css set `[hidden] { display: none !important; }` so we also need the `!important` here to be able to override the default hidden behavior on the sphinx rendered scikit-learn.org. See: https://github.com/scikit-learn/scikit-learn/issues/21755 */display: inline-block !important;position: relative;}#sk-container-id-6 div.sk-text-repr-fallback {display: none;}</style><div id=\"sk-container-id-6\" class=\"sk-top-container\"><div class=\"sk-text-repr-fallback\"><pre>RandomizedSearchCV(cv=5, estimator=RandomForestClassifier(random_state=10),\n",
       "                   param_distributions={&#x27;criterion&#x27;: [&#x27;gini&#x27;, &#x27;entropy&#x27;],\n",
       "                                        &#x27;max_depth&#x27;: array([1, 2, 3, 4, 5, 6, 7, 8, 9]),\n",
       "                                        &#x27;min_samples_leaf&#x27;: array([1, 2, 3, 4, 5, 6, 7, 8, 9]),\n",
       "                                        &#x27;min_samples_split&#x27;: array([2, 3, 4, 5, 6, 7, 8, 9]),\n",
       "                                        &#x27;n_estimators&#x27;: array([10, 11, 12, 13, 14, 15, 16, 17, 18, 19, 20, 21, 22, 23, 24, 25, 26,\n",
       "       27, 28, 29, 30, 31, 32, 33, 34, 35, 36, 37, 38, 39, 40, 41, 42, 43,\n",
       "       44, 45, 46, 47, 48, 49, 50, 51, 52, 53, 54, 55, 56, 57, 58, 59, 60,\n",
       "       61, 62, 63, 64, 65, 66, 67, 68, 69, 70, 71, 72, 73, 74, 75, 76, 77,\n",
       "       78, 79, 80, 81, 82, 83, 84, 85, 86, 87, 88, 89, 90, 91, 92, 93, 94,\n",
       "       95, 96, 97, 98, 99])})</pre><b>In a Jupyter environment, please rerun this cell to show the HTML representation or trust the notebook. <br />On GitHub, the HTML representation is unable to render, please try loading this page with nbviewer.org.</b></div><div class=\"sk-container\" hidden><div class=\"sk-item sk-dashed-wrapped\"><div class=\"sk-label-container\"><div class=\"sk-label sk-toggleable\"><input class=\"sk-toggleable__control sk-hidden--visually\" id=\"sk-estimator-id-8\" type=\"checkbox\" ><label for=\"sk-estimator-id-8\" class=\"sk-toggleable__label sk-toggleable__label-arrow\">RandomizedSearchCV</label><div class=\"sk-toggleable__content\"><pre>RandomizedSearchCV(cv=5, estimator=RandomForestClassifier(random_state=10),\n",
       "                   param_distributions={&#x27;criterion&#x27;: [&#x27;gini&#x27;, &#x27;entropy&#x27;],\n",
       "                                        &#x27;max_depth&#x27;: array([1, 2, 3, 4, 5, 6, 7, 8, 9]),\n",
       "                                        &#x27;min_samples_leaf&#x27;: array([1, 2, 3, 4, 5, 6, 7, 8, 9]),\n",
       "                                        &#x27;min_samples_split&#x27;: array([2, 3, 4, 5, 6, 7, 8, 9]),\n",
       "                                        &#x27;n_estimators&#x27;: array([10, 11, 12, 13, 14, 15, 16, 17, 18, 19, 20, 21, 22, 23, 24, 25, 26,\n",
       "       27, 28, 29, 30, 31, 32, 33, 34, 35, 36, 37, 38, 39, 40, 41, 42, 43,\n",
       "       44, 45, 46, 47, 48, 49, 50, 51, 52, 53, 54, 55, 56, 57, 58, 59, 60,\n",
       "       61, 62, 63, 64, 65, 66, 67, 68, 69, 70, 71, 72, 73, 74, 75, 76, 77,\n",
       "       78, 79, 80, 81, 82, 83, 84, 85, 86, 87, 88, 89, 90, 91, 92, 93, 94,\n",
       "       95, 96, 97, 98, 99])})</pre></div></div></div><div class=\"sk-parallel\"><div class=\"sk-parallel-item\"><div class=\"sk-item\"><div class=\"sk-label-container\"><div class=\"sk-label sk-toggleable\"><input class=\"sk-toggleable__control sk-hidden--visually\" id=\"sk-estimator-id-9\" type=\"checkbox\" ><label for=\"sk-estimator-id-9\" class=\"sk-toggleable__label sk-toggleable__label-arrow\">estimator: RandomForestClassifier</label><div class=\"sk-toggleable__content\"><pre>RandomForestClassifier(random_state=10)</pre></div></div></div><div class=\"sk-serial\"><div class=\"sk-item\"><div class=\"sk-estimator sk-toggleable\"><input class=\"sk-toggleable__control sk-hidden--visually\" id=\"sk-estimator-id-10\" type=\"checkbox\" ><label for=\"sk-estimator-id-10\" class=\"sk-toggleable__label sk-toggleable__label-arrow\">RandomForestClassifier</label><div class=\"sk-toggleable__content\"><pre>RandomForestClassifier(random_state=10)</pre></div></div></div></div></div></div></div></div></div></div>"
      ],
      "text/plain": [
       "RandomizedSearchCV(cv=5, estimator=RandomForestClassifier(random_state=10),\n",
       "                   param_distributions={'criterion': ['gini', 'entropy'],\n",
       "                                        'max_depth': array([1, 2, 3, 4, 5, 6, 7, 8, 9]),\n",
       "                                        'min_samples_leaf': array([1, 2, 3, 4, 5, 6, 7, 8, 9]),\n",
       "                                        'min_samples_split': array([2, 3, 4, 5, 6, 7, 8, 9]),\n",
       "                                        'n_estimators': array([10, 11, 12, 13, 14, 15, 16, 17, 18, 19, 20, 21, 22, 23, 24, 25, 26,\n",
       "       27, 28, 29, 30, 31, 32, 33, 34, 35, 36, 37, 38, 39, 40, 41, 42, 43,\n",
       "       44, 45, 46, 47, 48, 49, 50, 51, 52, 53, 54, 55, 56, 57, 58, 59, 60,\n",
       "       61, 62, 63, 64, 65, 66, 67, 68, 69, 70, 71, 72, 73, 74, 75, 76, 77,\n",
       "       78, 79, 80, 81, 82, 83, 84, 85, 86, 87, 88, 89, 90, 91, 92, 93, 94,\n",
       "       95, 96, 97, 98, 99])})"
      ]
     },
     "execution_count": 176,
     "metadata": {},
     "output_type": "execute_result"
    }
   ],
   "source": [
    "hyp = {'n_estimators' : np.arange(10,100),\n",
    "       'max_depth' : np.arange(1,10),\n",
    "       'min_samples_leaf' : np.arange(1,10),\n",
    "       'min_samples_split' : np.arange(2,10),\n",
    "       'criterion' : ['gini','entropy']}\n",
    "\n",
    "rf_clf = RandomForestClassifier(random_state=10)\n",
    "rscv_rf_clf = RandomizedSearchCV(rf_clf, hyp, cv = 5)\n",
    "rscv_rf_clf.fit(x_train,y_train)"
   ]
  },
  {
   "cell_type": "code",
   "execution_count": 177,
   "id": "2d4c1296",
   "metadata": {},
   "outputs": [
    {
     "data": {
      "text/plain": [
       "{'n_estimators': 95,\n",
       " 'min_samples_split': 4,\n",
       " 'min_samples_leaf': 2,\n",
       " 'max_depth': 7,\n",
       " 'criterion': 'gini'}"
      ]
     },
     "execution_count": 177,
     "metadata": {},
     "output_type": "execute_result"
    }
   ],
   "source": [
    "rscv_rf_clf.best_params_"
   ]
  },
  {
   "cell_type": "code",
   "execution_count": 178,
   "id": "5d5cce56",
   "metadata": {},
   "outputs": [
    {
     "data": {
      "text/html": [
       "<style>#sk-container-id-7 {color: black;background-color: white;}#sk-container-id-7 pre{padding: 0;}#sk-container-id-7 div.sk-toggleable {background-color: white;}#sk-container-id-7 label.sk-toggleable__label {cursor: pointer;display: block;width: 100%;margin-bottom: 0;padding: 0.3em;box-sizing: border-box;text-align: center;}#sk-container-id-7 label.sk-toggleable__label-arrow:before {content: \"▸\";float: left;margin-right: 0.25em;color: #696969;}#sk-container-id-7 label.sk-toggleable__label-arrow:hover:before {color: black;}#sk-container-id-7 div.sk-estimator:hover label.sk-toggleable__label-arrow:before {color: black;}#sk-container-id-7 div.sk-toggleable__content {max-height: 0;max-width: 0;overflow: hidden;text-align: left;background-color: #f0f8ff;}#sk-container-id-7 div.sk-toggleable__content pre {margin: 0.2em;color: black;border-radius: 0.25em;background-color: #f0f8ff;}#sk-container-id-7 input.sk-toggleable__control:checked~div.sk-toggleable__content {max-height: 200px;max-width: 100%;overflow: auto;}#sk-container-id-7 input.sk-toggleable__control:checked~label.sk-toggleable__label-arrow:before {content: \"▾\";}#sk-container-id-7 div.sk-estimator input.sk-toggleable__control:checked~label.sk-toggleable__label {background-color: #d4ebff;}#sk-container-id-7 div.sk-label input.sk-toggleable__control:checked~label.sk-toggleable__label {background-color: #d4ebff;}#sk-container-id-7 input.sk-hidden--visually {border: 0;clip: rect(1px 1px 1px 1px);clip: rect(1px, 1px, 1px, 1px);height: 1px;margin: -1px;overflow: hidden;padding: 0;position: absolute;width: 1px;}#sk-container-id-7 div.sk-estimator {font-family: monospace;background-color: #f0f8ff;border: 1px dotted black;border-radius: 0.25em;box-sizing: border-box;margin-bottom: 0.5em;}#sk-container-id-7 div.sk-estimator:hover {background-color: #d4ebff;}#sk-container-id-7 div.sk-parallel-item::after {content: \"\";width: 100%;border-bottom: 1px solid gray;flex-grow: 1;}#sk-container-id-7 div.sk-label:hover label.sk-toggleable__label {background-color: #d4ebff;}#sk-container-id-7 div.sk-serial::before {content: \"\";position: absolute;border-left: 1px solid gray;box-sizing: border-box;top: 0;bottom: 0;left: 50%;z-index: 0;}#sk-container-id-7 div.sk-serial {display: flex;flex-direction: column;align-items: center;background-color: white;padding-right: 0.2em;padding-left: 0.2em;position: relative;}#sk-container-id-7 div.sk-item {position: relative;z-index: 1;}#sk-container-id-7 div.sk-parallel {display: flex;align-items: stretch;justify-content: center;background-color: white;position: relative;}#sk-container-id-7 div.sk-item::before, #sk-container-id-7 div.sk-parallel-item::before {content: \"\";position: absolute;border-left: 1px solid gray;box-sizing: border-box;top: 0;bottom: 0;left: 50%;z-index: -1;}#sk-container-id-7 div.sk-parallel-item {display: flex;flex-direction: column;z-index: 1;position: relative;background-color: white;}#sk-container-id-7 div.sk-parallel-item:first-child::after {align-self: flex-end;width: 50%;}#sk-container-id-7 div.sk-parallel-item:last-child::after {align-self: flex-start;width: 50%;}#sk-container-id-7 div.sk-parallel-item:only-child::after {width: 0;}#sk-container-id-7 div.sk-dashed-wrapped {border: 1px dashed gray;margin: 0 0.4em 0.5em 0.4em;box-sizing: border-box;padding-bottom: 0.4em;background-color: white;}#sk-container-id-7 div.sk-label label {font-family: monospace;font-weight: bold;display: inline-block;line-height: 1.2em;}#sk-container-id-7 div.sk-label-container {text-align: center;}#sk-container-id-7 div.sk-container {/* jupyter's `normalize.less` sets `[hidden] { display: none; }` but bootstrap.min.css set `[hidden] { display: none !important; }` so we also need the `!important` here to be able to override the default hidden behavior on the sphinx rendered scikit-learn.org. See: https://github.com/scikit-learn/scikit-learn/issues/21755 */display: inline-block !important;position: relative;}#sk-container-id-7 div.sk-text-repr-fallback {display: none;}</style><div id=\"sk-container-id-7\" class=\"sk-top-container\"><div class=\"sk-text-repr-fallback\"><pre>RandomForestClassifier(criterion=&#x27;entropy&#x27;, max_depth=9, min_samples_leaf=8,\n",
       "                       min_samples_split=5, n_estimators=62)</pre><b>In a Jupyter environment, please rerun this cell to show the HTML representation or trust the notebook. <br />On GitHub, the HTML representation is unable to render, please try loading this page with nbviewer.org.</b></div><div class=\"sk-container\" hidden><div class=\"sk-item\"><div class=\"sk-estimator sk-toggleable\"><input class=\"sk-toggleable__control sk-hidden--visually\" id=\"sk-estimator-id-11\" type=\"checkbox\" checked><label for=\"sk-estimator-id-11\" class=\"sk-toggleable__label sk-toggleable__label-arrow\">RandomForestClassifier</label><div class=\"sk-toggleable__content\"><pre>RandomForestClassifier(criterion=&#x27;entropy&#x27;, max_depth=9, min_samples_leaf=8,\n",
       "                       min_samples_split=5, n_estimators=62)</pre></div></div></div></div></div>"
      ],
      "text/plain": [
       "RandomForestClassifier(criterion='entropy', max_depth=9, min_samples_leaf=8,\n",
       "                       min_samples_split=5, n_estimators=62)"
      ]
     },
     "execution_count": 178,
     "metadata": {},
     "output_type": "execute_result"
    }
   ],
   "source": [
    "best_RF_model = RandomForestClassifier(n_estimators=62,min_samples_split = 5,min_samples_leaf=8,max_depth=9,criterion = 'entropy')\n",
    "best_RF_model.fit(x_train,y_train)"
   ]
  },
  {
   "cell_type": "code",
   "execution_count": 179,
   "id": "37fc1556",
   "metadata": {},
   "outputs": [
    {
     "name": "stdout",
     "output_type": "stream",
     "text": [
      "confusion matrix : \n",
      " [[11223   553]\n",
      " [  686  8319]]\n",
      "classification report :\n",
      "               precision    recall  f1-score   support\n",
      "\n",
      "           0       0.94      0.95      0.95     11776\n",
      "           1       0.94      0.92      0.93      9005\n",
      "\n",
      "    accuracy                           0.94     20781\n",
      "   macro avg       0.94      0.94      0.94     20781\n",
      "weighted avg       0.94      0.94      0.94     20781\n",
      "\n",
      "accuracy score :  0.9403782301140465\n",
      "accuracy score of train :  0.9405820290413003\n"
     ]
    }
   ],
   "source": [
    "y_pred_RF_test = best_RF_model.predict(x_test)\n",
    "y_pred_RF_train = best_RF_model.predict(x_train)\n",
    "print('confusion matrix : \\n',confusion_matrix(y_test,y_pred_RF_test))\n",
    "print('classification report :\\n',classification_report(y_test,y_pred_RF_test))\n",
    "print('accuracy score : ',accuracy_score(y_test,y_pred_RF_test))\n",
    "print('accuracy score of train : ',accuracy_score(y_train,y_pred_RF_train))"
   ]
  },
  {
   "cell_type": "code",
   "execution_count": 180,
   "id": "c017f44f",
   "metadata": {},
   "outputs": [],
   "source": [
    "Random_forest_train = accuracy_score(y_train,y_pred_RF_train)\n",
    "Random_forest_test = accuracy_score(y_test,y_pred_RF_test)"
   ]
  },
  {
   "cell_type": "markdown",
   "id": "2afa6b39",
   "metadata": {},
   "source": [
    "### 4) Adaboost"
   ]
  },
  {
   "cell_type": "code",
   "execution_count": 181,
   "id": "7355dbb3",
   "metadata": {},
   "outputs": [],
   "source": [
    "from sklearn.ensemble import AdaBoostClassifier"
   ]
  },
  {
   "cell_type": "code",
   "execution_count": 182,
   "id": "3636bd36",
   "metadata": {},
   "outputs": [
    {
     "data": {
      "text/html": [
       "<style>#sk-container-id-8 {color: black;background-color: white;}#sk-container-id-8 pre{padding: 0;}#sk-container-id-8 div.sk-toggleable {background-color: white;}#sk-container-id-8 label.sk-toggleable__label {cursor: pointer;display: block;width: 100%;margin-bottom: 0;padding: 0.3em;box-sizing: border-box;text-align: center;}#sk-container-id-8 label.sk-toggleable__label-arrow:before {content: \"▸\";float: left;margin-right: 0.25em;color: #696969;}#sk-container-id-8 label.sk-toggleable__label-arrow:hover:before {color: black;}#sk-container-id-8 div.sk-estimator:hover label.sk-toggleable__label-arrow:before {color: black;}#sk-container-id-8 div.sk-toggleable__content {max-height: 0;max-width: 0;overflow: hidden;text-align: left;background-color: #f0f8ff;}#sk-container-id-8 div.sk-toggleable__content pre {margin: 0.2em;color: black;border-radius: 0.25em;background-color: #f0f8ff;}#sk-container-id-8 input.sk-toggleable__control:checked~div.sk-toggleable__content {max-height: 200px;max-width: 100%;overflow: auto;}#sk-container-id-8 input.sk-toggleable__control:checked~label.sk-toggleable__label-arrow:before {content: \"▾\";}#sk-container-id-8 div.sk-estimator input.sk-toggleable__control:checked~label.sk-toggleable__label {background-color: #d4ebff;}#sk-container-id-8 div.sk-label input.sk-toggleable__control:checked~label.sk-toggleable__label {background-color: #d4ebff;}#sk-container-id-8 input.sk-hidden--visually {border: 0;clip: rect(1px 1px 1px 1px);clip: rect(1px, 1px, 1px, 1px);height: 1px;margin: -1px;overflow: hidden;padding: 0;position: absolute;width: 1px;}#sk-container-id-8 div.sk-estimator {font-family: monospace;background-color: #f0f8ff;border: 1px dotted black;border-radius: 0.25em;box-sizing: border-box;margin-bottom: 0.5em;}#sk-container-id-8 div.sk-estimator:hover {background-color: #d4ebff;}#sk-container-id-8 div.sk-parallel-item::after {content: \"\";width: 100%;border-bottom: 1px solid gray;flex-grow: 1;}#sk-container-id-8 div.sk-label:hover label.sk-toggleable__label {background-color: #d4ebff;}#sk-container-id-8 div.sk-serial::before {content: \"\";position: absolute;border-left: 1px solid gray;box-sizing: border-box;top: 0;bottom: 0;left: 50%;z-index: 0;}#sk-container-id-8 div.sk-serial {display: flex;flex-direction: column;align-items: center;background-color: white;padding-right: 0.2em;padding-left: 0.2em;position: relative;}#sk-container-id-8 div.sk-item {position: relative;z-index: 1;}#sk-container-id-8 div.sk-parallel {display: flex;align-items: stretch;justify-content: center;background-color: white;position: relative;}#sk-container-id-8 div.sk-item::before, #sk-container-id-8 div.sk-parallel-item::before {content: \"\";position: absolute;border-left: 1px solid gray;box-sizing: border-box;top: 0;bottom: 0;left: 50%;z-index: -1;}#sk-container-id-8 div.sk-parallel-item {display: flex;flex-direction: column;z-index: 1;position: relative;background-color: white;}#sk-container-id-8 div.sk-parallel-item:first-child::after {align-self: flex-end;width: 50%;}#sk-container-id-8 div.sk-parallel-item:last-child::after {align-self: flex-start;width: 50%;}#sk-container-id-8 div.sk-parallel-item:only-child::after {width: 0;}#sk-container-id-8 div.sk-dashed-wrapped {border: 1px dashed gray;margin: 0 0.4em 0.5em 0.4em;box-sizing: border-box;padding-bottom: 0.4em;background-color: white;}#sk-container-id-8 div.sk-label label {font-family: monospace;font-weight: bold;display: inline-block;line-height: 1.2em;}#sk-container-id-8 div.sk-label-container {text-align: center;}#sk-container-id-8 div.sk-container {/* jupyter's `normalize.less` sets `[hidden] { display: none; }` but bootstrap.min.css set `[hidden] { display: none !important; }` so we also need the `!important` here to be able to override the default hidden behavior on the sphinx rendered scikit-learn.org. See: https://github.com/scikit-learn/scikit-learn/issues/21755 */display: inline-block !important;position: relative;}#sk-container-id-8 div.sk-text-repr-fallback {display: none;}</style><div id=\"sk-container-id-8\" class=\"sk-top-container\"><div class=\"sk-text-repr-fallback\"><pre>AdaBoostClassifier()</pre><b>In a Jupyter environment, please rerun this cell to show the HTML representation or trust the notebook. <br />On GitHub, the HTML representation is unable to render, please try loading this page with nbviewer.org.</b></div><div class=\"sk-container\" hidden><div class=\"sk-item\"><div class=\"sk-estimator sk-toggleable\"><input class=\"sk-toggleable__control sk-hidden--visually\" id=\"sk-estimator-id-12\" type=\"checkbox\" checked><label for=\"sk-estimator-id-12\" class=\"sk-toggleable__label sk-toggleable__label-arrow\">AdaBoostClassifier</label><div class=\"sk-toggleable__content\"><pre>AdaBoostClassifier()</pre></div></div></div></div></div>"
      ],
      "text/plain": [
       "AdaBoostClassifier()"
      ]
     },
     "execution_count": 182,
     "metadata": {},
     "output_type": "execute_result"
    }
   ],
   "source": [
    "AB_model = AdaBoostClassifier()\n",
    "AB_model.fit(x_train,y_train)"
   ]
  },
  {
   "cell_type": "code",
   "execution_count": 183,
   "id": "fc2aaa1b",
   "metadata": {},
   "outputs": [
    {
     "name": "stdout",
     "output_type": "stream",
     "text": [
      "confusion matrix : \n",
      " [[11120   656]\n",
      " [  867  8138]]\n",
      "classification report :\n",
      "               precision    recall  f1-score   support\n",
      "\n",
      "           0       0.93      0.94      0.94     11776\n",
      "           1       0.93      0.90      0.91      9005\n",
      "\n",
      "    accuracy                           0.93     20781\n",
      "   macro avg       0.93      0.92      0.93     20781\n",
      "weighted avg       0.93      0.93      0.93     20781\n",
      "\n",
      "accuracy score :  0.9267119002935373\n",
      "accuracy score of train :  0.9247500691745967\n"
     ]
    }
   ],
   "source": [
    "y_pred_AB_test = AB_model.predict(x_test)\n",
    "y_pred_AB_train = AB_model.predict(x_train)\n",
    "print('confusion matrix : \\n',confusion_matrix(y_test,y_pred_AB_test))\n",
    "print('classification report :\\n',classification_report(y_test,y_pred_AB_test))\n",
    "print('accuracy score : ',accuracy_score(y_test,y_pred_AB_test))\n",
    "print('accuracy score of train : ',accuracy_score(y_train,y_pred_AB_train))"
   ]
  },
  {
   "cell_type": "code",
   "execution_count": 184,
   "id": "a7df6c68",
   "metadata": {},
   "outputs": [],
   "source": [
    "Adaboost_train = accuracy_score(y_train,y_pred_AB_train)\n",
    "Adaboost_test = accuracy_score(y_test,y_pred_AB_test)"
   ]
  },
  {
   "cell_type": "code",
   "execution_count": 185,
   "id": "78001ee4",
   "metadata": {},
   "outputs": [],
   "source": [
    "score_df = pd.DataFrame()"
   ]
  },
  {
   "cell_type": "code",
   "execution_count": 186,
   "id": "2d64cc5b",
   "metadata": {},
   "outputs": [],
   "source": [
    "Logistic_regression_train = accuracy_score(y_train,y_pred_log_train)\n",
    "Logistic_regression_test = accuracy_score(y_test,y_pred_log_test)\n",
    "\n",
    "Decision_tree_train = accuracy_score(y_train,y_pred_DT_train_best)\n",
    "Decision_tree_test = accuracy_score(y_test,y_pred_DT_test_best)\n",
    "\n",
    "Random_forest_train = accuracy_score(y_train,y_pred_RF_train)\n",
    "Random_forest_test = accuracy_score(y_test,y_pred_RF_test)\n",
    "\n",
    "Adaboost_train = accuracy_score(y_train,y_pred_AB_train)\n",
    "Adaboost_test = accuracy_score(y_test,y_pred_AB_test)"
   ]
  },
  {
   "cell_type": "code",
   "execution_count": 187,
   "id": "3b247c77",
   "metadata": {},
   "outputs": [],
   "source": [
    "score_df['Algorithm_Name'] = ['Logistic_Regresion','Decision_Tree','Random_Forest','Adaboost']\n",
    "score_df['Training_accuracy'] = [Logistic_regression_train,Decision_tree_train,Random_forest_train,Adaboost_train]\n",
    "score_df['Test_accuracy'] = [Logistic_regression_test,Decision_tree_test,Random_forest_test,Adaboost_test]"
   ]
  },
  {
   "cell_type": "code",
   "execution_count": 188,
   "id": "2efa7d15",
   "metadata": {},
   "outputs": [
    {
     "data": {
      "text/html": [
       "<div>\n",
       "<style scoped>\n",
       "    .dataframe tbody tr th:only-of-type {\n",
       "        vertical-align: middle;\n",
       "    }\n",
       "\n",
       "    .dataframe tbody tr th {\n",
       "        vertical-align: top;\n",
       "    }\n",
       "\n",
       "    .dataframe thead th {\n",
       "        text-align: right;\n",
       "    }\n",
       "</style>\n",
       "<table border=\"1\" class=\"dataframe\">\n",
       "  <thead>\n",
       "    <tr style=\"text-align: right;\">\n",
       "      <th></th>\n",
       "      <th>Algorithm_Name</th>\n",
       "      <th>Training_accuracy</th>\n",
       "      <th>Test_accuracy</th>\n",
       "    </tr>\n",
       "  </thead>\n",
       "  <tbody>\n",
       "    <tr>\n",
       "      <th>0</th>\n",
       "      <td>Logistic_Regresion</td>\n",
       "      <td>0.873693</td>\n",
       "      <td>0.874982</td>\n",
       "    </tr>\n",
       "    <tr>\n",
       "      <th>1</th>\n",
       "      <td>Decision_Tree</td>\n",
       "      <td>0.860472</td>\n",
       "      <td>0.860161</td>\n",
       "    </tr>\n",
       "    <tr>\n",
       "      <th>2</th>\n",
       "      <td>Random_Forest</td>\n",
       "      <td>0.940582</td>\n",
       "      <td>0.940378</td>\n",
       "    </tr>\n",
       "    <tr>\n",
       "      <th>3</th>\n",
       "      <td>Adaboost</td>\n",
       "      <td>0.924750</td>\n",
       "      <td>0.926712</td>\n",
       "    </tr>\n",
       "  </tbody>\n",
       "</table>\n",
       "</div>"
      ],
      "text/plain": [
       "       Algorithm_Name  Training_accuracy  Test_accuracy\n",
       "0  Logistic_Regresion           0.873693       0.874982\n",
       "1       Decision_Tree           0.860472       0.860161\n",
       "2       Random_Forest           0.940582       0.940378\n",
       "3            Adaboost           0.924750       0.926712"
      ]
     },
     "execution_count": 188,
     "metadata": {},
     "output_type": "execute_result"
    }
   ],
   "source": [
    "score_df"
   ]
  },
  {
   "cell_type": "code",
   "execution_count": 189,
   "id": "40b4172d",
   "metadata": {},
   "outputs": [
    {
     "data": {
      "text/plain": [
       "array([0, 0, 1, 1, 1], dtype=int64)"
      ]
     },
     "execution_count": 189,
     "metadata": {},
     "output_type": "execute_result"
    }
   ],
   "source": [
    "RF_model.predict(x_test.head())"
   ]
  },
  {
   "cell_type": "code",
   "execution_count": 190,
   "id": "3e48dcc8",
   "metadata": {},
   "outputs": [
    {
     "data": {
      "text/plain": [
       "Index(['Gender', 'Customer Type', 'Age', 'Type of Travel', 'Class',\n",
       "       'Flight Distance', 'Inflight wifi service', 'Ease of Online booking',\n",
       "       'Food and drink', 'Online boarding', 'Seat comfort',\n",
       "       'Inflight entertainment', 'On-board service', 'Leg room service',\n",
       "       'Baggage handling', 'Checkin service', 'Inflight service',\n",
       "       'Cleanliness'],\n",
       "      dtype='object')"
      ]
     },
     "execution_count": 190,
     "metadata": {},
     "output_type": "execute_result"
    }
   ],
   "source": [
    "x_test.columns"
   ]
  },
  {
   "cell_type": "code",
   "execution_count": 192,
   "id": "463bf077",
   "metadata": {},
   "outputs": [
    {
     "data": {
      "text/html": [
       "<div>\n",
       "<style scoped>\n",
       "    .dataframe tbody tr th:only-of-type {\n",
       "        vertical-align: middle;\n",
       "    }\n",
       "\n",
       "    .dataframe tbody tr th {\n",
       "        vertical-align: top;\n",
       "    }\n",
       "\n",
       "    .dataframe thead th {\n",
       "        text-align: right;\n",
       "    }\n",
       "</style>\n",
       "<table border=\"1\" class=\"dataframe\">\n",
       "  <thead>\n",
       "    <tr style=\"text-align: right;\">\n",
       "      <th></th>\n",
       "      <th>Gender</th>\n",
       "      <th>Customer Type</th>\n",
       "      <th>Age</th>\n",
       "      <th>Type of Travel</th>\n",
       "      <th>Class</th>\n",
       "      <th>Flight Distance</th>\n",
       "      <th>Inflight wifi service</th>\n",
       "      <th>Ease of Online booking</th>\n",
       "      <th>Food and drink</th>\n",
       "      <th>Online boarding</th>\n",
       "      <th>Seat comfort</th>\n",
       "      <th>Inflight entertainment</th>\n",
       "      <th>On-board service</th>\n",
       "      <th>Leg room service</th>\n",
       "      <th>Baggage handling</th>\n",
       "      <th>Checkin service</th>\n",
       "      <th>Inflight service</th>\n",
       "      <th>Cleanliness</th>\n",
       "    </tr>\n",
       "  </thead>\n",
       "  <tbody>\n",
       "    <tr>\n",
       "      <th>49176</th>\n",
       "      <td>1</td>\n",
       "      <td>0</td>\n",
       "      <td>3.741657</td>\n",
       "      <td>0</td>\n",
       "      <td>1</td>\n",
       "      <td>36.193922</td>\n",
       "      <td>1</td>\n",
       "      <td>1</td>\n",
       "      <td>4</td>\n",
       "      <td>1</td>\n",
       "      <td>1</td>\n",
       "      <td>4</td>\n",
       "      <td>1</td>\n",
       "      <td>1</td>\n",
       "      <td>3</td>\n",
       "      <td>2</td>\n",
       "      <td>3</td>\n",
       "      <td>4</td>\n",
       "    </tr>\n",
       "  </tbody>\n",
       "</table>\n",
       "</div>"
      ],
      "text/plain": [
       "       Gender  Customer Type       Age  Type of Travel  Class  \\\n",
       "49176       1              0  3.741657               0      1   \n",
       "\n",
       "       Flight Distance  Inflight wifi service  Ease of Online booking  \\\n",
       "49176        36.193922                      1                       1   \n",
       "\n",
       "       Food and drink  Online boarding  Seat comfort  Inflight entertainment  \\\n",
       "49176               4                1             1                       4   \n",
       "\n",
       "       On-board service  Leg room service  Baggage handling  Checkin service  \\\n",
       "49176                 1                 1                 3                2   \n",
       "\n",
       "       Inflight service  Cleanliness  \n",
       "49176                 3            4  "
      ]
     },
     "execution_count": 192,
     "metadata": {},
     "output_type": "execute_result"
    }
   ],
   "source": [
    "x_test.head(1)"
   ]
  },
  {
   "cell_type": "code",
   "execution_count": 195,
   "id": "0b1a1d79",
   "metadata": {},
   "outputs": [],
   "source": [
    "def predct_satisfaction(Gender, Customer_Type, Age, Type_of_Travel, Class,\n",
    "       Flight_Distance, Inflight_wifi_service, Ease_of_Online_booking,\n",
    "       Food_and_drink, Online_boarding, Seat_comfort,\n",
    "       Inflight_entertainment, On_board_service, Leg_room_service,\n",
    "       Baggage_handling, Checkin_service, Inflight_service,\n",
    "       Cleanliness):\n",
    "    pred1 = RF_model.predict([[Gender, Customer_Type, Age, Type_of_Travel, Class,\n",
    "       Flight_Distance, Inflight_wifi_service, Ease_of_Online_booking,\n",
    "       Food_and_drink, Online_boarding, Seat_comfort,\n",
    "       Inflight_entertainment, On_board_service, Leg_room_service,\n",
    "       Baggage_handling, Checkin_service, Inflight_service,\n",
    "       Cleanliness]])\n",
    "    return pred1"
   ]
  },
  {
   "cell_type": "code",
   "execution_count": 197,
   "id": "991283e6",
   "metadata": {},
   "outputs": [
    {
     "data": {
      "text/plain": [
       "array([0], dtype=int64)"
      ]
     },
     "execution_count": 197,
     "metadata": {},
     "output_type": "execute_result"
    }
   ],
   "source": [
    "predct_satisfaction(1,0,3.8,0,1,37.0,1,1,4,1,1,4,1,1,3,2,3,4)"
   ]
  },
  {
   "cell_type": "code",
   "execution_count": 199,
   "id": "84b8f104",
   "metadata": {},
   "outputs": [
    {
     "name": "stdout",
     "output_type": "stream",
     "text": [
      "<class 'pandas.core.frame.DataFrame'>\n",
      "Int64Index: 20781 entries, 49176 to 87387\n",
      "Data columns (total 18 columns):\n",
      " #   Column                  Non-Null Count  Dtype  \n",
      "---  ------                  --------------  -----  \n",
      " 0   Gender                  20781 non-null  int64  \n",
      " 1   Customer Type           20781 non-null  int64  \n",
      " 2   Age                     20781 non-null  float64\n",
      " 3   Type of Travel          20781 non-null  int64  \n",
      " 4   Class                   20781 non-null  int64  \n",
      " 5   Flight Distance         20781 non-null  float64\n",
      " 6   Inflight wifi service   20781 non-null  int64  \n",
      " 7   Ease of Online booking  20781 non-null  int64  \n",
      " 8   Food and drink          20781 non-null  int64  \n",
      " 9   Online boarding         20781 non-null  int64  \n",
      " 10  Seat comfort            20781 non-null  int64  \n",
      " 11  Inflight entertainment  20781 non-null  int64  \n",
      " 12  On-board service        20781 non-null  int64  \n",
      " 13  Leg room service        20781 non-null  int64  \n",
      " 14  Baggage handling        20781 non-null  int64  \n",
      " 15  Checkin service         20781 non-null  int64  \n",
      " 16  Inflight service        20781 non-null  int64  \n",
      " 17  Cleanliness             20781 non-null  int64  \n",
      "dtypes: float64(2), int64(16)\n",
      "memory usage: 3.0 MB\n"
     ]
    }
   ],
   "source": [
    "x_test.info()"
   ]
  },
  {
   "cell_type": "code",
   "execution_count": 202,
   "id": "c32646e6",
   "metadata": {},
   "outputs": [],
   "source": [
    "import pickle\n",
    "import os"
   ]
  },
  {
   "cell_type": "code",
   "execution_count": 204,
   "id": "2cdc4447",
   "metadata": {},
   "outputs": [],
   "source": [
    "model_folder_path = 'model'\n",
    "if not os.path.exists(model_folder_path):\n",
    "    os.mkdir(model_folder_path)\n",
    "\n",
    "pickle.dump(RF_model,open(f'{model_folder_path}/model.pkl','wb'))"
   ]
  },
  {
   "cell_type": "code",
   "execution_count": null,
   "id": "7c4585dc",
   "metadata": {},
   "outputs": [],
   "source": []
  }
 ],
 "metadata": {
  "kernelspec": {
   "display_name": "Python 3 (ipykernel)",
   "language": "python",
   "name": "python3"
  },
  "language_info": {
   "codemirror_mode": {
    "name": "ipython",
    "version": 3
   },
   "file_extension": ".py",
   "mimetype": "text/x-python",
   "name": "python",
   "nbconvert_exporter": "python",
   "pygments_lexer": "ipython3",
   "version": "3.9.12"
  }
 },
 "nbformat": 4,
 "nbformat_minor": 5
}
